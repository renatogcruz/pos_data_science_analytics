{
 "cells": [
  {
   "cell_type": "markdown",
   "metadata": {},
   "source": [
    "## Unsupervised Machine Learning: Clustering I\n",
    "\n",
    "Aula nº 6\n",
    "\n",
    "Professora: [Adriana Silva](https://www.linkedin.com/in/adrianamms/)\n",
    "\n",
    "Aluno: [Renato Godoi da Cruz](https://linktr.ee/renatocruz)"
   ]
  },
  {
   "cell_type": "code",
   "execution_count": 4,
   "metadata": {},
   "outputs": [
    {
     "data": {
      "text/html": [
       "<dl>\n",
       "\t<dt>$platform</dt>\n",
       "\t\t<dd>'x86_64-w64-mingw32'</dd>\n",
       "\t<dt>$arch</dt>\n",
       "\t\t<dd>'x86_64'</dd>\n",
       "\t<dt>$os</dt>\n",
       "\t\t<dd>'mingw32'</dd>\n",
       "\t<dt>$system</dt>\n",
       "\t\t<dd>'x86_64, mingw32'</dd>\n",
       "\t<dt>$status</dt>\n",
       "\t\t<dd>''</dd>\n",
       "\t<dt>$major</dt>\n",
       "\t\t<dd>'3'</dd>\n",
       "\t<dt>$minor</dt>\n",
       "\t\t<dd>'6.1'</dd>\n",
       "\t<dt>$year</dt>\n",
       "\t\t<dd>'2019'</dd>\n",
       "\t<dt>$month</dt>\n",
       "\t\t<dd>'07'</dd>\n",
       "\t<dt>$day</dt>\n",
       "\t\t<dd>'05'</dd>\n",
       "\t<dt>$`svn rev`</dt>\n",
       "\t\t<dd>'76782'</dd>\n",
       "\t<dt>$language</dt>\n",
       "\t\t<dd>'R'</dd>\n",
       "\t<dt>$version.string</dt>\n",
       "\t\t<dd>'R version 3.6.1 (2019-07-05)'</dd>\n",
       "\t<dt>$nickname</dt>\n",
       "\t\t<dd>'Action of the Toes'</dd>\n",
       "</dl>\n"
      ],
      "text/latex": [
       "\\begin{description}\n",
       "\\item[\\$platform] 'x86\\_64-w64-mingw32'\n",
       "\\item[\\$arch] 'x86\\_64'\n",
       "\\item[\\$os] 'mingw32'\n",
       "\\item[\\$system] 'x86\\_64, mingw32'\n",
       "\\item[\\$status] ''\n",
       "\\item[\\$major] '3'\n",
       "\\item[\\$minor] '6.1'\n",
       "\\item[\\$year] '2019'\n",
       "\\item[\\$month] '07'\n",
       "\\item[\\$day] '05'\n",
       "\\item[\\$`svn rev`] '76782'\n",
       "\\item[\\$language] 'R'\n",
       "\\item[\\$version.string] 'R version 3.6.1 (2019-07-05)'\n",
       "\\item[\\$nickname] 'Action of the Toes'\n",
       "\\end{description}\n"
      ],
      "text/markdown": [
       "$platform\n",
       ":   'x86_64-w64-mingw32'\n",
       "$arch\n",
       ":   'x86_64'\n",
       "$os\n",
       ":   'mingw32'\n",
       "$system\n",
       ":   'x86_64, mingw32'\n",
       "$status\n",
       ":   ''\n",
       "$major\n",
       ":   '3'\n",
       "$minor\n",
       ":   '6.1'\n",
       "$year\n",
       ":   '2019'\n",
       "$month\n",
       ":   '07'\n",
       "$day\n",
       ":   '05'\n",
       "$`svn rev`\n",
       ":   '76782'\n",
       "$language\n",
       ":   'R'\n",
       "$version.string\n",
       ":   'R version 3.6.1 (2019-07-05)'\n",
       "$nickname\n",
       ":   'Action of the Toes'\n",
       "\n",
       "\n"
      ],
      "text/plain": [
       "$platform\n",
       "[1] \"x86_64-w64-mingw32\"\n",
       "\n",
       "$arch\n",
       "[1] \"x86_64\"\n",
       "\n",
       "$os\n",
       "[1] \"mingw32\"\n",
       "\n",
       "$system\n",
       "[1] \"x86_64, mingw32\"\n",
       "\n",
       "$status\n",
       "[1] \"\"\n",
       "\n",
       "$major\n",
       "[1] \"3\"\n",
       "\n",
       "$minor\n",
       "[1] \"6.1\"\n",
       "\n",
       "$year\n",
       "[1] \"2019\"\n",
       "\n",
       "$month\n",
       "[1] \"07\"\n",
       "\n",
       "$day\n",
       "[1] \"05\"\n",
       "\n",
       "$`svn rev`\n",
       "[1] \"76782\"\n",
       "\n",
       "$language\n",
       "[1] \"R\"\n",
       "\n",
       "$version.string\n",
       "[1] \"R version 3.6.1 (2019-07-05)\"\n",
       "\n",
       "$nickname\n",
       "[1] \"Action of the Toes\"\n"
      ]
     },
     "metadata": {},
     "output_type": "display_data"
    }
   ],
   "source": [
    "R.Version()\n",
    "\n"
   ]
  },
  {
   "cell_type": "code",
   "execution_count": 2,
   "metadata": {},
   "outputs": [
    {
     "name": "stderr",
     "output_type": "stream",
     "text": [
      "Loading required package: dendextend\n",
      "Warning message in library(package, lib.loc = lib.loc, character.only = TRUE, logical.return = TRUE, :\n",
      "\"there is no package called 'dendextend'\"also installing the dependencies 'viridisLite', 'gridExtra', 'viridis'\n",
      "\n"
     ]
    },
    {
     "name": "stdout",
     "output_type": "stream",
     "text": [
      "package 'viridisLite' successfully unpacked and MD5 sums checked\n",
      "package 'gridExtra' successfully unpacked and MD5 sums checked\n",
      "package 'viridis' successfully unpacked and MD5 sums checked\n",
      "package 'dendextend' successfully unpacked and MD5 sums checked\n",
      "\n",
      "The downloaded binary packages are in\n",
      "\tC:\\Users\\Renato\\AppData\\Local\\Temp\\Rtmp2bVoIp\\downloaded_packages\n"
     ]
    },
    {
     "name": "stderr",
     "output_type": "stream",
     "text": [
      "Warning message:\n",
      "\"package 'dendextend' was built under R version 3.6.3\"\n",
      "---------------------\n",
      "Welcome to dendextend version 1.15.1\n",
      "Type citation('dendextend') for how to cite the package.\n",
      "\n",
      "Type browseVignettes(package = 'dendextend') for the package vignette.\n",
      "The github page is: https://github.com/talgalili/dendextend/\n",
      "\n",
      "Suggestions and bug-reports can be submitted at: https://github.com/talgalili/dendextend/issues\n",
      "Or contact: <tal.galili@gmail.com>\n",
      "\n",
      "\tTo suppress this message use:  suppressPackageStartupMessages(library(dendextend))\n",
      "---------------------\n",
      "\n",
      "\n",
      "Attaching package: 'dendextend'\n",
      "\n",
      "The following object is masked from 'package:stats':\n",
      "\n",
      "    cutree\n",
      "\n",
      "Loading required package: factoextra\n",
      "Warning message in library(package, lib.loc = lib.loc, character.only = TRUE, logical.return = TRUE, :\n",
      "\"there is no package called 'factoextra'\"also installing the dependencies 'Rcpp', 'matrixStats', 'RcppArmadillo', 'zip', 'glue', 'SparseM', 'MatrixModels', 'conquer', 'sp', 'openxlsx', 'minqa', 'nloptr', 'RcppEigen', 'isoband', 'rlang', 'dplyr', 'lifecycle', 'vctrs', 'cpp11', 'ellipsis', 'pillar', 'carData', 'pbkrtest', 'quantreg', 'maptools', 'rio', 'lme4', 'crosstalk', 'ggplot2', 'tidyr', 'broom', 'tibble', 'corrplot', 'tidyselect', 'car', 'DT', 'ellipse', 'flashClust', 'leaps', 'scatterplot3d', 'ggsci', 'cowplot', 'ggsignif', 'polynom', 'rstatix', 'abind', 'FactoMineR', 'ggpubr', 'ggrepel'\n",
      "\n"
     ]
    },
    {
     "name": "stdout",
     "output_type": "stream",
     "text": [
      "\n",
      "  There are binary versions available but the source versions are later:\n",
      "                  binary     source needs_compilation\n",
      "matrixStats       0.58.0     0.59.0              TRUE\n",
      "RcppArmadillo 0.10.4.0.0 0.10.5.0.0              TRUE\n",
      "zip                2.1.1      2.2.0              TRUE\n",
      "openxlsx           4.2.3      4.2.4              TRUE\n",
      "pillar             1.6.0      1.6.1             FALSE\n",
      "quantreg            5.85       5.86              TRUE\n",
      "lme4              1.1-26     1.1-27              TRUE\n",
      "ggplot2            3.3.3      3.3.4             FALSE\n",
      "broom              0.7.6      0.7.7             FALSE\n",
      "tibble             3.1.1      3.1.2              TRUE\n",
      "corrplot            0.88       0.89             FALSE\n",
      "ggsignif           0.6.1      0.6.2             FALSE\n",
      "\n",
      "  Binaries will be installed\n"
     ]
    },
    {
     "name": "stderr",
     "output_type": "stream",
     "text": [
      "Warning message:\n",
      "\"packages 'dplyr', 'tidyr', 'tibble' are in use and will not be installed\""
     ]
    },
    {
     "name": "stdout",
     "output_type": "stream",
     "text": [
      "package 'Rcpp' successfully unpacked and MD5 sums checked\n"
     ]
    },
    {
     "name": "stderr",
     "output_type": "stream",
     "text": [
      "Warning message:\n",
      "\"cannot remove prior installation of package 'Rcpp'\"Warning message in file.copy(savedcopy, lib, recursive = TRUE):\n",
      "\"problem copying C:\\Users\\Renato\\anaconda3\\Lib\\R\\library\\00LOCK\\Rcpp\\libs\\x64\\Rcpp.dll to C:\\Users\\Renato\\anaconda3\\Lib\\R\\library\\Rcpp\\libs\\x64\\Rcpp.dll: Permission denied\"Warning message:\n",
      "\"restored 'Rcpp'\""
     ]
    },
    {
     "name": "stdout",
     "output_type": "stream",
     "text": [
      "package 'matrixStats' successfully unpacked and MD5 sums checked\n",
      "package 'RcppArmadillo' successfully unpacked and MD5 sums checked\n",
      "package 'zip' successfully unpacked and MD5 sums checked\n",
      "package 'glue' successfully unpacked and MD5 sums checked\n"
     ]
    },
    {
     "name": "stderr",
     "output_type": "stream",
     "text": [
      "Warning message:\n",
      "\"cannot remove prior installation of package 'glue'\"Warning message in file.copy(savedcopy, lib, recursive = TRUE):\n",
      "\"problem copying C:\\Users\\Renato\\anaconda3\\Lib\\R\\library\\00LOCK\\glue\\libs\\x64\\glue.dll to C:\\Users\\Renato\\anaconda3\\Lib\\R\\library\\glue\\libs\\x64\\glue.dll: Permission denied\"Warning message:\n",
      "\"restored 'glue'\""
     ]
    },
    {
     "name": "stdout",
     "output_type": "stream",
     "text": [
      "package 'SparseM' successfully unpacked and MD5 sums checked\n",
      "package 'MatrixModels' successfully unpacked and MD5 sums checked\n",
      "package 'conquer' successfully unpacked and MD5 sums checked\n",
      "package 'sp' successfully unpacked and MD5 sums checked\n",
      "package 'openxlsx' successfully unpacked and MD5 sums checked\n",
      "package 'minqa' successfully unpacked and MD5 sums checked\n",
      "package 'nloptr' successfully unpacked and MD5 sums checked\n",
      "package 'RcppEigen' successfully unpacked and MD5 sums checked\n",
      "package 'isoband' successfully unpacked and MD5 sums checked\n",
      "package 'rlang' successfully unpacked and MD5 sums checked\n"
     ]
    },
    {
     "name": "stderr",
     "output_type": "stream",
     "text": [
      "Warning message:\n",
      "\"cannot remove prior installation of package 'rlang'\"Warning message in file.copy(savedcopy, lib, recursive = TRUE):\n",
      "\"problem copying C:\\Users\\Renato\\anaconda3\\Lib\\R\\library\\00LOCK\\rlang\\libs\\x64\\rlang.dll to C:\\Users\\Renato\\anaconda3\\Lib\\R\\library\\rlang\\libs\\x64\\rlang.dll: Permission denied\"Warning message:\n",
      "\"restored 'rlang'\""
     ]
    },
    {
     "name": "stdout",
     "output_type": "stream",
     "text": [
      "package 'lifecycle' successfully unpacked and MD5 sums checked\n",
      "package 'vctrs' successfully unpacked and MD5 sums checked\n",
      "package 'cpp11' successfully unpacked and MD5 sums checked\n",
      "package 'ellipsis' successfully unpacked and MD5 sums checked\n",
      "package 'carData' successfully unpacked and MD5 sums checked\n",
      "package 'pbkrtest' successfully unpacked and MD5 sums checked\n",
      "package 'quantreg' successfully unpacked and MD5 sums checked\n",
      "package 'maptools' successfully unpacked and MD5 sums checked\n",
      "package 'rio' successfully unpacked and MD5 sums checked\n",
      "package 'lme4' successfully unpacked and MD5 sums checked\n",
      "package 'crosstalk' successfully unpacked and MD5 sums checked\n",
      "package 'tidyselect' successfully unpacked and MD5 sums checked\n"
     ]
    },
    {
     "name": "stderr",
     "output_type": "stream",
     "text": [
      "Warning message:\n",
      "\"cannot remove prior installation of package 'tidyselect'\"Warning message in file.copy(savedcopy, lib, recursive = TRUE):\n",
      "\"problem copying C:\\Users\\Renato\\anaconda3\\Lib\\R\\library\\00LOCK\\tidyselect\\libs\\x64\\tidyselect.dll to C:\\Users\\Renato\\anaconda3\\Lib\\R\\library\\tidyselect\\libs\\x64\\tidyselect.dll: Permission denied\"Warning message:\n",
      "\"restored 'tidyselect'\""
     ]
    },
    {
     "name": "stdout",
     "output_type": "stream",
     "text": [
      "package 'car' successfully unpacked and MD5 sums checked\n",
      "package 'DT' successfully unpacked and MD5 sums checked\n",
      "package 'ellipse' successfully unpacked and MD5 sums checked\n",
      "package 'flashClust' successfully unpacked and MD5 sums checked\n",
      "package 'leaps' successfully unpacked and MD5 sums checked\n",
      "package 'scatterplot3d' successfully unpacked and MD5 sums checked\n",
      "package 'ggsci' successfully unpacked and MD5 sums checked\n",
      "package 'cowplot' successfully unpacked and MD5 sums checked\n",
      "package 'polynom' successfully unpacked and MD5 sums checked\n",
      "package 'rstatix' successfully unpacked and MD5 sums checked\n",
      "package 'abind' successfully unpacked and MD5 sums checked\n",
      "package 'FactoMineR' successfully unpacked and MD5 sums checked\n",
      "package 'ggpubr' successfully unpacked and MD5 sums checked\n",
      "package 'ggrepel' successfully unpacked and MD5 sums checked\n",
      "package 'factoextra' successfully unpacked and MD5 sums checked\n",
      "\n",
      "The downloaded binary packages are in\n",
      "\tC:\\Users\\Renato\\AppData\\Local\\Temp\\Rtmp2bVoIp\\downloaded_packages\n"
     ]
    },
    {
     "name": "stderr",
     "output_type": "stream",
     "text": [
      "installing the source packages 'pillar', 'ggplot2', 'broom', 'corrplot', 'ggsignif'\n",
      "\n",
      "Warning message in install.packages(\"factoextra\"):\n",
      "\"installation of package 'pillar' had non-zero exit status\"Warning message in install.packages(\"factoextra\"):\n",
      "\"installation of package 'ggplot2' had non-zero exit status\"Warning message in install.packages(\"factoextra\"):\n",
      "\"installation of package 'broom' had non-zero exit status\"Warning message:\n",
      "\"package 'factoextra' was built under R version 3.6.3\"Welcome! Want to learn more? See two factoextra-related books at https://goo.gl/ve3WBa\n",
      "Loading required package: fpc\n",
      "Warning message in library(package, lib.loc = lib.loc, character.only = TRUE, logical.return = TRUE, :\n",
      "\"there is no package called 'fpc'\"also installing the dependencies 'modeltools', 'DEoptimR', 'mclust', 'flexmix', 'prabclus', 'diptest', 'robustbase', 'kernlab'\n",
      "\n"
     ]
    },
    {
     "name": "stdout",
     "output_type": "stream",
     "text": [
      "\n",
      "  There are binary versions available but the source versions are later:\n",
      "           binary source needs_compilation\n",
      "DEoptimR    1.0-8  1.0-9             FALSE\n",
      "robustbase 0.93-6 0.93-8              TRUE\n",
      "\n",
      "  Binaries will be installed\n",
      "package 'modeltools' successfully unpacked and MD5 sums checked\n",
      "package 'mclust' successfully unpacked and MD5 sums checked\n",
      "package 'flexmix' successfully unpacked and MD5 sums checked\n",
      "package 'prabclus' successfully unpacked and MD5 sums checked\n",
      "package 'diptest' successfully unpacked and MD5 sums checked\n",
      "package 'robustbase' successfully unpacked and MD5 sums checked\n",
      "package 'kernlab' successfully unpacked and MD5 sums checked\n",
      "package 'fpc' successfully unpacked and MD5 sums checked\n",
      "\n",
      "The downloaded binary packages are in\n",
      "\tC:\\Users\\Renato\\AppData\\Local\\Temp\\Rtmp2bVoIp\\downloaded_packages\n"
     ]
    },
    {
     "name": "stderr",
     "output_type": "stream",
     "text": [
      "installing the source package 'DEoptimR'\n",
      "\n",
      "Warning message:\n",
      "\"package 'fpc' was built under R version 3.6.3\"Loading required package: gridExtra\n",
      "Warning message:\n",
      "\"package 'gridExtra' was built under R version 3.6.3\"\n",
      "Attaching package: 'gridExtra'\n",
      "\n",
      "The following object is masked from 'package:dplyr':\n",
      "\n",
      "    combine\n",
      "\n",
      "Loading required package: readxl\n"
     ]
    }
   ],
   "source": [
    "# CHAMANDO BIBLIOTECAS IMPORTANTES\n",
    "\n",
    "#################################################################################################################\n",
    "# maneira de carregar os pacotes quando não temos certeza que já foram instalados\n",
    "\n",
    "#if(!require(nome_do_pacote)) install.packages(\"nome_do_pacote\") # Instalação do pacote caso não esteja instalado\n",
    "#library(nome_do_pacote)                                         # Carregamento do pacote\n",
    "\n",
    "#################################################################################################################\n",
    "\n",
    "if(!require(tidyverse)) install.packages(\"tidyverse\")\n",
    "library(tidyverse)               #pacote para manipulacao de dados\n",
    "if(!require(cluster)) install.packages(\"cluster\")\n",
    "library(cluster)                 #algoritmo de cluster\n",
    "if(!require(dendextend)) install.packages(\"dendextend\")\n",
    "library(dendextend)              #compara dendogramas\n",
    "if(!require(factoextra)) install.packages(\"factoextra\")\n",
    "library(factoextra)              #algoritmo de cluster e visualizacao\n",
    "if(!require(fpc)) install.packages(\"fpc\")\n",
    "library(fpc)                     #algoritmo de cluster e visualizacao\n",
    "if(!require(gridExtra)) install.packages(\"gridExtra\")\n",
    "library(gridExtra)               #para a funcao grid arrange\n",
    "if(!require(readxl)) install.packages(\"readxl\")\n",
    "library(readxl)"
   ]
  },
  {
   "cell_type": "code",
   "execution_count": null,
   "metadata": {},
   "outputs": [],
   "source": []
  }
 ],
 "metadata": {
  "kernelspec": {
   "display_name": "R",
   "language": "R",
   "name": "ir"
  },
  "language_info": {
   "codemirror_mode": "r",
   "file_extension": ".r",
   "mimetype": "text/x-r-source",
   "name": "R",
   "pygments_lexer": "r",
   "version": "3.6.1"
  }
 },
 "nbformat": 4,
 "nbformat_minor": 4
}
