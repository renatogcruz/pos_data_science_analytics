{
 "cells": [
  {
   "cell_type": "markdown",
   "metadata": {},
   "source": [
    "# Aula 5 - Unsupervised Machine Learning: Clustering I\n",
    "\n",
    "Dia 08/06/2021\n",
    "\n",
    "Aluno: [Renato Godoi da Cruz](https://linktr.ee/renatocruz)\n",
    "\n",
    "Professora: [Adriana Silva](https://www.linkedin.com/in/adrianamms/)\n",
    "\n",
    "| Aluno   | Matemática | Português |\n",
    "|---------|------------|-----------|\n",
    "|A  |       9    |  7        |\n",
    "|B    |       5    | 4|\n",
    "|C |6 |6|\n",
    "|D |10| 8|\n",
    "|E |4| 4|\n",
    "|F |4 |9|"
   ]
  },
  {
   "cell_type": "code",
   "execution_count": 81,
   "metadata": {},
   "outputs": [],
   "source": [
    "banco = {'A': \n",
    "        {'Matemativa': 9,\n",
    "         'Portugues': 7},\n",
    " \n",
    "      'B': \n",
    "        {'Matematica': 5,\n",
    "         'Portugues': 4}, \n",
    "\n",
    "      'C': \n",
    "        {'Matematica': 6, \n",
    "         'Portugues': 6},\n",
    " \n",
    "      'D': \n",
    "        {'Matematica': 10,\n",
    "         'Portugues': 8},\n",
    " \n",
    "      'E': \n",
    "        {'Matematica': 4, \n",
    "         'Portugues': 4}, \n",
    "\n",
    "      'F': \n",
    "         {'Matematica': 4,\n",
    "          'Portugues': 9}\n",
    "}"
   ]
  },
  {
   "cell_type": "code",
   "execution_count": 82,
   "metadata": {},
   "outputs": [
    {
     "data": {
      "text/plain": [
       "{'A': {'Matemativa': 9, 'Portugues': 7},\n",
       " 'B': {'Matematica': 5, 'Portugues': 4},\n",
       " 'C': {'Matematica': 6, 'Portugues': 6},\n",
       " 'D': {'Matematica': 10, 'Portugues': 8},\n",
       " 'E': {'Matematica': 4, 'Portugues': 4},\n",
       " 'F': {'Matematica': 4, 'Portugues': 9}}"
      ]
     },
     "execution_count": 82,
     "metadata": {},
     "output_type": "execute_result"
    }
   ],
   "source": [
    "banco"
   ]
  },
  {
   "cell_type": "markdown",
   "metadata": {},
   "source": [
    "## Testando o banco de dados\n"
   ]
  },
  {
   "cell_type": "code",
   "execution_count": 83,
   "metadata": {},
   "outputs": [
    {
     "data": {
      "text/plain": [
       "dict_keys(['A', 'B', 'C', 'D', 'E', 'F'])"
      ]
     },
     "execution_count": 83,
     "metadata": {},
     "output_type": "execute_result"
    }
   ],
   "source": [
    "# acessando todos os alunos\n",
    "\n",
    "banco.keys()"
   ]
  },
  {
   "cell_type": "code",
   "execution_count": 84,
   "metadata": {},
   "outputs": [
    {
     "data": {
      "text/plain": [
       "dict_values([{'Matemativa': 9, 'Portugues': 7}, {'Matematica': 5, 'Portugues': 4}, {'Matematica': 6, 'Portugues': 6}, {'Matematica': 10, 'Portugues': 8}, {'Matematica': 4, 'Portugues': 4}, {'Matematica': 4, 'Portugues': 9}])"
      ]
     },
     "execution_count": 84,
     "metadata": {},
     "output_type": "execute_result"
    }
   ],
   "source": [
    "# acessando todas as notas dos alunos\n",
    "\n",
    "banco.values()"
   ]
  },
  {
   "cell_type": "code",
   "execution_count": 85,
   "metadata": {},
   "outputs": [
    {
     "data": {
      "text/plain": [
       "{'Matemativa': 9, 'Portugues': 7}"
      ]
     },
     "execution_count": 85,
     "metadata": {},
     "output_type": "execute_result"
    }
   ],
   "source": [
    "# acessando todas as notas de um aluno específico\n",
    "banco['A']"
   ]
  },
  {
   "cell_type": "markdown",
   "metadata": {},
   "source": [
    "## Calculando a distância euclidiana\n",
    "\n",
    "Nesse caso a distância entre os dois pontos é dada pela forma:\n",
    "\n",
    "![Image of Yaktocat](https://render.githubusercontent.com/render/math?math=%5Cbegin%7Balign%2A%7D%0A%5Ctext%7Bdist%7D%28x%5E%7B%281%29%7D%2C%20x%5E%7B%282%29%7D%29%20%26amp%3B%3D%20%5Csqrt%7B%28x%5E%7B%281%29%7D_1%20-%20x%5E%7B%282%29%7D_1%29%5E2%20%2B%20%28x%5E%7B%281%29%7D_2%20-%20x%5E%7B%282%29%7D_2%29%5E2%7D%20%5C%5C%0A%20%20%26amp%3B%3D%20%5Csqrt%7B%283%20-%201.5%29%5E2%20%2B%20%283.5%20-%204%29%5E2%7D%20%5C%5C%0A%20%20%26amp%3B%3D%20%5Csqrt%7B2.25%20%2B%202.25%7D%20%5C%5C%0A%20%20%26amp%3B%3D%20%5Csqrt%7B4.5%7D%20%5C%5C%0A%20%20%26amp%3B%3D%202.1213203435596424%0A%5Cend%7Balign%2A%7D&mode=display.png)\n",
    "\n",
    "A imagem abaixo exemplifica o cálculo da distãncia eucliana\n",
    "\n",
    "<img src=\"Euclidean_distance_2d.png\">\n",
    "\n",
    "Para isso, usaremos a funçãp *.pow()* do python\n",
    "\n",
    "**Função .pow()**\n",
    "\n",
    "A função *.pow()* retorna um valor à potência de outro.\n",
    "\n",
    "Exemplo:\n",
    "\n",
    "```python\n",
    "math.pow(x, y)\n",
    "```\n",
    "\n",
    "Retorna x elevado à potência y. \n",
    "\n",
    "Ao contrário do operador embutido , math.pow() converte ambos os seus argumentos para o tipo float. Use ou a função embutida pow() para calcular potências inteiras exatas.\n",
    "\n"
   ]
  },
  {
   "cell_type": "code",
   "execution_count": 86,
   "metadata": {},
   "outputs": [],
   "source": [
    "from math import sqrt"
   ]
  },
  {
   "cell_type": "code",
   "execution_count": 87,
   "metadata": {},
   "outputs": [],
   "source": [
    "def euclidiana(base, aluno1, aluno2):\n",
    "    si = {}                                             # lista de similaridade\n",
    "    for item in base[aluno1]:                           # item = disciplina #base == banco de dados)\n",
    "        if item in base[aluno2]: si[item] = 1           # verifica se o item(disciplina) tem  nota para ambos\n",
    "    \n",
    "    if len(si) == 0: return 0\n",
    "    \n",
    "    soma = sum([pow(base[aluno1][item] - base[aluno2][item], 2)\n",
    "                   for item in base[aluno1] if item in base[aluno2]]) \n",
    "    \n",
    "    raiz = sqrt(soma)\n",
    "    \n",
    "    return raiz #1/(1 + sqrt(soma))                           # porcentagem de similaridade"
   ]
  },
  {
   "cell_type": "code",
   "execution_count": 100,
   "metadata": {},
   "outputs": [
    {
     "data": {
      "text/plain": [
       "6.4031242374328485"
      ]
     },
     "execution_count": 100,
     "metadata": {},
     "output_type": "execute_result"
    }
   ],
   "source": [
    "# testando função\n",
    "\n",
    "euclidiana(banco, \"B\", \"D\")"
   ]
  },
  {
   "cell_type": "code",
   "execution_count": 89,
   "metadata": {},
   "outputs": [
    {
     "data": {
      "text/plain": [
       "3.0"
      ]
     },
     "execution_count": 89,
     "metadata": {},
     "output_type": "execute_result"
    }
   ],
   "source": [
    "euclidiana(banco, \"A\", \"B\")"
   ]
  },
  {
   "cell_type": "markdown",
   "metadata": {},
   "source": [
    "## Função para retornar a similaridade de todos os alunos"
   ]
  },
  {
   "cell_type": "code",
   "execution_count": 91,
   "metadata": {},
   "outputs": [],
   "source": [
    "# Calcular a distância de todos\n",
    "\n",
    "def getDistancias(base, aluno):\n",
    "    distancia = [(euclidiana(base, aluno, outro), outro)      # retornará a distância, nome do outro aluno\n",
    "                    for outro in base if outro != aluno]\n",
    "    \n",
    "    distancia.sort()                                          # Ordem crescente  \n",
    "    return distancia"
   ]
  },
  {
   "cell_type": "code",
   "execution_count": 95,
   "metadata": {},
   "outputs": [
    {
     "data": {
      "text/plain": [
       "[(1.0, 'C'), (1.0, 'D'), (2.0, 'F'), (3.0, 'B'), (3.0, 'E')]"
      ]
     },
     "execution_count": 95,
     "metadata": {},
     "output_type": "execute_result"
    }
   ],
   "source": [
    "getDistancias(banco, 'A')"
   ]
  },
  {
   "cell_type": "code",
   "execution_count": 96,
   "metadata": {},
   "outputs": [
    {
     "data": {
      "text/plain": [
       "[(1.0, 'E'),\n",
       " (2.23606797749979, 'C'),\n",
       " (3.0, 'A'),\n",
       " (5.0990195135927845, 'F'),\n",
       " (6.4031242374328485, 'D')]"
      ]
     },
     "execution_count": 96,
     "metadata": {},
     "output_type": "execute_result"
    }
   ],
   "source": [
    "getDistancias(banco, 'B')"
   ]
  },
  {
   "cell_type": "code",
   "execution_count": 97,
   "metadata": {},
   "outputs": [
    {
     "data": {
      "text/plain": [
       "[(1.0, 'A'),\n",
       " (2.23606797749979, 'B'),\n",
       " (2.8284271247461903, 'E'),\n",
       " (3.605551275463989, 'F'),\n",
       " (4.47213595499958, 'D')]"
      ]
     },
     "execution_count": 97,
     "metadata": {},
     "output_type": "execute_result"
    }
   ],
   "source": [
    "getDistancias(banco, 'C')"
   ]
  },
  {
   "cell_type": "code",
   "execution_count": 98,
   "metadata": {},
   "outputs": [
    {
     "data": {
      "text/plain": [
       "[(1.0, 'A'),\n",
       " (4.47213595499958, 'C'),\n",
       " (6.082762530298219, 'F'),\n",
       " (6.4031242374328485, 'B'),\n",
       " (7.211102550927978, 'E')]"
      ]
     },
     "execution_count": 98,
     "metadata": {},
     "output_type": "execute_result"
    }
   ],
   "source": [
    "getDistancias(banco, 'D')"
   ]
  },
  {
   "cell_type": "code",
   "execution_count": 99,
   "metadata": {},
   "outputs": [
    {
     "data": {
      "text/plain": [
       "[(1.0, 'B'),\n",
       " (2.8284271247461903, 'C'),\n",
       " (3.0, 'A'),\n",
       " (5.0, 'F'),\n",
       " (7.211102550927978, 'D')]"
      ]
     },
     "execution_count": 99,
     "metadata": {},
     "output_type": "execute_result"
    }
   ],
   "source": [
    "getDistancias(banco, 'E')"
   ]
  },
  {
   "cell_type": "code",
   "execution_count": null,
   "metadata": {},
   "outputs": [],
   "source": []
  },
  {
   "cell_type": "code",
   "execution_count": 78,
   "metadata": {},
   "outputs": [],
   "source": [
    "# Função para agrupar (Clustering)\n",
    "\n"
   ]
  },
  {
   "cell_type": "code",
   "execution_count": null,
   "metadata": {},
   "outputs": [],
   "source": []
  },
  {
   "cell_type": "code",
   "execution_count": null,
   "metadata": {},
   "outputs": [],
   "source": []
  },
  {
   "cell_type": "code",
   "execution_count": null,
   "metadata": {},
   "outputs": [],
   "source": []
  }
 ],
 "metadata": {
  "kernelspec": {
   "display_name": "Python 3",
   "language": "python",
   "name": "python3"
  },
  "language_info": {
   "codemirror_mode": {
    "name": "ipython",
    "version": 3
   },
   "file_extension": ".py",
   "mimetype": "text/x-python",
   "name": "python",
   "nbconvert_exporter": "python",
   "pygments_lexer": "ipython3",
   "version": "3.8.5"
  }
 },
 "nbformat": 4,
 "nbformat_minor": 4
}
