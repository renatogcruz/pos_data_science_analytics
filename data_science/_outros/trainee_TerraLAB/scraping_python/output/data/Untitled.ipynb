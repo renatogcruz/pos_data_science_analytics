{
 "cells": [
  {
   "cell_type": "code",
   "execution_count": 1,
   "metadata": {},
   "outputs": [],
   "source": [
    "import pandas as pd"
   ]
  },
  {
   "cell_type": "code",
   "execution_count": 8,
   "metadata": {},
   "outputs": [],
   "source": [
    "df = pd.read_csv('dataset.csv')"
   ]
  },
  {
   "cell_type": "code",
   "execution_count": 4,
   "metadata": {},
   "outputs": [
    {
     "data": {
      "text/html": [
       "<div>\n",
       "<style scoped>\n",
       "    .dataframe tbody tr th:only-of-type {\n",
       "        vertical-align: middle;\n",
       "    }\n",
       "\n",
       "    .dataframe tbody tr th {\n",
       "        vertical-align: top;\n",
       "    }\n",
       "\n",
       "    .dataframe thead th {\n",
       "        text-align: right;\n",
       "    }\n",
       "</style>\n",
       "<table border=\"1\" class=\"dataframe\">\n",
       "  <thead>\n",
       "    <tr style=\"text-align: right;\">\n",
       "      <th></th>\n",
       "      <th></th>\n",
       "      <th></th>\n",
       "      <th>value;name;category;motor;description;location;items;opportunity</th>\n",
       "    </tr>\n",
       "  </thead>\n",
       "  <tbody>\n",
       "    <tr>\n",
       "      <th>R$ 338.000;LAMBORGHINI AVENTADOR;USADO;Motor 1.8 16v;Ano 1993 - 55.286 km;Belo Horizonte - MG;['4 X 4'</th>\n",
       "      <th>'Câmera de estacionamento'</th>\n",
       "      <th>'Controle de tração'</th>\n",
       "      <td>'Sensor de estacionamento'];</td>\n",
       "    </tr>\n",
       "    <tr>\n",
       "      <th>R$ 346.000;BMW M2;USADO;Motor 3.0 32v;Ano 2018 - 83.447 km;Belo Horizonte - MG;['Câmera de estacionamento'</th>\n",
       "      <th>'Controle de estabilidade'</th>\n",
       "      <th>'Travas elétricas'</th>\n",
       "      <td>'Freios ABS'];</td>\n",
       "    </tr>\n",
       "    <tr>\n",
       "      <th>R$ 480.000;ALFA;USADO;Motor 1.8 16v;Ano 2004 - 19.722 km;Rio de Janeiro - RJ;['Central multimídia'</th>\n",
       "      <th>'Bancos de couro'</th>\n",
       "      <th>'Rodas de liga'</th>\n",
       "      <td>'Câmera de estacionamento'];</td>\n",
       "    </tr>\n",
       "    <tr>\n",
       "      <th>R$ 133.000;PUECH;USADO;Motor Diesel V8;Ano 1992 - 34.335 km;São Paulo - SP;['Bancos de couro'</th>\n",
       "      <th>'Freios ABS'</th>\n",
       "      <th>'Rodas de liga'</th>\n",
       "      <td>'Câmbio automático'];</td>\n",
       "    </tr>\n",
       "    <tr>\n",
       "      <th>R$ 175.000;LAMBORGHINI MURCIELAGO;USADO;Motor 1.0 8v;Ano 1991 - 464 km;Belo Horizonte - MG;['Central multimídia'</th>\n",
       "      <th>'Teto panorâmico'</th>\n",
       "      <th>'Sensor crepuscular'</th>\n",
       "      <td>'Piloto automático'];</td>\n",
       "    </tr>\n",
       "  </tbody>\n",
       "</table>\n",
       "</div>"
      ],
      "text/plain": [
       "                                                                                                     value;name;category;motor;description;location;items;opportunity\n",
       "R$ 338.000;LAMBORGHINI AVENTADOR;USADO;Motor 1....  'Câmera de estacionamento'  'Controle de tração'                       'Sensor de estacionamento'];              \n",
       "R$ 346.000;BMW M2;USADO;Motor 3.0 32v;Ano 2018 ...  'Controle de estabilidade'  'Travas elétricas'                                       'Freios ABS'];              \n",
       "R$ 480.000;ALFA;USADO;Motor 1.8 16v;Ano 2004 - ...  'Bancos de couro'           'Rodas de liga'                            'Câmera de estacionamento'];              \n",
       "R$ 133.000;PUECH;USADO;Motor Diesel V8;Ano 1992...  'Freios ABS'                'Rodas de liga'                                   'Câmbio automático'];              \n",
       "R$ 175.000;LAMBORGHINI MURCIELAGO;USADO;Motor 1...  'Teto panorâmico'           'Sensor crepuscular'                              'Piloto automático'];              "
      ]
     },
     "execution_count": 4,
     "metadata": {},
     "output_type": "execute_result"
    }
   ],
   "source": [
    "df.head()"
   ]
  },
  {
   "cell_type": "code",
   "execution_count": null,
   "metadata": {},
   "outputs": [],
   "source": []
  }
 ],
 "metadata": {
  "kernelspec": {
   "display_name": "Python 3",
   "language": "python",
   "name": "python3"
  },
  "language_info": {
   "codemirror_mode": {
    "name": "ipython",
    "version": 3
   },
   "file_extension": ".py",
   "mimetype": "text/x-python",
   "name": "python",
   "nbconvert_exporter": "python",
   "pygments_lexer": "ipython3",
   "version": "3.8.5"
  }
 },
 "nbformat": 4,
 "nbformat_minor": 4
}
