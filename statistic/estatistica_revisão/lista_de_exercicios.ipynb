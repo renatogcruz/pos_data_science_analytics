{
 "cells": [
  {
   "cell_type": "code",
   "execution_count": 503,
   "id": "71d212b7",
   "metadata": {},
   "outputs": [],
   "source": [
    "import pandas as pd\n",
    "import numpy as np\n",
    "import seaborn as sns\n",
    "import matplotlib.pyplot as plt\n",
    "import warnings\n",
    "warnings.filterwarnings(\"ignore\")\n",
    "sns.set_theme(style='ticks')"
   ]
  },
  {
   "cell_type": "markdown",
   "id": "31f8ccf2",
   "metadata": {},
   "source": [
    "# <font color=green>Exercício 1<font>"
   ]
  },
  {
   "cell_type": "code",
   "execution_count": 152,
   "id": "4b01365f",
   "metadata": {},
   "outputs": [],
   "source": [
    "# Import dos dados\n",
    "dados = pd.read_excel(\"Lista de Exercícios - Complementares (Final).xlsx\", sheet_name=\"Exercício 1\", usecols='A:B', nrows=50, engine=\"openpyxl\")"
   ]
  },
  {
   "cell_type": "code",
   "execution_count": 153,
   "id": "1d1d9f3f",
   "metadata": {},
   "outputs": [],
   "source": [
    "# Renomeando os nomes das colunas\n",
    "dados.rename(columns={'Observação':'observacao', 'Renda (R$)':'renda'}, inplace=True)"
   ]
  },
  {
   "cell_type": "code",
   "execution_count": 154,
   "id": "79374f64",
   "metadata": {},
   "outputs": [
    {
     "name": "stdout",
     "output_type": "stream",
     "text": [
      "Número de observações é de 50\n"
     ]
    }
   ],
   "source": [
    "# Número de observações\n",
    "n_obs = len(dados)\n",
    "print('Número de observações é de %.d'% n_obs)"
   ]
  },
  {
   "cell_type": "code",
   "execution_count": 155,
   "id": "31d3ce7d",
   "metadata": {},
   "outputs": [],
   "source": [
    "# Definindo a lista de labels e classes\n",
    "labels = ['0-2000','2001-4000','4001-6000','6001-8000','8001-10000','10001-12000']\n",
    "classes = [0, 2000, 4000, 6000, 8000, 10000, 12000]"
   ]
  },
  {
   "cell_type": "code",
   "execution_count": 156,
   "id": "92cd4f17",
   "metadata": {},
   "outputs": [],
   "source": [
    "# Frequência absoluta\n",
    "frequencia_abs = pd.value_counts(\n",
    "                   pd.cut(x = dados.renda,\n",
    "                     bins = classes,\n",
    "                     labels = labels,\n",
    "                     include_lowest = True)\n",
    "                ,sort=False)            "
   ]
  },
  {
   "cell_type": "code",
   "execution_count": 157,
   "id": "c5777153",
   "metadata": {},
   "outputs": [],
   "source": [
    "# Frequencia relativa\n",
    "frequencia_rel = pd.value_counts(\n",
    "                  pd.cut(x = dados.renda,\n",
    "                         bins = classes,\n",
    "                         labels = labels,\n",
    "                         include_lowest = True)\n",
    "                ,sort=False, normalize=True)*100            "
   ]
  },
  {
   "cell_type": "code",
   "execution_count": 158,
   "id": "8e7a4ad7",
   "metadata": {},
   "outputs": [],
   "source": [
    "# Frequencia acumulada\n",
    "frequencia_acum = frequencia_abs.cumsum()\n",
    "\n",
    "# Frequencia acumulada relativa\n",
    "frequencia_acum_rel = frequencia_rel.cumsum() *100"
   ]
  },
  {
   "cell_type": "code",
   "execution_count": 159,
   "id": "ca4bbe43",
   "metadata": {},
   "outputs": [
    {
     "data": {
      "text/html": [
       "<div>\n",
       "<style scoped>\n",
       "    .dataframe tbody tr th:only-of-type {\n",
       "        vertical-align: middle;\n",
       "    }\n",
       "\n",
       "    .dataframe tbody tr th {\n",
       "        vertical-align: top;\n",
       "    }\n",
       "\n",
       "    .dataframe thead th {\n",
       "        text-align: right;\n",
       "    }\n",
       "</style>\n",
       "<table border=\"1\" class=\"dataframe\">\n",
       "  <thead>\n",
       "    <tr style=\"text-align: right;\">\n",
       "      <th></th>\n",
       "      <th>frequencia_absoluta</th>\n",
       "      <th>frequencia_relativa</th>\n",
       "      <th>frequencia_absoluta_acum</th>\n",
       "      <th>frequencia_acum_rel</th>\n",
       "    </tr>\n",
       "  </thead>\n",
       "  <tbody>\n",
       "    <tr>\n",
       "      <th>0-2000</th>\n",
       "      <td>9</td>\n",
       "      <td>18.0</td>\n",
       "      <td>9</td>\n",
       "      <td>1800.0</td>\n",
       "    </tr>\n",
       "    <tr>\n",
       "      <th>2001-4000</th>\n",
       "      <td>19</td>\n",
       "      <td>38.0</td>\n",
       "      <td>28</td>\n",
       "      <td>5600.0</td>\n",
       "    </tr>\n",
       "    <tr>\n",
       "      <th>4001-6000</th>\n",
       "      <td>11</td>\n",
       "      <td>22.0</td>\n",
       "      <td>39</td>\n",
       "      <td>7800.0</td>\n",
       "    </tr>\n",
       "    <tr>\n",
       "      <th>6001-8000</th>\n",
       "      <td>5</td>\n",
       "      <td>10.0</td>\n",
       "      <td>44</td>\n",
       "      <td>8800.0</td>\n",
       "    </tr>\n",
       "    <tr>\n",
       "      <th>8001-10000</th>\n",
       "      <td>4</td>\n",
       "      <td>8.0</td>\n",
       "      <td>48</td>\n",
       "      <td>9600.0</td>\n",
       "    </tr>\n",
       "    <tr>\n",
       "      <th>10001-12000</th>\n",
       "      <td>2</td>\n",
       "      <td>4.0</td>\n",
       "      <td>50</td>\n",
       "      <td>10000.0</td>\n",
       "    </tr>\n",
       "  </tbody>\n",
       "</table>\n",
       "</div>"
      ],
      "text/plain": [
       "             frequencia_absoluta  frequencia_relativa  \\\n",
       "0-2000                         9                 18.0   \n",
       "2001-4000                     19                 38.0   \n",
       "4001-6000                     11                 22.0   \n",
       "6001-8000                      5                 10.0   \n",
       "8001-10000                     4                  8.0   \n",
       "10001-12000                    2                  4.0   \n",
       "\n",
       "             frequencia_absoluta_acum  frequencia_acum_rel  \n",
       "0-2000                              9               1800.0  \n",
       "2001-4000                          28               5600.0  \n",
       "4001-6000                          39               7800.0  \n",
       "6001-8000                          44               8800.0  \n",
       "8001-10000                         48               9600.0  \n",
       "10001-12000                        50              10000.0  "
      ]
     },
     "execution_count": 159,
     "metadata": {},
     "output_type": "execute_result"
    }
   ],
   "source": [
    "# Tabela de contingência\n",
    "frequencia = pd.DataFrame({\"frequencia_absoluta\": frequencia_abs,\n",
    "                           \"frequencia_relativa\":frequencia_rel,\n",
    "                           \"frequencia_absoluta_acum\":frequencia_acum,\n",
    "                           \"frequencia_acum_rel\": frequencia_acum_rel})\n",
    "frequencia"
   ]
  },
  {
   "cell_type": "code",
   "execution_count": 162,
   "id": "2135b724",
   "metadata": {},
   "outputs": [
    {
     "data": {
      "text/plain": [
       "[<matplotlib.lines.Line2D at 0x1c3dee4bf10>]"
      ]
     },
     "execution_count": 162,
     "metadata": {},
     "output_type": "execute_result"
    },
    {
     "data": {
      "image/png": "[encoded data removed]",
      "text/plain": [
       "<Figure size 720x360 with 1 Axes>"
      ]
     },
     "metadata": {},
     "output_type": "display_data"
    }
   ],
   "source": [
    "# Plot do gráfico\n",
    "fig, ax = plt.subplots(1, 1, figsize=(10,5))\n",
    "ax.plot(frequencia.frequencia_absoluta, 'o')"
   ]
  },
  {
   "cell_type": "code",
   "execution_count": 163,
   "id": "92213ee0",
   "metadata": {},
   "outputs": [],
   "source": [
    "# Deletando todas as variáveis\n",
    "%reset_selective -f a "
   ]
  },
  {
   "cell_type": "markdown",
   "id": "ae5e60cc",
   "metadata": {},
   "source": [
    "# <font color=green>Exercício 2<font>"
   ]
  },
  {
   "cell_type": "code",
   "execution_count": 164,
   "id": "83b4860a",
   "metadata": {},
   "outputs": [],
   "source": [
    "# Import dos dados\n",
    "dados = pd.read_excel(\"Lista de Exercícios - Complementares (Final).xlsx\", sheet_name=\"Exercício 2\", usecols='A:C', nrows=23, engine=\"openpyxl\")"
   ]
  },
  {
   "cell_type": "code",
   "execution_count": 165,
   "id": "902efd33",
   "metadata": {},
   "outputs": [],
   "source": [
    "# Renomeadno o nome das colunas\n",
    "dados.rename(columns={'Meses':'meses',\n",
    "                      'Ação 1':'retorno_1',\n",
    "                      'Ação 2':'retorno_2'}, inplace=True)"
   ]
  },
  {
   "cell_type": "code",
   "execution_count": 166,
   "id": "3d6d5278",
   "metadata": {},
   "outputs": [
    {
     "data": {
      "text/html": [
       "<div>\n",
       "<style scoped>\n",
       "    .dataframe tbody tr th:only-of-type {\n",
       "        vertical-align: middle;\n",
       "    }\n",
       "\n",
       "    .dataframe tbody tr th {\n",
       "        vertical-align: top;\n",
       "    }\n",
       "\n",
       "    .dataframe thead th {\n",
       "        text-align: right;\n",
       "    }\n",
       "</style>\n",
       "<table border=\"1\" class=\"dataframe\">\n",
       "  <thead>\n",
       "    <tr style=\"text-align: right;\">\n",
       "      <th></th>\n",
       "      <th>meses</th>\n",
       "      <th>retorno_1</th>\n",
       "      <th>retorno_2</th>\n",
       "    </tr>\n",
       "  </thead>\n",
       "  <tbody>\n",
       "    <tr>\n",
       "      <th>count</th>\n",
       "      <td>23.00000</td>\n",
       "      <td>23.000000</td>\n",
       "      <td>23.000000</td>\n",
       "    </tr>\n",
       "    <tr>\n",
       "      <th>mean</th>\n",
       "      <td>12.00000</td>\n",
       "      <td>0.035204</td>\n",
       "      <td>0.151135</td>\n",
       "    </tr>\n",
       "    <tr>\n",
       "      <th>std</th>\n",
       "      <td>6.78233</td>\n",
       "      <td>0.129221</td>\n",
       "      <td>0.203822</td>\n",
       "    </tr>\n",
       "    <tr>\n",
       "      <th>min</th>\n",
       "      <td>1.00000</td>\n",
       "      <td>-0.201800</td>\n",
       "      <td>-0.149000</td>\n",
       "    </tr>\n",
       "    <tr>\n",
       "      <th>25%</th>\n",
       "      <td>6.50000</td>\n",
       "      <td>-0.061200</td>\n",
       "      <td>0.020400</td>\n",
       "    </tr>\n",
       "    <tr>\n",
       "      <th>50%</th>\n",
       "      <td>12.00000</td>\n",
       "      <td>0.037000</td>\n",
       "      <td>0.124800</td>\n",
       "    </tr>\n",
       "    <tr>\n",
       "      <th>75%</th>\n",
       "      <td>17.50000</td>\n",
       "      <td>0.116050</td>\n",
       "      <td>0.233300</td>\n",
       "    </tr>\n",
       "    <tr>\n",
       "      <th>max</th>\n",
       "      <td>23.00000</td>\n",
       "      <td>0.281400</td>\n",
       "      <td>0.626000</td>\n",
       "    </tr>\n",
       "  </tbody>\n",
       "</table>\n",
       "</div>"
      ],
      "text/plain": [
       "          meses  retorno_1  retorno_2\n",
       "count  23.00000  23.000000  23.000000\n",
       "mean   12.00000   0.035204   0.151135\n",
       "std     6.78233   0.129221   0.203822\n",
       "min     1.00000  -0.201800  -0.149000\n",
       "25%     6.50000  -0.061200   0.020400\n",
       "50%    12.00000   0.037000   0.124800\n",
       "75%    17.50000   0.116050   0.233300\n",
       "max    23.00000   0.281400   0.626000"
      ]
     },
     "execution_count": 166,
     "metadata": {},
     "output_type": "execute_result"
    }
   ],
   "source": [
    "# Estatística descritiva\n",
    "dados.describe()"
   ]
  },
  {
   "cell_type": "code",
   "execution_count": 344,
   "id": "855daa23",
   "metadata": {},
   "outputs": [
    {
     "data": {
      "text/plain": [
       "<AxesSubplot:xlabel='meses'>"
      ]
     },
     "execution_count": 344,
     "metadata": {},
     "output_type": "execute_result"
    },
    {
     "data": {
      "image/png": "[encoded data removed]",
      "text/plain": [
       "<Figure size 1080x360 with 1 Axes>"
      ]
     },
     "metadata": {},
     "output_type": "display_data"
    }
   ],
   "source": [
    "# plotar o gráfico\n",
    "fig, ax = plt.subplots(1,1, figsize=(15,5))\n",
    "sns.lineplot(data = dados.set_index('meses', drop=True))"
   ]
  },
  {
   "cell_type": "code",
   "execution_count": 168,
   "id": "2348245d",
   "metadata": {},
   "outputs": [],
   "source": [
    "from scipy.stats import pearsonr"
   ]
  },
  {
   "cell_type": "code",
   "execution_count": 169,
   "id": "ff8e0f9f",
   "metadata": {},
   "outputs": [
    {
     "name": "stdout",
     "output_type": "stream",
     "text": [
      "correlação: 0.2908\n",
      "valor-p: 0.1782\n"
     ]
    }
   ],
   "source": [
    "# Cálculo dos valores de correlação e valor-p\n",
    "r, valor_p = pearsonr(dados.retorno_1, dados.retorno_2)\n",
    "print('correlação: %.4f' % r)\n",
    "print('valor-p: %.4f' % valor_p)"
   ]
  },
  {
   "cell_type": "code",
   "execution_count": 272,
   "id": "1db67d22",
   "metadata": {},
   "outputs": [],
   "source": [
    "# significância de alfa=5%\n",
    "significancia = 0.05\n",
    "confianca = 1 - significancia"
   ]
  },
  {
   "cell_type": "markdown",
   "id": "99120955",
   "metadata": {},
   "source": [
    "**Teste de hipótese**  \n",
    "H0: o coeficiente de correlação é estatisticamente igual a zero  \n",
    "H1: o coeficiente de correlação é estatisticamente diferente de zero "
   ]
  },
  {
   "cell_type": "code",
   "execution_count": 171,
   "id": "e592f141",
   "metadata": {},
   "outputs": [
    {
     "name": "stdout",
     "output_type": "stream",
     "text": [
      "média do retorno da ação 1: 0.0352\n",
      "média do retorno da ação 2: 0.1511\n",
      "desvio do retorno da ação 1: 0.1292\n",
      "desvio do retorno da ação 2: 0.1292\n"
     ]
    }
   ],
   "source": [
    "media_1 = dados.retorno_1.mean()\n",
    "media_2 = dados.retorno_2.mean()\n",
    "desvio_1 = dados.retorno_1.std()\n",
    "desvio_2 = dados.retorno_2.std()\n",
    "\n",
    "print('média do retorno da ação 1: %.4f' % media_1)\n",
    "print('média do retorno da ação 2: %.4f' % media_2)\n",
    "print('desvio do retorno da ação 1: %.4f' % desvio_1)\n",
    "print('desvio do retorno da ação 2: %.4f' % desvio_1)"
   ]
  },
  {
   "cell_type": "code",
   "execution_count": 172,
   "id": "f912bb08",
   "metadata": {},
   "outputs": [],
   "source": [
    "from scipy.stats import linregress"
   ]
  },
  {
   "cell_type": "code",
   "execution_count": 173,
   "id": "c0c8cef3",
   "metadata": {},
   "outputs": [],
   "source": [
    "slope, intercept, r_value, p_value, std_err = linregress(dados.retorno_1, dados.retorno_2)"
   ]
  },
  {
   "cell_type": "code",
   "execution_count": 343,
   "id": "c2934a38",
   "metadata": {},
   "outputs": [
    {
     "name": "stderr",
     "output_type": "stream",
     "text": [
      "C:\\ProgramData\\Anaconda3\\lib\\site-packages\\seaborn\\_decorators.py:36: FutureWarning: Pass the following variables as keyword args: x, y. From version 0.12, the only valid positional argument will be `data`, and passing other arguments without an explicit keyword will result in an error or misinterpretation.\n",
      "  warnings.warn(\n"
     ]
    },
    {
     "data": {
      "text/plain": [
       "<AxesSubplot:xlabel='retorno_1', ylabel='retorno_2'>"
      ]
     },
     "execution_count": 343,
     "metadata": {},
     "output_type": "execute_result"
    },
    {
     "data": {
      "image/png": "[encoded data removed]",
      "text/plain": [
       "<Figure size 720x720 with 1 Axes>"
      ]
     },
     "metadata": {},
     "output_type": "display_data"
    }
   ],
   "source": [
    "fig, ax = plt.subplots(1,1, figsize=(10,10))\n",
    "sns.scatterplot(dados.retorno_1, dados.retorno_2, hue='meses',data=dados, )"
   ]
  },
  {
   "cell_type": "code",
   "execution_count": 185,
   "id": "41861d13",
   "metadata": {},
   "outputs": [
    {
     "name": "stdout",
     "output_type": "stream",
     "text": [
      "Não rejeito H0\n"
     ]
    }
   ],
   "source": [
    "# Verificando o teste de hipótese utilizando o valor-p\n",
    "if p_value<=significancia:\n",
    "    print('Rejeito H0')\n",
    "else:\n",
    "    print('Não rejeito H0')"
   ]
  },
  {
   "cell_type": "code",
   "execution_count": 241,
   "id": "11f18975",
   "metadata": {},
   "outputs": [],
   "source": [
    "from scipy.stats import t as t_student"
   ]
  },
  {
   "cell_type": "code",
   "execution_count": 282,
   "id": "7ce8fc8c",
   "metadata": {},
   "outputs": [
    {
     "name": "stdout",
     "output_type": "stream",
     "text": [
      "t = 1.392903935467747\n",
      "p = 0.9146764132192408\n"
     ]
    }
   ],
   "source": [
    "## Observações\n",
    "N = n_obs\n",
    "\n",
    "## Dados\n",
    "a = dados.retorno_1\n",
    "b = dados.retorno_2\n",
    "\n",
    "## Calculate the t-statistics\n",
    "t = r_value/np.sqrt((1-(r_value)**2)/(N-2))\n",
    "\n",
    "## Compare with the critical t-value\n",
    "#Degrees of freedom\n",
    "df = (2*N - 2) \n",
    "\n",
    "#p-value after comparison with the t \n",
    "p = t_student.cdf(t,df=df)\n",
    "\n",
    "print(\"t = \" + str(t))\n",
    "print(\"p = \" + str(p))"
   ]
  },
  {
   "cell_type": "code",
   "execution_count": 285,
   "id": "d1453ef8",
   "metadata": {},
   "outputs": [],
   "source": [
    "# Valor crítico\n",
    "valor_critico = np.abs(t_student.ppf(significancia/2, df = N - 2))"
   ]
  },
  {
   "cell_type": "code",
   "execution_count": 286,
   "id": "2adbb391",
   "metadata": {},
   "outputs": [
    {
     "name": "stdout",
     "output_type": "stream",
     "text": [
      "Não rejeito H0\n"
     ]
    }
   ],
   "source": [
    "# Verificando o teste de hipótese utilizando estatística de teste\n",
    "if t >= valor_critico:\n",
    "    print('Rejeito H0')\n",
    "else:\n",
    "    print('Não rejeito H0')"
   ]
  },
  {
   "cell_type": "code",
   "execution_count": 342,
   "id": "97cd6543",
   "metadata": {},
   "outputs": [
    {
     "name": "stderr",
     "output_type": "stream",
     "text": [
      "C:\\ProgramData\\Anaconda3\\lib\\site-packages\\seaborn\\_decorators.py:36: FutureWarning: Pass the following variable as a keyword arg: x. From version 0.12, the only valid positional argument will be `data`, and passing other arguments without an explicit keyword will result in an error or misinterpretation.\n",
      "  warnings.warn(\n"
     ]
    },
    {
     "data": {
      "image/png": "[encoded data removed]",
      "text/plain": [
       "<Figure size 720x360 with 1 Axes>"
      ]
     },
     "metadata": {},
     "output_type": "display_data"
    }
   ],
   "source": [
    "fig, ax = plt.subplots(1, 1, figsize=(10,5))\n",
    "\n",
    "xmin = -3\n",
    "xmax = 3\n",
    "\n",
    "x = np.arange(xmin, xmax,0.1)\n",
    "sns.lineplot(x, y=t_student.pdf(x,df=df), alpha=0.1, color='gray',lw=1, label='probability density function')\n",
    "\n",
    "x_fill = np.arange(valor_critico, xmax, 0.1)\n",
    "plt.fill_between(y1=t_student.pdf(x_fill,df=df), x=x_fill, color='r', alpha=0.6, label='área de rejeição')\n",
    "\n",
    "x_fill = np.arange(xmin, valor_critico, 0.1)\n",
    "plt.fill_between(y1=t_student.pdf(x_fill,df=df), x=x_fill, color='b', alpha=0.6, label='área de rejeição')\n",
    "\n",
    "plt.vlines(t, ymin=0, ymax=t_student.pdf(t,df=df), color='gray', lw=2 ,linestyles='dotted', label = 'estatística t de teste')\n",
    "\n",
    "plt.legend(loc='best')\n",
    "plt.show()"
   ]
  },
  {
   "cell_type": "code",
   "execution_count": null,
   "id": "58b9a209",
   "metadata": {},
   "outputs": [],
   "source": [
    "# Deletando todas as variáveis\n",
    "%reset_selective -f a "
   ]
  },
  {
   "cell_type": "markdown",
   "id": "9e7e5099",
   "metadata": {},
   "source": [
    "# <font color=green>Exercício 3<font>"
   ]
  },
  {
   "cell_type": "code",
   "execution_count": 354,
   "id": "9a1913f4",
   "metadata": {},
   "outputs": [],
   "source": [
    "from scipy.stats import binom"
   ]
  },
  {
   "cell_type": "code",
   "execution_count": 369,
   "id": "2e408bf5",
   "metadata": {},
   "outputs": [],
   "source": [
    "p = 1/6 # probabilidade de sucesso\n",
    "q = 1 - p # probabilidade de fracasso\n",
    "n = 10 # quantidade de testes, que no caso é o de jogadas"
   ]
  },
  {
   "cell_type": "code",
   "execution_count": 370,
   "id": "ea0279c5",
   "metadata": {},
   "outputs": [
    {
     "name": "stderr",
     "output_type": "stream",
     "text": [
      "C:\\ProgramData\\Anaconda3\\lib\\site-packages\\seaborn\\_decorators.py:36: FutureWarning: Pass the following variable as a keyword arg: x. From version 0.12, the only valid positional argument will be `data`, and passing other arguments without an explicit keyword will result in an error or misinterpretation.\n",
      "  warnings.warn(\n"
     ]
    },
    {
     "data": {
      "image/png": "[encoded data removed]",
      "text/plain": [
       "<Figure size 1080x360 with 1 Axes>"
      ]
     },
     "metadata": {},
     "output_type": "display_data"
    }
   ],
   "source": [
    "fig, ax = plt.subplots(1, 1, figsize=(15,5))\n",
    "\n",
    "xmin = 0\n",
    "xmax = 10\n",
    "\n",
    "x = np.arange(xmin, xmax, 1)\n",
    "sns.scatterplot(x, y=binom.pmf(k=x, p=p, n=n), alpha=0.6, color='b',lw=1, label='probability mass function')\n",
    "\n",
    "plt.vlines(x, ymin=0, ymax=binom.pmf(k=x, p=1/6, n=10), alpha=0.6,color='b', lw=0.4 ,linestyles='solid')\n",
    "\n",
    "plt.legend(loc='best')\n",
    "plt.show()"
   ]
  },
  {
   "cell_type": "markdown",
   "id": "1a76118d",
   "metadata": {},
   "source": [
    "Ter vitórias em 4 jogadas"
   ]
  },
  {
   "cell_type": "code",
   "execution_count": 379,
   "id": "6a95f718",
   "metadata": {},
   "outputs": [
    {
     "name": "stdout",
     "output_type": "stream",
     "text": [
      "probabilidade em ter vitória em 4 jogadas é de 5.43 %\n"
     ]
    }
   ],
   "source": [
    "prob = binom.pmf(k=4, n=10, p=1/6) * 100\n",
    "print('probabilidade em ter vitória em 4 jogadas é de %.2f' % prob + ' %')"
   ]
  },
  {
   "cell_type": "markdown",
   "id": "0cb2dd98",
   "metadata": {},
   "source": [
    "Ter vitória em pelo menos 7 jogadas"
   ]
  },
  {
   "cell_type": "code",
   "execution_count": 389,
   "id": "b32e23ba",
   "metadata": {},
   "outputs": [
    {
     "name": "stdout",
     "output_type": "stream",
     "text": [
      "probabilidade em ter vitória em 4 jogadas é de 0.026752 %\n"
     ]
    }
   ],
   "source": [
    "lst_prob = []\n",
    "k = 7\n",
    "iteracao = n - k + 1\n",
    "for i in range(iteracao):\n",
    "    lst_prob.append(binom.pmf(k=10-i, n=n, p=p))\n",
    "\n",
    "print('probabilidade em ter vitória em 4 jogadas é de %.6f' % np.sum(lst_prob*100) + ' %')"
   ]
  },
  {
   "cell_type": "code",
   "execution_count": 390,
   "id": "f1b7fb86",
   "metadata": {},
   "outputs": [],
   "source": [
    "# Deletando todas as variáveis\n",
    "%reset_selective -f a "
   ]
  },
  {
   "cell_type": "markdown",
   "id": "82090a46",
   "metadata": {},
   "source": [
    "# <font color=green>Exercício 4<font>"
   ]
  },
  {
   "cell_type": "code",
   "execution_count": 393,
   "id": "efab10c3",
   "metadata": {},
   "outputs": [],
   "source": [
    "from scipy.stats import nbinom"
   ]
  },
  {
   "cell_type": "code",
   "execution_count": 415,
   "id": "55e2cc44",
   "metadata": {},
   "outputs": [
    {
     "name": "stdout",
     "output_type": "stream",
     "text": [
      "A probabilidade é de 10.78 %\n"
     ]
    }
   ],
   "source": [
    "k, n, p = 20, 12, 3/5\n",
    "print('A probabilidade é de {} %'.format((nbinom.pmf(k - n, n, p) * 100).round(2)))"
   ]
  },
  {
   "cell_type": "code",
   "execution_count": 467,
   "id": "8cda6c78",
   "metadata": {},
   "outputs": [
    {
     "name": "stderr",
     "output_type": "stream",
     "text": [
      "C:\\ProgramData\\Anaconda3\\lib\\site-packages\\seaborn\\_decorators.py:36: FutureWarning: Pass the following variable as a keyword arg: x. From version 0.12, the only valid positional argument will be `data`, and passing other arguments without an explicit keyword will result in an error or misinterpretation.\n",
      "  warnings.warn(\n"
     ]
    },
    {
     "data": {
      "image/png": "[encoded data removed]",
      "text/plain": [
       "<Figure size 1080x360 with 1 Axes>"
      ]
     },
     "metadata": {},
     "output_type": "display_data"
    }
   ],
   "source": [
    "fig, ax = plt.subplots(1, 1, figsize=(15,5))\n",
    "\n",
    "xmin = 10\n",
    "xmax = 30\n",
    "\n",
    "x = np.arange(xmin, xmax, 1)\n",
    "sns.scatterplot(x, y= nbinom.pmf(x - n, n, p), alpha=0.6, color='b',lw=1, label='probability mass function')\n",
    "\n",
    "plt.vlines(k, ymin=0, ymax = nbinom.pmf(k - n, n, p), alpha=0.6, color='r', lw=0.4 ,linestyles='solid')\n",
    "\n",
    "plt.legend(loc='best')\n",
    "plt.show()"
   ]
  },
  {
   "cell_type": "markdown",
   "id": "5dfd0368",
   "metadata": {},
   "source": [
    "# <font color=green>Exercício 5<font>"
   ]
  },
  {
   "cell_type": "code",
   "execution_count": 416,
   "id": "f06c0dd4",
   "metadata": {},
   "outputs": [],
   "source": [
    "from scipy.stats import poisson"
   ]
  },
  {
   "cell_type": "code",
   "execution_count": 441,
   "id": "dea17661",
   "metadata": {},
   "outputs": [],
   "source": [
    "mu, k = 3, 28/7"
   ]
  },
  {
   "cell_type": "code",
   "execution_count": 443,
   "id": "9b2540f2",
   "metadata": {},
   "outputs": [
    {
     "name": "stdout",
     "output_type": "stream",
     "text": [
      "A probabilidade é de 16.8031 %\n"
     ]
    }
   ],
   "source": [
    "print('A probabilidade é de {} %'.format((poisson.pmf(k, mu)*100).round(4)))"
   ]
  },
  {
   "cell_type": "code",
   "execution_count": 466,
   "id": "a6837489",
   "metadata": {},
   "outputs": [
    {
     "name": "stderr",
     "output_type": "stream",
     "text": [
      "C:\\ProgramData\\Anaconda3\\lib\\site-packages\\seaborn\\_decorators.py:36: FutureWarning: Pass the following variable as a keyword arg: x. From version 0.12, the only valid positional argument will be `data`, and passing other arguments without an explicit keyword will result in an error or misinterpretation.\n",
      "  warnings.warn(\n"
     ]
    },
    {
     "data": {
      "image/png": "[encoded data removed]",
      "text/plain": [
       "<Figure size 1080x360 with 1 Axes>"
      ]
     },
     "metadata": {},
     "output_type": "display_data"
    }
   ],
   "source": [
    "fig, ax = plt.subplots(1, 1, figsize=(15,5))\n",
    "\n",
    "xmin = 0 \n",
    "xmax = 10\n",
    "\n",
    "x = np.arange(xmin, xmax, 1)\n",
    "sns.scatterplot(x, y= poisson.pmf(x, mu), alpha=0.6, color='b',lw=1, label='probability mass function')\n",
    "\n",
    "plt.plot(k, poisson.pmf(k, mu), 'ro', color='r')\n",
    "\n",
    "plt.vlines(x, ymin=0, ymax = poisson.pmf(x, mu), alpha=0.6, color='b', lw=0.4 ,linestyles='solid')\n",
    "\n",
    "\n",
    "plt.legend(loc='best')\n",
    "plt.show()"
   ]
  },
  {
   "cell_type": "code",
   "execution_count": 468,
   "id": "4df0cab1",
   "metadata": {},
   "outputs": [],
   "source": [
    "# Deletando todas as variáveis\n",
    "%reset_selective -f a "
   ]
  },
  {
   "cell_type": "markdown",
   "id": "0d6c11f2",
   "metadata": {},
   "source": [
    "# <font color=green>Exercício 6<font>"
   ]
  },
  {
   "cell_type": "code",
   "execution_count": 469,
   "id": "829cb628",
   "metadata": {},
   "outputs": [],
   "source": [
    "from scipy.stats import norm"
   ]
  },
  {
   "cell_type": "code",
   "execution_count": 520,
   "id": "d731ab9c",
   "metadata": {},
   "outputs": [
    {
     "data": {
      "image/png": "[encoded data removed]",
      "text/plain": [
       "<Figure size 1080x1080 with 3 Axes>"
      ]
     },
     "metadata": {},
     "output_type": "display_data"
    }
   ],
   "source": [
    "fig, ax = plt.subplots(3, 1, figsize=(15,15))\n",
    "\n",
    "xmin = -3\n",
    "xmax = 3\n",
    "\n",
    "x = np.arange(xmin, xmax,0.1)\n",
    "sns.lineplot(x, y=norm.pdf(x), alpha=1, color='b',lw=4, label='pdf', ax=ax[0])\n",
    "\n",
    "x = np.arange(xmin, xmax,0.1)\n",
    "sns.lineplot(x, y=norm.cdf(x), alpha=1, color='g',lw=4, label='cdf', ax=ax[2])\n",
    "\n",
    "x = np.arange(xmin, xmax,0.1)\n",
    "sns.lineplot(x, y=norm.sf(x), alpha=1, color='y',lw=4, label='sf', ax=ax[2])\n",
    "\n",
    "xmin = 0\n",
    "xmax = 1\n",
    "x = np.linspace(xmin, xmax,1000)\n",
    "sns.lineplot(x, y=norm.ppf(x), alpha=1, color='r',lw=4, label='ppf', ax=ax[1])\n",
    "\n",
    "ax[0].grid()\n",
    "ax[1].grid()\n",
    "ax[2].grid()\n",
    "\n",
    "plt.legend(loc='best')\n",
    "plt.show()"
   ]
  },
  {
   "cell_type": "code",
   "execution_count": 470,
   "id": "0d37b138",
   "metadata": {},
   "outputs": [],
   "source": [
    "tempo_medio, desvio = 26.5, 4"
   ]
  },
  {
   "cell_type": "code",
   "execution_count": 529,
   "id": "d39fade6",
   "metadata": {},
   "outputs": [
    {
     "name": "stdout",
     "output_type": "stream",
     "text": [
      "probabilidade = 0.0043\n"
     ]
    }
   ],
   "source": [
    "# P(X>37) = ???\n",
    "z = (37 - tempo_medio)/desvio\n",
    "probabilidade = norm.sf(z)\n",
    "print('probabilidade = %.4f' % probabilidade)"
   ]
  },
  {
   "cell_type": "code",
   "execution_count": 530,
   "id": "29f50c8e",
   "metadata": {},
   "outputs": [
    {
     "name": "stdout",
     "output_type": "stream",
     "text": [
      "probabilidade = 0.0521\n"
     ]
    }
   ],
   "source": [
    "# P(X<20) = ???\n",
    "z = (20 - tempo_medio)/desvio\n",
    "probabilidade = norm.cdf(z)\n",
    "print('probabilidade = %.4f' % probabilidade)"
   ]
  },
  {
   "cell_type": "code",
   "execution_count": 532,
   "id": "5c319e98",
   "metadata": {},
   "outputs": [
    {
     "name": "stdout",
     "output_type": "stream",
     "text": [
      "probabilidade = 0.5159\n"
     ]
    }
   ],
   "source": [
    "# P(22<X<28) = ???\n",
    "z_inf = (22 - tempo_medio)/desvio\n",
    "z_sup = (28 - tempo_medio)/desvio\n",
    "\n",
    "probabilidade_sup = norm.cdf(z_sup)\n",
    "probabilidade_inf = norm.cdf(z_inf)\n",
    "probabilidade = probabilidade_sup - probabilidade_inf\n",
    "print('probabilidade = %.4f' % probabilidade)"
   ]
  },
  {
   "cell_type": "code",
   "execution_count": 533,
   "id": "6b0b2f88",
   "metadata": {},
   "outputs": [],
   "source": [
    "# Deletando todas as variáveis\n",
    "%reset_selective -f a "
   ]
  },
  {
   "cell_type": "markdown",
   "id": "d39292e5",
   "metadata": {},
   "source": [
    "# <font color=green>Exercício 7<font>"
   ]
  },
  {
   "cell_type": "code",
   "execution_count": 534,
   "id": "4650b7c6",
   "metadata": {},
   "outputs": [],
   "source": [
    "F_obs = [29,15,16]\n",
    "F_esp = [20,20,20]"
   ]
  },
  {
   "cell_type": "code",
   "execution_count": 535,
   "id": "7200316f",
   "metadata": {},
   "outputs": [],
   "source": [
    "significancia = 0.05"
   ]
  },
  {
   "cell_type": "code",
   "execution_count": 536,
   "id": "245bf53a",
   "metadata": {},
   "outputs": [],
   "source": [
    "from scipy.stats import chisquare"
   ]
  },
  {
   "cell_type": "code",
   "execution_count": 540,
   "id": "b1df4f22",
   "metadata": {},
   "outputs": [
    {
     "name": "stdout",
     "output_type": "stream",
     "text": [
      "chi-quadrado: 6.1000\n",
      "p-valor: 0.0474\n"
     ]
    }
   ],
   "source": [
    "chisqd, p_valor = chisquare(F_obs, F_esp)\n",
    "print('chi-quadrado: %.4f' % chisqd)\n",
    "print('p-valor: %.4f' % p_valor)"
   ]
  },
  {
   "cell_type": "markdown",
   "id": "d935767d",
   "metadata": {},
   "source": [
    "**Teste de hipótese**  \n",
    "H0: não há diferença na preferência dos leitores   \n",
    "H1: há diferença na preferência dos leitores"
   ]
  },
  {
   "cell_type": "code",
   "execution_count": 541,
   "id": "8ffe53b1",
   "metadata": {},
   "outputs": [],
   "source": [
    "from scipy.stats import chi, chi2"
   ]
  },
  {
   "cell_type": "code",
   "execution_count": 555,
   "id": "190a01f2",
   "metadata": {},
   "outputs": [
    {
     "name": "stdout",
     "output_type": "stream",
     "text": [
      "valor crítico: 5.9915\n"
     ]
    }
   ],
   "source": [
    "# Valor crítico\n",
    "valor_critico = chi2.ppf(1-significancia, 2)\n",
    "print('valor crítico: %.4f' % valor_critico)"
   ]
  },
  {
   "cell_type": "code",
   "execution_count": 557,
   "id": "076d6ead",
   "metadata": {},
   "outputs": [
    {
     "name": "stdout",
     "output_type": "stream",
     "text": [
      "Rejeito H0\n"
     ]
    }
   ],
   "source": [
    "if valor_critico <= chisqd:\n",
    "    print('Rejeito H0')\n",
    "else:\n",
    "    print('Não rejeito H0')"
   ]
  },
  {
   "cell_type": "code",
   "execution_count": null,
   "id": "50d3791e",
   "metadata": {},
   "outputs": [],
   "source": [
    "# Deletando todas as variáveis\n",
    "%reset_selective -f a "
   ]
  },
  {
   "cell_type": "markdown",
   "id": "de128b38",
   "metadata": {},
   "source": [
    "# <font color=green>Exercício 8<font>"
   ]
  },
  {
   "cell_type": "code",
   "execution_count": 558,
   "id": "1d9c03a7",
   "metadata": {},
   "outputs": [],
   "source": [
    "# Import dos dados\n",
    "dados = pd.read_excel(\"Lista de Exercícios - Complementares (Final).xlsx\", sheet_name=\"Exercício 8\", usecols='A:B', nrows=14, engine=\"openpyxl\")"
   ]
  },
  {
   "cell_type": "code",
   "execution_count": 569,
   "id": "7085db8c",
   "metadata": {},
   "outputs": [],
   "source": [
    "dados.rename(columns={'Local A (mm)':'local_a_mm' ,'Local B (mm)':'local_b_mm'}, inplace=True)"
   ]
  },
  {
   "cell_type": "code",
   "execution_count": 582,
   "id": "fca0006c",
   "metadata": {},
   "outputs": [
    {
     "data": {
      "text/html": [
       "<div>\n",
       "<style scoped>\n",
       "    .dataframe tbody tr th:only-of-type {\n",
       "        vertical-align: middle;\n",
       "    }\n",
       "\n",
       "    .dataframe tbody tr th {\n",
       "        vertical-align: top;\n",
       "    }\n",
       "\n",
       "    .dataframe thead th {\n",
       "        text-align: right;\n",
       "    }\n",
       "</style>\n",
       "<table border=\"1\" class=\"dataframe\">\n",
       "  <thead>\n",
       "    <tr style=\"text-align: right;\">\n",
       "      <th></th>\n",
       "      <th>local_a_mm</th>\n",
       "      <th>local_b_mm</th>\n",
       "    </tr>\n",
       "  </thead>\n",
       "  <tbody>\n",
       "    <tr>\n",
       "      <th>0</th>\n",
       "      <td>8.9</td>\n",
       "      <td>5.6</td>\n",
       "    </tr>\n",
       "    <tr>\n",
       "      <th>1</th>\n",
       "      <td>7.7</td>\n",
       "      <td>4.9</td>\n",
       "    </tr>\n",
       "    <tr>\n",
       "      <th>2</th>\n",
       "      <td>8.6</td>\n",
       "      <td>6.6</td>\n",
       "    </tr>\n",
       "    <tr>\n",
       "      <th>3</th>\n",
       "      <td>3.9</td>\n",
       "      <td>5.9</td>\n",
       "    </tr>\n",
       "    <tr>\n",
       "      <th>4</th>\n",
       "      <td>7.6</td>\n",
       "      <td>6.5</td>\n",
       "    </tr>\n",
       "    <tr>\n",
       "      <th>5</th>\n",
       "      <td>10.2</td>\n",
       "      <td>5.9</td>\n",
       "    </tr>\n",
       "    <tr>\n",
       "      <th>6</th>\n",
       "      <td>9.6</td>\n",
       "      <td>3.6</td>\n",
       "    </tr>\n",
       "    <tr>\n",
       "      <th>7</th>\n",
       "      <td>8.9</td>\n",
       "      <td>5.6</td>\n",
       "    </tr>\n",
       "    <tr>\n",
       "      <th>8</th>\n",
       "      <td>9.6</td>\n",
       "      <td>8.8</td>\n",
       "    </tr>\n",
       "    <tr>\n",
       "      <th>9</th>\n",
       "      <td>5.5</td>\n",
       "      <td>7.8</td>\n",
       "    </tr>\n",
       "    <tr>\n",
       "      <th>10</th>\n",
       "      <td>0.5</td>\n",
       "      <td>9.9</td>\n",
       "    </tr>\n",
       "    <tr>\n",
       "      <th>11</th>\n",
       "      <td>1.5</td>\n",
       "      <td>11.0</td>\n",
       "    </tr>\n",
       "    <tr>\n",
       "      <th>12</th>\n",
       "      <td>1.5</td>\n",
       "      <td>8.3</td>\n",
       "    </tr>\n",
       "    <tr>\n",
       "      <th>13</th>\n",
       "      <td>4.0</td>\n",
       "      <td>5.5</td>\n",
       "    </tr>\n",
       "  </tbody>\n",
       "</table>\n",
       "</div>"
      ],
      "text/plain": [
       "    local_a_mm  local_b_mm\n",
       "0          8.9         5.6\n",
       "1          7.7         4.9\n",
       "2          8.6         6.6\n",
       "3          3.9         5.9\n",
       "4          7.6         6.5\n",
       "5         10.2         5.9\n",
       "6          9.6         3.6\n",
       "7          8.9         5.6\n",
       "8          9.6         8.8\n",
       "9          5.5         7.8\n",
       "10         0.5         9.9\n",
       "11         1.5        11.0\n",
       "12         1.5         8.3\n",
       "13         4.0         5.5"
      ]
     },
     "execution_count": 582,
     "metadata": {},
     "output_type": "execute_result"
    }
   ],
   "source": [
    "dados"
   ]
  },
  {
   "cell_type": "code",
   "execution_count": 572,
   "id": "958d48a5",
   "metadata": {},
   "outputs": [
    {
     "name": "stdout",
     "output_type": "stream",
     "text": [
      "var A: 11.6044\n",
      "var B: 4.2027\n"
     ]
    }
   ],
   "source": [
    "var_a = dados.local_a_mm.var()\n",
    "var_b = dados.local_b_mm.var()\n",
    "\n",
    "print('var A: %.4f' % var_a)\n",
    "print('var B: %.4f' % var_b)"
   ]
  },
  {
   "cell_type": "code",
   "execution_count": 560,
   "id": "72cf044f",
   "metadata": {},
   "outputs": [],
   "source": [
    "significancia = 0.05"
   ]
  },
  {
   "cell_type": "markdown",
   "id": "eaf2a5c2",
   "metadata": {},
   "source": [
    "**Teste de hipótese**  \n",
    "H0: as variâncias são estatisticamente iguais  \n",
    "H1: a variabilidade A é maior que B"
   ]
  },
  {
   "cell_type": "code",
   "execution_count": 574,
   "id": "bfb0488a",
   "metadata": {},
   "outputs": [],
   "source": [
    "from scipy.stats import f"
   ]
  },
  {
   "cell_type": "code",
   "execution_count": 575,
   "id": "f804f41a",
   "metadata": {},
   "outputs": [
    {
     "name": "stdout",
     "output_type": "stream",
     "text": [
      "estatística de teste F: 7.6241\n"
     ]
    }
   ],
   "source": [
    "# Estatistica de teste\n",
    "F = (var_a**2) / (var_b**2)\n",
    "print('estatística de teste F: %.4f' % F)"
   ]
  },
  {
   "cell_type": "code",
   "execution_count": 589,
   "id": "0255d65c",
   "metadata": {},
   "outputs": [],
   "source": [
    "n_obs = dados.shape[0]"
   ]
  },
  {
   "cell_type": "code",
   "execution_count": 590,
   "id": "830845a3",
   "metadata": {},
   "outputs": [
    {
     "name": "stdout",
     "output_type": "stream",
     "text": [
      "valor crítico: 2.5769\n"
     ]
    }
   ],
   "source": [
    "# Valor crítico\n",
    "valor_critico = f.ppf(0.95, dfn=n_obs - 1, dfd=n_obs - 1)\n",
    "print('valor crítico: %.4f' % valor_critico)"
   ]
  },
  {
   "cell_type": "code",
   "execution_count": 591,
   "id": "d93983a6",
   "metadata": {},
   "outputs": [
    {
     "name": "stdout",
     "output_type": "stream",
     "text": [
      "Rejeito H0\n"
     ]
    }
   ],
   "source": [
    "if valor_critico <= F:\n",
    "    print('Rejeito H0')\n",
    "else:\n",
    "    print('Não rejeito H0')"
   ]
  },
  {
   "cell_type": "code",
   "execution_count": null,
   "id": "40f104f2",
   "metadata": {},
   "outputs": [],
   "source": [
    "# Deletando todas as variáveis\n",
    "%reset_selective -f a "
   ]
  },
  {
   "cell_type": "markdown",
   "id": "7be68835",
   "metadata": {},
   "source": [
    "# <font color=green>Exercício 9<font>"
   ]
  },
  {
   "cell_type": "code",
   "execution_count": 663,
   "id": "b83e53e5",
   "metadata": {},
   "outputs": [],
   "source": [
    "# Import dos dados\n",
    "dados = pd.read_excel(\"Lista de Exercícios - Complementares (Final).xlsx\", sheet_name=\"Exercício 9\", usecols='A:B', nrows=20, engine=\"openpyxl\")"
   ]
  },
  {
   "cell_type": "code",
   "execution_count": 664,
   "id": "2cd8e997",
   "metadata": {},
   "outputs": [],
   "source": [
    "dados.rename(columns={'Hospital 1':'hospital1','Hospital 2':'hospital2'}, inplace=True)"
   ]
  },
  {
   "cell_type": "markdown",
   "id": "e608b092",
   "metadata": {},
   "source": [
    "**Teste de Hipótese**  \n",
    "H0: o tempo médio de espera é igual  \n",
    "H1: o tempo médio de espera são diferentes"
   ]
  },
  {
   "cell_type": "code",
   "execution_count": 665,
   "id": "d154961d",
   "metadata": {},
   "outputs": [],
   "source": [
    "from scipy.stats import ttest_ind, t as t_student"
   ]
  },
  {
   "cell_type": "code",
   "execution_count": 666,
   "id": "790b744b",
   "metadata": {},
   "outputs": [
    {
     "name": "stdout",
     "output_type": "stream",
     "text": [
      "estatística de teste: 6.9208\n",
      "valor-p: 0.0000\n"
     ]
    }
   ],
   "source": [
    "statistic, pvalue = ttest_ind(dados.hospital1, dados.hospital2, equal_var=True)\n",
    "print('estatística de teste: %.4f' % statistic)\n",
    "print('valor-p: %.4f' % pvalue)"
   ]
  },
  {
   "cell_type": "code",
   "execution_count": 642,
   "id": "528ad236",
   "metadata": {},
   "outputs": [],
   "source": [
    "# Número de observações\n",
    "N = dados.shape[0]"
   ]
  },
  {
   "cell_type": "code",
   "execution_count": null,
   "id": "1cf863d0",
   "metadata": {},
   "outputs": [],
   "source": [
    "df = 2*N-2"
   ]
  },
  {
   "cell_type": "code",
   "execution_count": 652,
   "id": "fca89d5f",
   "metadata": {},
   "outputs": [],
   "source": [
    "significancia = 0.01\n",
    "confianca = 1 - significancia"
   ]
  },
  {
   "cell_type": "code",
   "execution_count": 690,
   "id": "f9ab5807",
   "metadata": {},
   "outputs": [
    {
     "data": {
      "text/plain": [
       "10.831740395707424"
      ]
     },
     "execution_count": 690,
     "metadata": {},
     "output_type": "execute_result"
    }
   ],
   "source": [
    "# Cálculo valor t crítico\n",
    "n_A = N\n",
    "n_B = N\n",
    "s_A = round(dados.hospital1.std(),2)\n",
    "s_B = round(dados.hospital2.std(),2)\n",
    "s2_p = ((n_A - 1)/(n_A + n_B - 2))*s_A**2 + ((n_B - 1)/(n_A + n_B - 2))*s_B**2 \n",
    "s_p  = np.sqrt(s2_p)\n",
    "s_p"
   ]
  },
  {
   "cell_type": "code",
   "execution_count": 694,
   "id": "25122ff4",
   "metadata": {},
   "outputs": [
    {
     "data": {
      "text/plain": [
       "1.0"
      ]
     },
     "execution_count": 694,
     "metadata": {},
     "output_type": "execute_result"
    }
   ],
   "source": [
    "# Valor crítico\n",
    "valor_critico = t_student.cdf(s_p, df = 2*N-2).round()\n",
    "valor_critico"
   ]
  },
  {
   "cell_type": "code",
   "execution_count": 684,
   "id": "53974b90",
   "metadata": {},
   "outputs": [
    {
     "data": {
      "image/png": "[encoded data removed]",
      "text/plain": [
       "<Figure size 1080x1080 with 3 Axes>"
      ]
     },
     "metadata": {},
     "output_type": "display_data"
    }
   ],
   "source": [
    "fig, ax = plt.subplots(3, 1, figsize=(15,15))\n",
    "\n",
    "xmin = -3\n",
    "xmax = 3\n",
    "\n",
    "x = np.arange(xmin, xmax,0.1)\n",
    "sns.lineplot(x, y=t_student.pdf(x, df = 2*N-2), alpha=1, color='b',lw=4, label='pdf', ax=ax[0])\n",
    "\n",
    "x = np.arange(xmin, xmax,0.1)\n",
    "sns.lineplot(x, y=t_student.cdf(x, df = 2*N-2), alpha=1, color='g',lw=4, label='cdf', ax=ax[2])\n",
    "\n",
    "x = np.arange(xmin, xmax,0.1)\n",
    "sns.lineplot(x, y=t_student.sf(x, df = 2*N-2), alpha=1, color='y',lw=4, label='sf', ax=ax[2])\n",
    "\n",
    "xmin = 0\n",
    "xmax = 1\n",
    "x = np.linspace(xmin, xmax,1000)\n",
    "sns.lineplot(x, y=t_student.ppf(x, df = 2*N-2), alpha=1, color='r',lw=4, label='ppf', ax=ax[1])\n",
    "\n",
    "ax[0].grid()\n",
    "ax[1].grid()\n",
    "ax[2].grid()\n",
    "\n",
    "plt.legend(loc='best')\n",
    "plt.show()"
   ]
  },
  {
   "cell_type": "code",
   "execution_count": 695,
   "id": "d93b0bc3",
   "metadata": {},
   "outputs": [
    {
     "name": "stdout",
     "output_type": "stream",
     "text": [
      "Rejeito H0\n"
     ]
    }
   ],
   "source": [
    "if valor_critico <= statistic:\n",
    "    print('Rejeito H0')\n",
    "else:\n",
    "    print('Não rejeito H0')"
   ]
  },
  {
   "cell_type": "code",
   "execution_count": 698,
   "id": "31cf4c48",
   "metadata": {},
   "outputs": [
    {
     "name": "stdout",
     "output_type": "stream",
     "text": [
      "Rejeito H0\n"
     ]
    }
   ],
   "source": [
    "if significancia >= pvalue:\n",
    "    print('Rejeito H0')\n",
    "else:\n",
    "    print('Não rejeito H0')"
   ]
  },
  {
   "cell_type": "markdown",
   "id": "e1324998",
   "metadata": {},
   "source": [
    "---"
   ]
  },
  {
   "cell_type": "code",
   "execution_count": 607,
   "id": "c012e1b9",
   "metadata": {},
   "outputs": [
    {
     "name": "stdout",
     "output_type": "stream",
     "text": [
      "variância hospital 1: 11.7361\n",
      "variância hospital 2: 9.8387\n"
     ]
    }
   ],
   "source": [
    "var_1 = dados.hospital1.std()\n",
    "var_2 = dados.hospital2.std()\n",
    "\n",
    "print('variância hospital 1: %.4f' % var_1)\n",
    "print('variância hospital 2: %.4f' % var_2)"
   ]
  },
  {
   "cell_type": "code",
   "execution_count": null,
   "id": "a7c39e8d",
   "metadata": {},
   "outputs": [],
   "source": []
  },
  {
   "cell_type": "code",
   "execution_count": null,
   "id": "e8ca3752",
   "metadata": {},
   "outputs": [],
   "source": []
  },
  {
   "cell_type": "code",
   "execution_count": null,
   "id": "c884dd22",
   "metadata": {},
   "outputs": [],
   "source": []
  },
  {
   "cell_type": "code",
   "execution_count": null,
   "id": "5991aa63",
   "metadata": {},
   "outputs": [],
   "source": []
  },
  {
   "cell_type": "code",
   "execution_count": null,
   "id": "740098e8",
   "metadata": {},
   "outputs": [],
   "source": [
    "# Deletando todas as variáveis\n",
    "%reset_selective -f a "
   ]
  },
  {
   "cell_type": "markdown",
   "id": "2f1e7494",
   "metadata": {},
   "source": [
    "# <font color=green>Exercício 10<font>"
   ]
  },
  {
   "cell_type": "code",
   "execution_count": 710,
   "id": "25052e05",
   "metadata": {},
   "outputs": [],
   "source": [
    "from scipy.stats import t as t_student"
   ]
  },
  {
   "cell_type": "code",
   "execution_count": 704,
   "id": "3db13112",
   "metadata": {},
   "outputs": [],
   "source": [
    "# Amostra\n",
    "n = 36\n",
    "x_media = 65\n",
    "s = 3.5\n",
    "\n",
    "# Histórico\n",
    "mu = 60\n",
    "\n",
    "# Significância\n",
    "alfa = 0.05"
   ]
  },
  {
   "cell_type": "markdown",
   "id": "0a0aaf0c",
   "metadata": {},
   "source": [
    "> **Teste de Hipótese**  \n",
    "H0: a quantidade de calorias histórica é igual a quantidade amostral  \n",
    "H1: a quantidade de calorias histórica é diferente da quantidade amostral"
   ]
  },
  {
   "cell_type": "code",
   "execution_count": 703,
   "id": "4c3cddfb",
   "metadata": {},
   "outputs": [
    {
     "data": {
      "text/plain": [
       "8.571428571428571"
      ]
     },
     "execution_count": 703,
     "metadata": {},
     "output_type": "execute_result"
    }
   ],
   "source": [
    "# estatística de teste\n",
    "t = (x_media - mu)/ (3.5/np.sqrt(n))\n",
    "t"
   ]
  },
  {
   "cell_type": "code",
   "execution_count": 713,
   "id": "8955f3c2",
   "metadata": {},
   "outputs": [
    {
     "data": {
      "text/plain": [
       "2.030107928250343"
      ]
     },
     "execution_count": 713,
     "metadata": {},
     "output_type": "execute_result"
    }
   ],
   "source": [
    "# valor crítico\n",
    "t_critico = np.abs(t_student.ppf(alfa/2, n-1))\n",
    "t_critico"
   ]
  },
  {
   "cell_type": "code",
   "execution_count": 709,
   "id": "d79dc6d2",
   "metadata": {},
   "outputs": [
    {
     "name": "stdout",
     "output_type": "stream",
     "text": [
      "Rejeito H0\n"
     ]
    }
   ],
   "source": [
    "if t_critico <= t:\n",
    "    print('Rejeito H0')\n",
    "else:\n",
    "    print('Não reijeito H0')"
   ]
  },
  {
   "cell_type": "code",
   "execution_count": 720,
   "id": "18f75387",
   "metadata": {},
   "outputs": [
    {
     "data": {
      "text/plain": [
       "5.695131854406174e-10"
      ]
     },
     "execution_count": 720,
     "metadata": {},
     "output_type": "execute_result"
    }
   ],
   "source": [
    "p_valor = t_student.pdf(t,df=n-1)\n",
    "p_valor"
   ]
  },
  {
   "cell_type": "code",
   "execution_count": 721,
   "id": "ce760db0",
   "metadata": {},
   "outputs": [],
   "source": [
    "# Deletando todas as variáveis\n",
    "%reset_selective -f a "
   ]
  },
  {
   "cell_type": "markdown",
   "id": "829837df",
   "metadata": {},
   "source": [
    "# <font color=green>Exercício 11<font>"
   ]
  },
  {
   "cell_type": "code",
   "execution_count": null,
   "id": "a77cfe36",
   "metadata": {},
   "outputs": [],
   "source": []
  },
  {
   "cell_type": "code",
   "execution_count": null,
   "id": "e0cbb60b",
   "metadata": {},
   "outputs": [],
   "source": []
  },
  {
   "cell_type": "code",
   "execution_count": null,
   "id": "2663c5f2",
   "metadata": {},
   "outputs": [],
   "source": []
  },
  {
   "cell_type": "code",
   "execution_count": null,
   "id": "e7de75d2",
   "metadata": {},
   "outputs": [],
   "source": []
  },
  {
   "cell_type": "code",
   "execution_count": null,
   "id": "bceabadb",
   "metadata": {},
   "outputs": [],
   "source": []
  },
  {
   "cell_type": "code",
   "execution_count": null,
   "id": "5b647e33",
   "metadata": {},
   "outputs": [],
   "source": []
  },
  {
   "cell_type": "code",
   "execution_count": null,
   "id": "41634f54",
   "metadata": {},
   "outputs": [],
   "source": []
  },
  {
   "cell_type": "code",
   "execution_count": null,
   "id": "777c7805",
   "metadata": {},
   "outputs": [],
   "source": []
  },
  {
   "cell_type": "code",
   "execution_count": null,
   "id": "23d33f30",
   "metadata": {},
   "outputs": [],
   "source": [
    "# Deletando todas as variáveis\n",
    "%reset_selective -f a "
   ]
  },
  {
   "cell_type": "markdown",
   "id": "166395ee",
   "metadata": {},
   "source": [
    "# <font color=green>Exercício 12<font>"
   ]
  },
  {
   "cell_type": "code",
   "execution_count": null,
   "id": "b340f556",
   "metadata": {},
   "outputs": [],
   "source": []
  },
  {
   "cell_type": "code",
   "execution_count": null,
   "id": "0cf2cb62",
   "metadata": {},
   "outputs": [],
   "source": [
    "# Deletando todas as variáveis\n",
    "%reset_selective -f a "
   ]
  },
  {
   "cell_type": "markdown",
   "id": "c9f85728",
   "metadata": {},
   "source": [
    "---"
   ]
  }
 ],
 "metadata": {
  "kernelspec": {
   "display_name": "Python 3",
   "language": "python",
   "name": "python3"
  },
  "language_info": {
   "codemirror_mode": {
    "name": "ipython",
    "version": 3
   },
   "file_extension": ".py",
   "mimetype": "text/x-python",
   "name": "python",
   "nbconvert_exporter": "python",
   "pygments_lexer": "ipython3",
   "version": "3.8.8"
  }
 },
 "nbformat": 4,
 "nbformat_minor": 5
}
