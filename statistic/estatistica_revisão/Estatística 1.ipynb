{
 "cells": [
  {
   "cell_type": "markdown",
   "metadata": {},
   "source": [
    "# <font color=green\\>Estatísticas Descritivas<font>"
   ]
  },
  {
   "cell_type": "code",
   "execution_count": 102,
   "metadata": {},
   "outputs": [],
   "source": [
    "# Import dos módulos utilizados\n",
    "import pandas as pd\n",
    "import numpy as np\n",
    "import seaborn as sns\n",
    "import matplotlib.pyplot as plt\n",
    "\n",
    "sns.set_theme(style='darkgrid')"
   ]
  },
  {
   "cell_type": "code",
   "execution_count": 488,
   "metadata": {},
   "outputs": [],
   "source": [
    "# import da base\n",
    "dados = pd.read_excel('Planilha Suporte - Introdução Estatística (Final).xlsx', sheet_name='Tabela de Frequências' ,usecols='A:B',  engine=\"openpyxl\")"
   ]
  },
  {
   "cell_type": "code",
   "execution_count": 489,
   "metadata": {},
   "outputs": [],
   "source": [
    "# Função auxiliar para remoção de caracteres especiais\n",
    "import unicodedata\n",
    "import re\n",
    "\n",
    "def removerAcentosECaracteresEspeciais(palavra):\n",
    "\n",
    "    # Unicode normalize transforma um caracter em seu equivalente em latin.\n",
    "    nfkd = unicodedata.normalize('NFKD', palavra)\n",
    "    palavraSemAcento = u\"\".join([c for c in nfkd if not unicodedata.combining(c)])\n",
    "\n",
    "    # Usa expressão regular para retornar a palavra apenas com números, letras e espaço\n",
    "    return re.sub('[^a-zA-Z0-9 \\\\\\]', '', palavraSemAcento)"
   ]
  },
  {
   "cell_type": "code",
   "execution_count": 490,
   "metadata": {},
   "outputs": [],
   "source": [
    "# Removendo caracteres especiais\n",
    "dados['País de Origem'] = dados['País de Origem'].apply(lambda x: removerAcentosECaracteresEspeciais(x))"
   ]
  },
  {
   "cell_type": "markdown",
   "metadata": {},
   "source": [
    "## <font color=green\\>Tipo de variáveis<font>"
   ]
  },
  {
   "cell_type": "code",
   "execution_count": 491,
   "metadata": {},
   "outputs": [
    {
     "name": "stdout",
     "output_type": "stream",
     "text": [
      "<class 'pandas.core.frame.DataFrame'>\n",
      "RangeIndex: 300 entries, 0 to 299\n",
      "Data columns (total 2 columns):\n",
      " #   Column          Non-Null Count  Dtype \n",
      "---  ------          --------------  ----- \n",
      " 0   Indivíduo       300 non-null    int64 \n",
      " 1   País de Origem  300 non-null    object\n",
      "dtypes: int64(1), object(1)\n",
      "memory usage: 4.8+ KB\n"
     ]
    }
   ],
   "source": [
    "dados.info()"
   ]
  },
  {
   "cell_type": "code",
   "execution_count": 492,
   "metadata": {},
   "outputs": [
    {
     "data": {
      "text/html": [
       "<div>\n",
       "<style scoped>\n",
       "    .dataframe tbody tr th:only-of-type {\n",
       "        vertical-align: middle;\n",
       "    }\n",
       "\n",
       "    .dataframe tbody tr th {\n",
       "        vertical-align: top;\n",
       "    }\n",
       "\n",
       "    .dataframe thead th {\n",
       "        text-align: right;\n",
       "    }\n",
       "</style>\n",
       "<table border=\"1\" class=\"dataframe\">\n",
       "  <thead>\n",
       "    <tr style=\"text-align: right;\">\n",
       "      <th></th>\n",
       "      <th>Indivíduo</th>\n",
       "      <th>País de Origem</th>\n",
       "    </tr>\n",
       "  </thead>\n",
       "  <tbody>\n",
       "    <tr>\n",
       "      <th>0</th>\n",
       "      <td>1</td>\n",
       "      <td>Brasil</td>\n",
       "    </tr>\n",
       "    <tr>\n",
       "      <th>1</th>\n",
       "      <td>2</td>\n",
       "      <td>Inglaterra</td>\n",
       "    </tr>\n",
       "    <tr>\n",
       "      <th>2</th>\n",
       "      <td>3</td>\n",
       "      <td>Japao</td>\n",
       "    </tr>\n",
       "    <tr>\n",
       "      <th>3</th>\n",
       "      <td>4</td>\n",
       "      <td>EUA</td>\n",
       "    </tr>\n",
       "    <tr>\n",
       "      <th>4</th>\n",
       "      <td>5</td>\n",
       "      <td>Brasil</td>\n",
       "    </tr>\n",
       "  </tbody>\n",
       "</table>\n",
       "</div>"
      ],
      "text/plain": [
       "   Indivíduo País de Origem\n",
       "0          1         Brasil\n",
       "1          2     Inglaterra\n",
       "2          3          Japao\n",
       "3          4            EUA\n",
       "4          5         Brasil"
      ]
     },
     "execution_count": 492,
     "metadata": {},
     "output_type": "execute_result"
    }
   ],
   "source": [
    "dados.head()"
   ]
  },
  {
   "cell_type": "markdown",
   "metadata": {},
   "source": [
    "Em relação as variáveis presente do dataset, temos:\n",
    "\n",
    "- País de Origem: variável qualitativa\n",
    "- Indivíduo: variável quantitativa discreta"
   ]
  },
  {
   "cell_type": "markdown",
   "metadata": {},
   "source": [
    "## <font color=green\\>Tabela de Frequência<font>"
   ]
  },
  {
   "cell_type": "code",
   "execution_count": 493,
   "metadata": {},
   "outputs": [],
   "source": [
    "# numero total de observações\n",
    "n = dados.shape[0]"
   ]
  },
  {
   "cell_type": "code",
   "execution_count": 494,
   "metadata": {
    "tags": []
   },
   "outputs": [],
   "source": [
    "# frequência absoluta\n",
    "frequencia_absoluta = dados.groupby(['País de Origem'])[['Indivíduo']].count().sort_values(by='País de Origem')\n",
    "frequencia_absoluta.rename(columns={'Indivíduo':'frequencia_absoluta'}, inplace=True)"
   ]
  },
  {
   "cell_type": "code",
   "execution_count": 495,
   "metadata": {
    "tags": []
   },
   "outputs": [],
   "source": [
    "# frequência relativa\n",
    "frequencia_relativa = round(frequencia_absoluta/n * 100, 1)\n",
    "frequencia_relativa.rename(columns={'frequencia_absoluta':'frequencia_relativa'}, inplace=True)"
   ]
  },
  {
   "cell_type": "code",
   "execution_count": 496,
   "metadata": {
    "tags": []
   },
   "outputs": [],
   "source": [
    "# frequência acumulada\n",
    "frequencia_acumulada = frequencia_absoluta.cumsum()\n",
    "frequencia_acumulada.rename(columns={'frequencia_absoluta':'frequencia_acumulada'}, inplace=True)"
   ]
  },
  {
   "cell_type": "code",
   "execution_count": 497,
   "metadata": {
    "tags": []
   },
   "outputs": [],
   "source": [
    "# frequencia relativa acumulada\n",
    "frequencia_relativa_acumulada = round(frequencia_acumulada/n * 100, 1)\n",
    "frequencia_relativa_acumulada.rename(columns={'frequencia_acumulada':'frequencia_acumulada_relativa'}, inplace=True)"
   ]
  },
  {
   "cell_type": "code",
   "execution_count": 498,
   "metadata": {},
   "outputs": [
    {
     "data": {
      "text/html": [
       "<div>\n",
       "<style scoped>\n",
       "    .dataframe tbody tr th:only-of-type {\n",
       "        vertical-align: middle;\n",
       "    }\n",
       "\n",
       "    .dataframe tbody tr th {\n",
       "        vertical-align: top;\n",
       "    }\n",
       "\n",
       "    .dataframe thead th {\n",
       "        text-align: right;\n",
       "    }\n",
       "</style>\n",
       "<table border=\"1\" class=\"dataframe\">\n",
       "  <thead>\n",
       "    <tr style=\"text-align: right;\">\n",
       "      <th></th>\n",
       "      <th>frequencia_absoluta</th>\n",
       "      <th>frequencia_relativa</th>\n",
       "      <th>frequencia_acumulada</th>\n",
       "      <th>frequencia_acumulada_relativa</th>\n",
       "    </tr>\n",
       "    <tr>\n",
       "      <th>País de Origem</th>\n",
       "      <th></th>\n",
       "      <th></th>\n",
       "      <th></th>\n",
       "      <th></th>\n",
       "    </tr>\n",
       "  </thead>\n",
       "  <tbody>\n",
       "    <tr>\n",
       "      <th>Africa do Sul</th>\n",
       "      <td>14</td>\n",
       "      <td>4.7</td>\n",
       "      <td>14</td>\n",
       "      <td>4.7</td>\n",
       "    </tr>\n",
       "    <tr>\n",
       "      <th>Alemanha</th>\n",
       "      <td>10</td>\n",
       "      <td>3.3</td>\n",
       "      <td>24</td>\n",
       "      <td>8.0</td>\n",
       "    </tr>\n",
       "    <tr>\n",
       "      <th>Argentina</th>\n",
       "      <td>10</td>\n",
       "      <td>3.3</td>\n",
       "      <td>34</td>\n",
       "      <td>11.3</td>\n",
       "    </tr>\n",
       "    <tr>\n",
       "      <th>Australia</th>\n",
       "      <td>15</td>\n",
       "      <td>5.0</td>\n",
       "      <td>49</td>\n",
       "      <td>16.3</td>\n",
       "    </tr>\n",
       "    <tr>\n",
       "      <th>Brasil</th>\n",
       "      <td>59</td>\n",
       "      <td>19.7</td>\n",
       "      <td>108</td>\n",
       "      <td>36.0</td>\n",
       "    </tr>\n",
       "    <tr>\n",
       "      <th>Canada</th>\n",
       "      <td>9</td>\n",
       "      <td>3.0</td>\n",
       "      <td>117</td>\n",
       "      <td>39.0</td>\n",
       "    </tr>\n",
       "    <tr>\n",
       "      <th>Chile</th>\n",
       "      <td>7</td>\n",
       "      <td>2.3</td>\n",
       "      <td>124</td>\n",
       "      <td>41.3</td>\n",
       "    </tr>\n",
       "    <tr>\n",
       "      <th>China</th>\n",
       "      <td>18</td>\n",
       "      <td>6.0</td>\n",
       "      <td>142</td>\n",
       "      <td>47.3</td>\n",
       "    </tr>\n",
       "    <tr>\n",
       "      <th>EUA</th>\n",
       "      <td>35</td>\n",
       "      <td>11.7</td>\n",
       "      <td>177</td>\n",
       "      <td>59.0</td>\n",
       "    </tr>\n",
       "    <tr>\n",
       "      <th>Egito</th>\n",
       "      <td>8</td>\n",
       "      <td>2.7</td>\n",
       "      <td>185</td>\n",
       "      <td>61.7</td>\n",
       "    </tr>\n",
       "    <tr>\n",
       "      <th>Franca</th>\n",
       "      <td>10</td>\n",
       "      <td>3.3</td>\n",
       "      <td>195</td>\n",
       "      <td>65.0</td>\n",
       "    </tr>\n",
       "    <tr>\n",
       "      <th>India</th>\n",
       "      <td>19</td>\n",
       "      <td>6.3</td>\n",
       "      <td>214</td>\n",
       "      <td>71.3</td>\n",
       "    </tr>\n",
       "    <tr>\n",
       "      <th>Inglaterra</th>\n",
       "      <td>12</td>\n",
       "      <td>4.0</td>\n",
       "      <td>226</td>\n",
       "      <td>75.3</td>\n",
       "    </tr>\n",
       "    <tr>\n",
       "      <th>Italia</th>\n",
       "      <td>9</td>\n",
       "      <td>3.0</td>\n",
       "      <td>235</td>\n",
       "      <td>78.3</td>\n",
       "    </tr>\n",
       "    <tr>\n",
       "      <th>Japao</th>\n",
       "      <td>16</td>\n",
       "      <td>5.3</td>\n",
       "      <td>251</td>\n",
       "      <td>83.7</td>\n",
       "    </tr>\n",
       "    <tr>\n",
       "      <th>Mexico</th>\n",
       "      <td>7</td>\n",
       "      <td>2.3</td>\n",
       "      <td>258</td>\n",
       "      <td>86.0</td>\n",
       "    </tr>\n",
       "    <tr>\n",
       "      <th>Russia</th>\n",
       "      <td>14</td>\n",
       "      <td>4.7</td>\n",
       "      <td>272</td>\n",
       "      <td>90.7</td>\n",
       "    </tr>\n",
       "    <tr>\n",
       "      <th>Suica</th>\n",
       "      <td>11</td>\n",
       "      <td>3.7</td>\n",
       "      <td>283</td>\n",
       "      <td>94.3</td>\n",
       "    </tr>\n",
       "    <tr>\n",
       "      <th>Uruguai</th>\n",
       "      <td>17</td>\n",
       "      <td>5.7</td>\n",
       "      <td>300</td>\n",
       "      <td>100.0</td>\n",
       "    </tr>\n",
       "  </tbody>\n",
       "</table>\n",
       "</div>"
      ],
      "text/plain": [
       "                frequencia_absoluta  frequencia_relativa  \\\n",
       "País de Origem                                             \n",
       "Africa do Sul                    14                  4.7   \n",
       "Alemanha                         10                  3.3   \n",
       "Argentina                        10                  3.3   \n",
       "Australia                        15                  5.0   \n",
       "Brasil                           59                 19.7   \n",
       "Canada                            9                  3.0   \n",
       "Chile                             7                  2.3   \n",
       "China                            18                  6.0   \n",
       "EUA                              35                 11.7   \n",
       "Egito                             8                  2.7   \n",
       "Franca                           10                  3.3   \n",
       "India                            19                  6.3   \n",
       "Inglaterra                       12                  4.0   \n",
       "Italia                            9                  3.0   \n",
       "Japao                            16                  5.3   \n",
       "Mexico                            7                  2.3   \n",
       "Russia                           14                  4.7   \n",
       "Suica                            11                  3.7   \n",
       "Uruguai                          17                  5.7   \n",
       "\n",
       "                frequencia_acumulada  frequencia_acumulada_relativa  \n",
       "País de Origem                                                       \n",
       "Africa do Sul                     14                            4.7  \n",
       "Alemanha                          24                            8.0  \n",
       "Argentina                         34                           11.3  \n",
       "Australia                         49                           16.3  \n",
       "Brasil                           108                           36.0  \n",
       "Canada                           117                           39.0  \n",
       "Chile                            124                           41.3  \n",
       "China                            142                           47.3  \n",
       "EUA                              177                           59.0  \n",
       "Egito                            185                           61.7  \n",
       "Franca                           195                           65.0  \n",
       "India                            214                           71.3  \n",
       "Inglaterra                       226                           75.3  \n",
       "Italia                           235                           78.3  \n",
       "Japao                            251                           83.7  \n",
       "Mexico                           258                           86.0  \n",
       "Russia                           272                           90.7  \n",
       "Suica                            283                           94.3  \n",
       "Uruguai                          300                          100.0  "
      ]
     },
     "execution_count": 498,
     "metadata": {},
     "output_type": "execute_result"
    }
   ],
   "source": [
    "tabela_de_frequencias = pd.concat([frequencia_absoluta, frequencia_relativa, frequencia_acumulada, frequencia_relativa_acumulada], axis=1)\n",
    "tabela_de_frequencias"
   ]
  },
  {
   "cell_type": "code",
   "execution_count": 499,
   "metadata": {},
   "outputs": [
    {
     "data": {
      "image/png": "[encoded data removed]",
      "text/plain": [
       "<Figure size 1080x720 with 1 Axes>"
      ]
     },
     "metadata": {},
     "output_type": "display_data"
    }
   ],
   "source": [
    "ax = sns.barplot(data=tabela_de_frequencias[['frequencia_absoluta']].sort_values(by='frequencia_absoluta', ascending=False), y='frequencia_absoluta', x=tabela_de_frequencias.index, orient=\"v\")\n",
    "ax.figure.set_size_inches(15,10)\n",
    "ax.grid()"
   ]
  },
  {
   "cell_type": "markdown",
   "metadata": {},
   "source": [
    "## <font color=green\\>Medidas de Posição, Dispersão e Forma<font>"
   ]
  },
  {
   "cell_type": "code",
   "execution_count": 193,
   "metadata": {},
   "outputs": [],
   "source": [
    "# import da base\n",
    "dados = pd.read_excel('Planilha Suporte - Introdução Estatística (Final).xlsx', sheet_name='Descritivas - Quantitativa' ,usecols='A:B',  engine=\"openpyxl\", nrows=100)"
   ]
  },
  {
   "cell_type": "code",
   "execution_count": 194,
   "metadata": {},
   "outputs": [
    {
     "name": "stdout",
     "output_type": "stream",
     "text": [
      "<class 'pandas.core.frame.DataFrame'>\n",
      "RangeIndex: 100 entries, 0 to 99\n",
      "Data columns (total 2 columns):\n",
      " #   Column         Non-Null Count  Dtype\n",
      "---  ------         --------------  -----\n",
      " 0   Nº Observação  100 non-null    int64\n",
      " 1   Preço ($)      100 non-null    int64\n",
      "dtypes: int64(2)\n",
      "memory usage: 1.7 KB\n"
     ]
    }
   ],
   "source": [
    "# Informações relativas a base de dados\n",
    "dados.info()"
   ]
  },
  {
   "cell_type": "code",
   "execution_count": 190,
   "metadata": {},
   "outputs": [
    {
     "data": {
      "text/plain": [
       "(103, 2)"
      ]
     },
     "execution_count": 190,
     "metadata": {},
     "output_type": "execute_result"
    }
   ],
   "source": [
    "# Quantidade de observações\n",
    "dados.shape"
   ]
  },
  {
   "cell_type": "code",
   "execution_count": 199,
   "metadata": {},
   "outputs": [],
   "source": [
    "# Renomear colunas de forma a tornar melhor as manipulações posteriores\n",
    "dados.rename(columns={'Nº Observação':'n_observacoes', 'Preço ($)':'preco'}, inplace=True)"
   ]
  },
  {
   "cell_type": "code",
   "execution_count": 203,
   "metadata": {},
   "outputs": [
    {
     "data": {
      "text/plain": [
       "count    100.000000\n",
       "mean     190.770000\n",
       "std       15.621052\n",
       "min      149.000000\n",
       "25%      179.000000\n",
       "50%      189.000000\n",
       "75%      199.000000\n",
       "max      239.000000\n",
       "Name: preco, dtype: float64"
      ]
     },
     "execution_count": 203,
     "metadata": {},
     "output_type": "execute_result"
    }
   ],
   "source": [
    "# Estatisticas básicas \n",
    "tabela_estatistica = dados.preco.describe()\n",
    "tabela_estatistica"
   ]
  },
  {
   "cell_type": "code",
   "execution_count": 211,
   "metadata": {},
   "outputs": [
    {
     "data": {
      "text/plain": [
       "1.5621052228555947"
      ]
     },
     "execution_count": 211,
     "metadata": {},
     "output_type": "execute_result"
    }
   ],
   "source": [
    "# Erro padrão\n",
    "from scipy.stats import sem\n",
    "\n",
    "sem(dados.preco)"
   ]
  },
  {
   "cell_type": "code",
   "execution_count": 227,
   "metadata": {},
   "outputs": [
    {
     "data": {
      "text/plain": [
       "array([179., 199.])"
      ]
     },
     "execution_count": 227,
     "metadata": {},
     "output_type": "execute_result"
    }
   ],
   "source": [
    "# Cálculo do quartil\n",
    "np.quantile(dados.preco, q=[1/4,3/4])"
   ]
  },
  {
   "cell_type": "code",
   "execution_count": 224,
   "metadata": {},
   "outputs": [
    {
     "data": {
      "text/plain": [
       "array([179. , 179. , 189. , 196.4, 199. , 205. ])"
      ]
     },
     "execution_count": 224,
     "metadata": {},
     "output_type": "execute_result"
    }
   ],
   "source": [
    "# Cálculo do percentil\n",
    "np.percentile(dados.preco,q=[20,25,44,60,75,85])"
   ]
  },
  {
   "cell_type": "code",
   "execution_count": 240,
   "metadata": {},
   "outputs": [
    {
     "data": {
      "text/plain": [
       "244.01727272727283"
      ]
     },
     "execution_count": 240,
     "metadata": {},
     "output_type": "execute_result"
    }
   ],
   "source": [
    "# Variância\n",
    "dados.preco.var()"
   ]
  },
  {
   "cell_type": "code",
   "execution_count": 241,
   "metadata": {},
   "outputs": [
    {
     "data": {
      "text/plain": [
       "90"
      ]
     },
     "execution_count": 241,
     "metadata": {},
     "output_type": "execute_result"
    }
   ],
   "source": [
    "# Amplitude\n",
    "dados.preco.max() - dados.preco.min()"
   ]
  },
  {
   "cell_type": "code",
   "execution_count": 262,
   "metadata": {},
   "outputs": [
    {
     "data": {
      "text/plain": [
       "15.62105222855595"
      ]
     },
     "execution_count": 262,
     "metadata": {},
     "output_type": "execute_result"
    }
   ],
   "source": [
    "# Desvio padrão\n",
    "dados.preco.std()"
   ]
  },
  {
   "cell_type": "code",
   "execution_count": 265,
   "metadata": {},
   "outputs": [
    {
     "data": {
      "text/plain": [
       "1.562105222855595"
      ]
     },
     "execution_count": 265,
     "metadata": {},
     "output_type": "execute_result"
    }
   ],
   "source": [
    "# Erro padrão\n",
    "dados.preco.std()/np.sqrt(dados.preco.shape[0])"
   ]
  },
  {
   "cell_type": "code",
   "execution_count": 243,
   "metadata": {},
   "outputs": [
    {
     "data": {
      "text/plain": [
       "0.081473768002304"
      ]
     },
     "execution_count": 243,
     "metadata": {},
     "output_type": "execute_result"
    }
   ],
   "source": [
    "# Coeficiente de varição\n",
    "from scipy.stats import variation\n",
    "variation(dados.preco)"
   ]
  },
  {
   "cell_type": "code",
   "execution_count": 245,
   "metadata": {},
   "outputs": [
    {
     "data": {
      "text/plain": [
       "8.85513977544687"
      ]
     },
     "execution_count": 245,
     "metadata": {},
     "output_type": "execute_result"
    }
   ],
   "source": [
    "# Coeficiente de assimetria\n",
    "from scipy.stats import skew\n",
    "skew(dados.preco)"
   ]
  },
  {
   "cell_type": "code",
   "execution_count": 246,
   "metadata": {},
   "outputs": [
    {
     "data": {
      "text/plain": [
       "0.5770398783009636"
      ]
     },
     "execution_count": 246,
     "metadata": {},
     "output_type": "execute_result"
    }
   ],
   "source": [
    "# Curtose\n",
    "from scipy.stats import kurtosis\n",
    "kurtosis(dados.preco)"
   ]
  },
  {
   "cell_type": "code",
   "execution_count": 248,
   "metadata": {},
   "outputs": [],
   "source": [
    "from statsmodels.stats.descriptivestats import describe"
   ]
  },
  {
   "cell_type": "code",
   "execution_count": 255,
   "metadata": {},
   "outputs": [
    {
     "data": {
      "text/html": [
       "<div>\n",
       "<style scoped>\n",
       "    .dataframe tbody tr th:only-of-type {\n",
       "        vertical-align: middle;\n",
       "    }\n",
       "\n",
       "    .dataframe tbody tr th {\n",
       "        vertical-align: top;\n",
       "    }\n",
       "\n",
       "    .dataframe thead th {\n",
       "        text-align: right;\n",
       "    }\n",
       "</style>\n",
       "<table border=\"1\" class=\"dataframe\">\n",
       "  <thead>\n",
       "    <tr style=\"text-align: right;\">\n",
       "      <th></th>\n",
       "      <th>preco</th>\n",
       "    </tr>\n",
       "  </thead>\n",
       "  <tbody>\n",
       "    <tr>\n",
       "      <th>nobs</th>\n",
       "      <td>100.000000</td>\n",
       "    </tr>\n",
       "    <tr>\n",
       "      <th>missing</th>\n",
       "      <td>0.000000</td>\n",
       "    </tr>\n",
       "    <tr>\n",
       "      <th>mean</th>\n",
       "      <td>190.770000</td>\n",
       "    </tr>\n",
       "    <tr>\n",
       "      <th>std_err</th>\n",
       "      <td>0.156211</td>\n",
       "    </tr>\n",
       "    <tr>\n",
       "      <th>upper_ci</th>\n",
       "      <td>191.076167</td>\n",
       "    </tr>\n",
       "    <tr>\n",
       "      <th>lower_ci</th>\n",
       "      <td>190.463833</td>\n",
       "    </tr>\n",
       "    <tr>\n",
       "      <th>std</th>\n",
       "      <td>15.621052</td>\n",
       "    </tr>\n",
       "    <tr>\n",
       "      <th>iqr</th>\n",
       "      <td>20.000000</td>\n",
       "    </tr>\n",
       "    <tr>\n",
       "      <th>iqr_normal</th>\n",
       "      <td>14.826022</td>\n",
       "    </tr>\n",
       "    <tr>\n",
       "      <th>mad</th>\n",
       "      <td>12.076200</td>\n",
       "    </tr>\n",
       "    <tr>\n",
       "      <th>mad_normal</th>\n",
       "      <td>15.135272</td>\n",
       "    </tr>\n",
       "    <tr>\n",
       "      <th>coef_var</th>\n",
       "      <td>0.081884</td>\n",
       "    </tr>\n",
       "    <tr>\n",
       "      <th>range</th>\n",
       "      <td>90.000000</td>\n",
       "    </tr>\n",
       "    <tr>\n",
       "      <th>max</th>\n",
       "      <td>239.000000</td>\n",
       "    </tr>\n",
       "    <tr>\n",
       "      <th>min</th>\n",
       "      <td>149.000000</td>\n",
       "    </tr>\n",
       "    <tr>\n",
       "      <th>skew</th>\n",
       "      <td>0.088551</td>\n",
       "    </tr>\n",
       "    <tr>\n",
       "      <th>kurtosis</th>\n",
       "      <td>3.577040</td>\n",
       "    </tr>\n",
       "    <tr>\n",
       "      <th>jarque_bera</th>\n",
       "      <td>1.518085</td>\n",
       "    </tr>\n",
       "    <tr>\n",
       "      <th>jarque_bera_pval</th>\n",
       "      <td>0.468114</td>\n",
       "    </tr>\n",
       "    <tr>\n",
       "      <th>mode</th>\n",
       "      <td>199.000000</td>\n",
       "    </tr>\n",
       "    <tr>\n",
       "      <th>mode_freq</th>\n",
       "      <td>0.210000</td>\n",
       "    </tr>\n",
       "    <tr>\n",
       "      <th>median</th>\n",
       "      <td>189.000000</td>\n",
       "    </tr>\n",
       "  </tbody>\n",
       "</table>\n",
       "</div>"
      ],
      "text/plain": [
       "                       preco\n",
       "nobs              100.000000\n",
       "missing             0.000000\n",
       "mean              190.770000\n",
       "std_err             0.156211\n",
       "upper_ci          191.076167\n",
       "lower_ci          190.463833\n",
       "std                15.621052\n",
       "iqr                20.000000\n",
       "iqr_normal         14.826022\n",
       "mad                12.076200\n",
       "mad_normal         15.135272\n",
       "coef_var            0.081884\n",
       "range              90.000000\n",
       "max               239.000000\n",
       "min               149.000000\n",
       "skew                0.088551\n",
       "kurtosis            3.577040\n",
       "jarque_bera         1.518085\n",
       "jarque_bera_pval    0.468114\n",
       "mode              199.000000\n",
       "mode_freq           0.210000\n",
       "median            189.000000"
      ]
     },
     "execution_count": 255,
     "metadata": {},
     "output_type": "execute_result"
    }
   ],
   "source": [
    "describe(dados.preco)"
   ]
  },
  {
   "cell_type": "markdown",
   "metadata": {},
   "source": [
    "# <font color=green> Relação entre variáveis </font>"
   ]
  },
  {
   "cell_type": "markdown",
   "metadata": {},
   "source": [
    "## <font color=green> Associação - Qui² </font>"
   ]
  },
  {
   "cell_type": "markdown",
   "metadata": {},
   "source": [
    "> **Exemplo**: Um estudo foi realizado com 200 pessoas com o intuito de analisar\n",
    "o comportamento conjunto da variável “operadora de plano de saúde” com a\n",
    "variável “nível de satisfação” do consumidor. O objetivo é analisar se existe a\n",
    "associação estatisticamente significativa entre tais variáveis. (Fonte: Fávero e\n",
    "Belfiore, 2017, Cap. 8)"
   ]
  },
  {
   "cell_type": "code",
   "execution_count": 417,
   "metadata": {},
   "outputs": [
    {
     "name": "stdout",
     "output_type": "stream",
     "text": [
      "Tabela de frequências observadas:\n",
      " [[40 16 12]\n",
      " [32 24 16]\n",
      " [24 32  4]]\n",
      "\n",
      "Soma das linhas:\n",
      " [[68.]\n",
      " [72.]\n",
      " [60.]]\n",
      "\n",
      "Soma das colunas:\n",
      " [[96. 72. 32.]]\n"
     ]
    }
   ],
   "source": [
    "# Tabela de frequências observadas\n",
    "F_Observada = np.mat([[40,16,12],[32,24,16],[24,32,4]])\n",
    "\n",
    "# Soma dos valores nas linhas e colunas\n",
    "total_linhas = np.dot(F_Observada,np.ones(3)).T\n",
    "total_colunas=np.dot(F_Observada.T,np.ones(3))\n",
    "\n",
    "print('Tabela de frequências observadas:\\n',F_Observada)\n",
    "print('\\nSoma das linhas:\\n', total_linhas)\n",
    "print('\\nSoma das colunas:\\n',total_colunas)"
   ]
  },
  {
   "cell_type": "code",
   "execution_count": 587,
   "metadata": {},
   "outputs": [
    {
     "data": {
      "text/plain": [
       "4"
      ]
     },
     "execution_count": 587,
     "metadata": {},
     "output_type": "execute_result"
    }
   ],
   "source": [
    "# Graus de liberdade\n",
    "linhas = F_Observada.shape[0]\n",
    "colunas = F_Observada.shape[1]\n",
    "graus_de_liberdade = (linhas - 1)*(colunas - 1)\n",
    "graus_de_liberdade"
   ]
  },
  {
   "cell_type": "code",
   "execution_count": 400,
   "metadata": {},
   "outputs": [
    {
     "data": {
      "text/plain": [
       "True"
      ]
     },
     "execution_count": 400,
     "metadata": {},
     "output_type": "execute_result"
    }
   ],
   "source": [
    "# Verificando se a soma dos elementos da linha é igual a soma dos elementos da coluna\n",
    "np.sum(total_colunas) == np.sum(total_linhas)"
   ]
  },
  {
   "cell_type": "code",
   "execution_count": 564,
   "metadata": {},
   "outputs": [
    {
     "data": {
      "text/plain": [
       "matrix([[32.64, 24.48, 10.88],\n",
       "        [34.56, 25.92, 11.52],\n",
       "        [28.8 , 21.6 ,  9.6 ]])"
      ]
     },
     "execution_count": 564,
     "metadata": {},
     "output_type": "execute_result"
    }
   ],
   "source": [
    "# Construção da tabela de frequências absolutas esperadas\n",
    "F_Esperadas = ((total_linhas @ total_colunas)/np.sum(total_linhas))\n",
    "F_Esperadas"
   ]
  },
  {
   "cell_type": "code",
   "execution_count": 566,
   "metadata": {},
   "outputs": [
    {
     "data": {
      "text/plain": [
       "matrix([[ 7.36, -8.48,  1.12],\n",
       "        [-2.56, -1.92,  4.48],\n",
       "        [-4.8 , 10.4 , -5.6 ]])"
      ]
     },
     "execution_count": 566,
     "metadata": {},
     "output_type": "execute_result"
    }
   ],
   "source": [
    "# Cáclculo dos resíduos\n",
    "residuos = F_Observada - F_Esperadas\n",
    "residuos"
   ]
  },
  {
   "cell_type": "code",
   "execution_count": 567,
   "metadata": {},
   "outputs": [],
   "source": [
    "# Residuos ao quadrado\n",
    "residuos_quadrado = np.square(residuos)"
   ]
  },
  {
   "cell_type": "code",
   "execution_count": 570,
   "metadata": {},
   "outputs": [
    {
     "data": {
      "text/plain": [
       "array([[1.66, 2.94, 0.12],\n",
       "       [0.19, 0.14, 1.74],\n",
       "       [0.8 , 5.01, 3.27]])"
      ]
     },
     "execution_count": 570,
     "metadata": {},
     "output_type": "execute_result"
    }
   ],
   "source": [
    "# Valores Chi²\n",
    "chi_quadrado = (residuos_quadrado / F_Esperadas).round(2)\n",
    "chi_quadrado"
   ]
  },
  {
   "cell_type": "code",
   "execution_count": 573,
   "metadata": {},
   "outputs": [
    {
     "data": {
      "text/plain": [
       "15.87"
      ]
     },
     "execution_count": 573,
     "metadata": {},
     "output_type": "execute_result"
    }
   ],
   "source": [
    "valor_chi_quadrado = np.sum(chi_quadrado).round(3)\n",
    "valor_chi_quadrado"
   ]
  },
  {
   "cell_type": "code",
   "execution_count": 591,
   "metadata": {},
   "outputs": [
    {
     "name": "stdout",
     "output_type": "stream",
     "text": [
      "[[40 16 12]\n",
      " [32 24 16]\n",
      " [24 32  4]]\n"
     ]
    }
   ],
   "source": [
    "# chi-squared test with similar proportions\n",
    "from scipy.stats import chi2_contingency\n",
    "from scipy.stats import chi2\n",
    "# contingency table\n",
    "table = F_Observada\n",
    "print(table)"
   ]
  },
  {
   "cell_type": "code",
   "execution_count": 597,
   "metadata": {},
   "outputs": [
    {
     "name": "stdout",
     "output_type": "stream",
     "text": [
      "stat=15.861\n",
      "p=0.003\n",
      "dof=4\n",
      "[[32.64 24.48 10.88]\n",
      " [34.56 25.92 11.52]\n",
      " [28.8  21.6   9.6 ]]\n"
     ]
    }
   ],
   "source": [
    "stat, p, dof, expected = chi2_contingency(table)\n",
    "print('stat=%.3f' % stat)\n",
    "print('p=%.3f' % p)\n",
    "print('dof=%d' % dof)\n",
    "print(expected)"
   ]
  },
  {
   "cell_type": "code",
   "execution_count": 593,
   "metadata": {},
   "outputs": [
    {
     "name": "stdout",
     "output_type": "stream",
     "text": [
      "probability=0.950, critical=9.488, stat=15.861\n",
      "Dependent (reject H0)\n"
     ]
    }
   ],
   "source": [
    "# interpret test-statistic\n",
    "prob = 0.95\n",
    "critical = chi2.ppf(prob, dof)\n",
    "print('probability=%.3f, critical=%.3f, stat=%.3f' % (prob, critical, stat))\n",
    "if abs(stat) >= critical:\n",
    "    print('Dependent (reject H0)')\n",
    "else:\n",
    "    print('Independent (fail to reject H0)')"
   ]
  },
  {
   "cell_type": "code",
   "execution_count": 594,
   "metadata": {},
   "outputs": [
    {
     "name": "stdout",
     "output_type": "stream",
     "text": [
      "significance=0.050, p=0.003\n",
      "Dependent (reject H0)\n"
     ]
    }
   ],
   "source": [
    "# interpret p-value\n",
    "alpha = 1.0 - prob\n",
    "print('significance=%.3f, p=%.3f' % (alpha, p))\n",
    "if p <= alpha:\n",
    "    print('Dependent (reject H0)')\n",
    "else:\n",
    "    print('Independent (fail to reject H0)')"
   ]
  },
  {
   "cell_type": "markdown",
   "metadata": {},
   "source": [
    "## <font color=green> Correlação de Pearson </font>"
   ]
  },
  {
   "cell_type": "markdown",
   "metadata": {},
   "source": [
    "> **Exemplo**\n",
    "\n",
    "> O coordenador de um curso deseja analisar se existe correlação\n",
    "entre as notas dos alunos em diferentes matérias. Para tanto, montou um\n",
    "banco de dados com as notas de 30 alunos para as disciplinas de matemática,\n",
    "física e literatura. Em seguida, deseja calcular os pares de correlações entre as\n",
    "notas de matemática – física, matemática – literatura e física – literatura.\n",
    "Quais são as correlações de Pearson obtidas?"
   ]
  },
  {
   "cell_type": "code",
   "execution_count": 849,
   "metadata": {},
   "outputs": [],
   "source": [
    "# import da base\n",
    "dados = pd.read_excel('Planilha Suporte - Introdução Estatística (Final).xlsx', \n",
    "                      sheet_name='Correlação de Pearson' ,\n",
    "                      usecols='A:D',  \n",
    "                      engine=\"openpyxl\")"
   ]
  },
  {
   "cell_type": "code",
   "execution_count": 850,
   "metadata": {},
   "outputs": [],
   "source": [
    "dados.rename(columns={'Nº Observação':'n_observacao',\n",
    "                      'Nota Matemática':'matematica',\n",
    "                      'Nota Física':'fisica',\n",
    "                      'Nota Literatura':'literatura'},\n",
    "            inplace=True)"
   ]
  },
  {
   "cell_type": "code",
   "execution_count": 851,
   "metadata": {},
   "outputs": [
    {
     "data": {
      "text/html": [
       "<div>\n",
       "<style scoped>\n",
       "    .dataframe tbody tr th:only-of-type {\n",
       "        vertical-align: middle;\n",
       "    }\n",
       "\n",
       "    .dataframe tbody tr th {\n",
       "        vertical-align: top;\n",
       "    }\n",
       "\n",
       "    .dataframe thead th {\n",
       "        text-align: right;\n",
       "    }\n",
       "</style>\n",
       "<table border=\"1\" class=\"dataframe\">\n",
       "  <thead>\n",
       "    <tr style=\"text-align: right;\">\n",
       "      <th></th>\n",
       "      <th>matematica</th>\n",
       "      <th>fisica</th>\n",
       "      <th>literatura</th>\n",
       "    </tr>\n",
       "  </thead>\n",
       "  <tbody>\n",
       "    <tr>\n",
       "      <th>count</th>\n",
       "      <td>30.00000</td>\n",
       "      <td>30.000000</td>\n",
       "      <td>30.000000</td>\n",
       "    </tr>\n",
       "    <tr>\n",
       "      <th>mean</th>\n",
       "      <td>6.77500</td>\n",
       "      <td>6.866667</td>\n",
       "      <td>6.566667</td>\n",
       "    </tr>\n",
       "    <tr>\n",
       "      <th>std</th>\n",
       "      <td>2.05354</td>\n",
       "      <td>1.716720</td>\n",
       "      <td>1.715715</td>\n",
       "    </tr>\n",
       "    <tr>\n",
       "      <th>min</th>\n",
       "      <td>3.00000</td>\n",
       "      <td>3.000000</td>\n",
       "      <td>3.000000</td>\n",
       "    </tr>\n",
       "    <tr>\n",
       "      <th>25%</th>\n",
       "      <td>5.00000</td>\n",
       "      <td>5.125000</td>\n",
       "      <td>5.125000</td>\n",
       "    </tr>\n",
       "    <tr>\n",
       "      <th>50%</th>\n",
       "      <td>6.75000</td>\n",
       "      <td>7.500000</td>\n",
       "      <td>6.500000</td>\n",
       "    </tr>\n",
       "    <tr>\n",
       "      <th>75%</th>\n",
       "      <td>8.37500</td>\n",
       "      <td>8.000000</td>\n",
       "      <td>8.000000</td>\n",
       "    </tr>\n",
       "    <tr>\n",
       "      <th>max</th>\n",
       "      <td>10.00000</td>\n",
       "      <td>10.000000</td>\n",
       "      <td>10.000000</td>\n",
       "    </tr>\n",
       "  </tbody>\n",
       "</table>\n",
       "</div>"
      ],
      "text/plain": [
       "       matematica     fisica  literatura\n",
       "count    30.00000  30.000000   30.000000\n",
       "mean      6.77500   6.866667    6.566667\n",
       "std       2.05354   1.716720    1.715715\n",
       "min       3.00000   3.000000    3.000000\n",
       "25%       5.00000   5.125000    5.125000\n",
       "50%       6.75000   7.500000    6.500000\n",
       "75%       8.37500   8.000000    8.000000\n",
       "max      10.00000  10.000000   10.000000"
      ]
     },
     "execution_count": 851,
     "metadata": {},
     "output_type": "execute_result"
    }
   ],
   "source": [
    "# Descritiva\n",
    "notas = dados.drop(['n_observacao'], axis=1)\n",
    "notas.describe()"
   ]
  },
  {
   "cell_type": "markdown",
   "metadata": {},
   "source": [
    "- Temos na base 30 observações atribuídas para cada um dos atributos, sendo eles as notas de matemática, física e literatura.  \n",
    "- Da Descritiva obtemos que a média da nota em física é a maior (nota 6,87) e a média da nota em literatura é a menor (nota 6,57).  \n",
    "- Os seus desvios são aproximadamente iguais e a nota de matemática é a que apresenta maior desvio."
   ]
  },
  {
   "cell_type": "code",
   "execution_count": 852,
   "metadata": {},
   "outputs": [],
   "source": [
    "# palette -> Accent, Accent_r, Blues, Blues_r, BrBG, BrBG_r, BuGn, BuGn_r, BuPu, BuPu_r, CMRmap, CMRmap_r, Dark2, Dark2_r, GnBu, GnBu_r, Greens, Greens_r, Greys, Greys_r, OrRd, OrRd_r, Oranges, Oranges_r, PRGn, PRGn_r, Paired, Paired_r, Pastel1, Pastel1_r, Pastel2, Pastel2_r, PiYG, PiYG_r, PuBu, PuBuGn, PuBuGn_r, PuBu_r, PuOr, PuOr_r, PuRd, PuRd_r, Purples, Purples_r, RdBu, RdBu_r, RdGy, RdGy_r, RdPu, RdPu_r, RdYlBu, RdYlBu_r, RdYlGn, RdYlGn_r, Reds, Reds_r, Set1, Set1_r, Set2, Set2_r, Set3, Set3_r, Spectral, Spectral_r, Wistia, Wistia_r, YlGn, YlGnBu, YlGnBu_r, YlGn_r, YlOrBr, YlOrBr_r, YlOrRd, YlOrRd_r, afmhot, afmhot_r, autumn, autumn_r, binary, binary_r, bone, bone_r, brg, brg_r, bwr, bwr_r, cividis, cividis_r, cool, cool_r, coolwarm, coolwarm_r, copper, copper_r, cubehelix, cubehelix_r, flag, flag_r, gist_earth, gist_earth_r, gist_gray, gist_gray_r, gist_heat, gist_heat_r, gist_ncar, gist_ncar_r, gist_rainbow, gist_rainbow_r, gist_stern, gist_stern_r, gist_yarg, gist_yarg_r, gnuplot, gnuplot2, gnuplot2_r, gnuplot_r, gray, gray_r, hot, hot_r, hsv, hsv_r, icefire, icefire_r, inferno, inferno_r, jet, jet_r, magma, magma_r, mako, mako_r, nipy_spectral, nipy_spectral_r, ocean, ocean_r, pink, pink_r, plasma, plasma_r, prism, prism_r, rainbow, rainbow_r, rocket, rocket_r, seismic, seismic_r, spring, spring_r, summer, summer_r, tab10, tab10_r, tab20, tab20_r, tab20b, tab20b_r, tab20c, tab20c_r, terrain, terrain_r, viridis, viridis_r, vlag, vlag_r, winter, winter_r\n",
    "sns.set_palette(\"Accent\")\n",
    "\n",
    "# style -> white, dark, whitegrid, darkgrid, ticks\n",
    "sns.set_style(\"darkgrid\")"
   ]
  },
  {
   "cell_type": "markdown",
   "metadata": {},
   "source": [
    "## <font color=green\\>Covariâncias<font>"
   ]
  },
  {
   "cell_type": "code",
   "execution_count": 853,
   "metadata": {},
   "outputs": [
    {
     "data": {
      "text/plain": [
       "<AxesSubplot:>"
      ]
     },
     "execution_count": 853,
     "metadata": {},
     "output_type": "execute_result"
    },
    {
     "data": {
      "image/png": "[encoded data removed]",
      "text/plain": [
       "<Figure size 432x288 with 2 Axes>"
      ]
     },
     "metadata": {},
     "output_type": "display_data"
    }
   ],
   "source": [
    "sns.heatmap(notas.cov(), annot=True, fmt='.4f', cmap=\"YlGnBu\")"
   ]
  },
  {
   "cell_type": "markdown",
   "metadata": {},
   "source": [
    "## <font color=green\\>Correlação<font>"
   ]
  },
  {
   "cell_type": "code",
   "execution_count": 854,
   "metadata": {},
   "outputs": [
    {
     "data": {
      "text/plain": [
       "<AxesSubplot:>"
      ]
     },
     "execution_count": 854,
     "metadata": {},
     "output_type": "execute_result"
    },
    {
     "data": {
      "image/png": "[encoded data removed]",
      "text/plain": [
       "<Figure size 432x288 with 2 Axes>"
      ]
     },
     "metadata": {},
     "output_type": "display_data"
    }
   ],
   "source": [
    "matrix_correlacao = notas.corr(method='pearson')\n",
    "sns.heatmap(matrix_correlacao, annot=True, fmt='.3f', cmap=\"YlGnBu\")"
   ]
  },
  {
   "cell_type": "markdown",
   "metadata": {},
   "source": [
    "## <font color=green\\> Análise entre os pares de variáveis <font>"
   ]
  },
  {
   "cell_type": "code",
   "execution_count": 1007,
   "metadata": {},
   "outputs": [],
   "source": [
    "from scipy.stats import pearsonr\n",
    "from scipy.stats import linregress\n",
    "\n",
    "def p_valor(dados1, dados2, n):\n",
    "    # correlação de pearson e p-valor\n",
    "    _, _, r, p, _ = linregress(dados1, dados2)\n",
    "    \n",
    "    # cálculo da estatística t\n",
    "    statt = r/np.sqrt((1-(r**2))/(n-2))\n",
    "    \n",
    "    return r, p , statt"
   ]
  },
  {
   "cell_type": "markdown",
   "metadata": {},
   "source": [
    "> Matematica e Física"
   ]
  },
  {
   "cell_type": "code",
   "execution_count": 1034,
   "metadata": {},
   "outputs": [
    {
     "data": {
      "text/plain": [
       "(0.6025321124160093, 0.0004260030729539871, 3.9948899481293085)"
      ]
     },
     "execution_count": 1034,
     "metadata": {},
     "output_type": "execute_result"
    }
   ],
   "source": [
    "r1, pvalor1, statt1 = p_valor(dados.matematica, dados.fisica, 30) \n",
    "r1, pvalor1, statt1"
   ]
  },
  {
   "cell_type": "markdown",
   "metadata": {},
   "source": [
    "> Matematica e Literatura"
   ]
  },
  {
   "cell_type": "code",
   "execution_count": 1035,
   "metadata": {},
   "outputs": [
    {
     "data": {
      "text/plain": [
       "(-0.30878277832686235, 0.09686159239066, -1.7178728870656619)"
      ]
     },
     "execution_count": 1035,
     "metadata": {},
     "output_type": "execute_result"
    }
   ],
   "source": [
    "r2, pvalor2, statt2 = p_valor(dados.matematica, dados.literatura, 30) \n",
    "r2, pvalor2, statt2"
   ]
  },
  {
   "cell_type": "markdown",
   "metadata": {},
   "source": [
    "> Fisica e Literatura"
   ]
  },
  {
   "cell_type": "code",
   "execution_count": 1036,
   "metadata": {},
   "outputs": [
    {
     "data": {
      "text/plain": [
       "(-0.28956102521926375, 0.12064697753111915, -1.600791547335471)"
      ]
     },
     "execution_count": 1036,
     "metadata": {},
     "output_type": "execute_result"
    }
   ],
   "source": [
    "r3, pvalor3, statt3 = p_valor(dados.fisica, dados.literatura, 30) \n",
    "r3, pvalor3, statt3"
   ]
  },
  {
   "cell_type": "markdown",
   "metadata": {},
   "source": [
    "> Valor crítico"
   ]
  },
  {
   "cell_type": "code",
   "execution_count": 1018,
   "metadata": {},
   "outputs": [],
   "source": [
    "from scipy.stats import t as t_student"
   ]
  },
  {
   "cell_type": "code",
   "execution_count": 1013,
   "metadata": {},
   "outputs": [],
   "source": [
    "significancia = 0.05\n",
    "confianca = 1 - significancia"
   ]
  },
  {
   "cell_type": "code",
   "execution_count": 1048,
   "metadata": {},
   "outputs": [
    {
     "data": {
      "text/plain": [
       "2.048407141795244"
      ]
     },
     "execution_count": 1048,
     "metadata": {},
     "output_type": "execute_result"
    }
   ],
   "source": [
    "# Como a função ppf é bicaudal então o valor de significância é dividido por 2, ou seja, 0.025 para cada lado\n",
    "t_alpha = np.abs(t_student.ppf(significancia/2, 28))\n",
    "np.abs(t_alpha)"
   ]
  },
  {
   "cell_type": "markdown",
   "metadata": {},
   "source": [
    "<font color=green\\> Teste de hipótese<font>"
   ]
  },
  {
   "cell_type": "code",
   "execution_count": 1053,
   "metadata": {},
   "outputs": [
    {
     "name": "stdout",
     "output_type": "stream",
     "text": [
      "Rejeita H0\n"
     ]
    }
   ],
   "source": [
    "if np.abs(statt1) >= t_alpha:\n",
    "    print('Rejeita H0')\n",
    "else:\n",
    "    print('Aceito H0')"
   ]
  },
  {
   "cell_type": "code",
   "execution_count": 1054,
   "metadata": {},
   "outputs": [
    {
     "name": "stdout",
     "output_type": "stream",
     "text": [
      "Aceito H0\n"
     ]
    }
   ],
   "source": [
    "if np.abs(statt2) >= t_alpha:\n",
    "    print('Rejeita H0')\n",
    "else:\n",
    "    print('Aceito H0')"
   ]
  },
  {
   "cell_type": "code",
   "execution_count": 1055,
   "metadata": {},
   "outputs": [
    {
     "name": "stdout",
     "output_type": "stream",
     "text": [
      "Aceito H0\n"
     ]
    }
   ],
   "source": [
    "if np.abs(statt3) >= t_alpha:\n",
    "    print('Rejeita H0')\n",
    "else:\n",
    "    print('Aceito H0')"
   ]
  },
  {
   "cell_type": "markdown",
   "metadata": {},
   "source": [
    "# <font color=green\\> Distribuições de Probabilidades <font>"
   ]
  },
  {
   "cell_type": "markdown",
   "metadata": {},
   "source": [
    "> No Scipy as funções e documentações de distribuições discretas podem ser encontradas no seguinte link:\n",
    "- documentação: https://docs.scipy.org/doc/scipy/reference/tutorial/stats/discrete.html\n",
    "- funções: https://docs.scipy.org/doc/scipy/reference/stats.html"
   ]
  },
  {
   "cell_type": "markdown",
   "metadata": {},
   "source": [
    "## <font color=green\\> Variáveis discretas <font>"
   ]
  },
  {
   "cell_type": "markdown",
   "metadata": {},
   "source": [
    "> ### Distribuições de probabilidade para variáveis discretas \n",
    "**1** - Uniforme  \n",
    "**2** - Bernoulli  \n",
    "**3** - Binomial  \n",
    "**4** - Binomial negativa  \n",
    "**5** - Poisson"
   ]
  },
  {
   "cell_type": "markdown",
   "metadata": {},
   "source": [
    "### <font color=green\\> Distribuição Uniforme Discreta <font>"
   ]
  },
  {
   "cell_type": "code",
   "execution_count": 103,
   "metadata": {},
   "outputs": [
    {
     "data": {
      "image/png": "[encoded data removed]",
      "text/plain": [
       "<Figure size 720x360 with 1 Axes>"
      ]
     },
     "metadata": {},
     "output_type": "display_data"
    }
   ],
   "source": [
    "from scipy.stats import uniform\n",
    "import matplotlib.pyplot as plt\n",
    "\n",
    "fig, ax = plt.subplots(1, 1, figsize=(10,5))\n",
    "\n",
    "# Função densidade de probabilidade (fdp ou pdf)\n",
    "# ppf é o percentile point function\n",
    "x = np.linspace(uniform.ppf(0.01),\n",
    "                uniform.ppf(0.99), 100)\n",
    "ax.plot(x, uniform.pdf(x), 'r-', lw=5, alpha=0.6, label='uniform pdf')\n",
    "ax.fill_between(x, uniform.pdf(x), color ='g', alpha=0.4 )\n",
    "\n",
    "ax.legend(loc='best', frameon=False)\n",
    "plt.show()"
   ]
  },
  {
   "cell_type": "markdown",
   "metadata": {},
   "source": [
    "### <font color=green\\> Distribuição Bernoulli <font>"
   ]
  },
  {
   "cell_type": "markdown",
   "metadata": {},
   "source": [
    "Os valores da variável podem assumir apenas dois resultados possíveis, sendo que tais resultados são chamados de sucesso (x=1) ou fracasso (x=0)\n",
    "\n",
    "$$P\\left ( X= x \\right ) = p^{x} \\cdot \\left ( 1 - p \\right )^{1-x}$$"
   ]
  },
  {
   "cell_type": "markdown",
   "metadata": {},
   "source": [
    "> **Exemplo** - A probabilidade (p) de que um candidato seja aprovado (x=1) em\n",
    "um exame para um conselho de classes é de 48%. Se cada candidato só pode\n",
    "realizar o exame uma vez, analise as probabilidades possíveis por meio da\n",
    "distribuição de Bernoulli"
   ]
  },
  {
   "cell_type": "code",
   "execution_count": 104,
   "metadata": {
    "tags": []
   },
   "outputs": [
    {
     "data": {
      "image/png": "[encoded data removed]",
      "text/plain": [
       "<Figure size 720x360 with 1 Axes>"
      ]
     },
     "metadata": {},
     "output_type": "display_data"
    }
   ],
   "source": [
    "from scipy.stats import bernoulli\n",
    "import matplotlib.pyplot as plt\n",
    "\n",
    "fig, ax = plt.subplots(1, 1, figsize=(10,5))\n",
    "\n",
    "# Probabilidade de sucesso\n",
    "p = 0.48\n",
    "\n",
    "# Mostrando a função de massa de probabilidade (pmf)\n",
    "x = np.arange(bernoulli.ppf(0.01, p),\n",
    "              bernoulli.ppf(0.99, p))\n",
    "ax.plot(x, bernoulli.pmf(x, p), 'bo', ms=8, label='bernoulli pmf')\n",
    "ax.vlines(x, 0, bernoulli.pmf(x, p), colors='b', lw=5, alpha=0.5)\n",
    "\n",
    "plt.show()"
   ]
  },
  {
   "cell_type": "code",
   "execution_count": 79,
   "metadata": {},
   "outputs": [
    {
     "name": "stdout",
     "output_type": "stream",
     "text": [
      "A probabilidade (p) de uma candidato seja aprovado (x=1) em um exame para um conselho de classes é de 0.48.\n"
     ]
    }
   ],
   "source": [
    "print('A probabilidade (p) de uma candidato seja aprovado (x=1) em um exame para um conselho de classes é de %.2f.' % bernoulli.pmf(1,0.48))"
   ]
  },
  {
   "cell_type": "code",
   "execution_count": 80,
   "metadata": {},
   "outputs": [
    {
     "name": "stdout",
     "output_type": "stream",
     "text": [
      "A probabilidade (p) de uma candidato seja reprovado (x=0) em um exame para um conselho de classe é de 0.52.\n"
     ]
    }
   ],
   "source": [
    "print('A probabilidade (p) de uma candidato seja reprovado (x=0) em um exame para um conselho de classe é de %.2f.' % bernoulli.pmf(0,0.48))"
   ]
  },
  {
   "cell_type": "code",
   "execution_count": 105,
   "metadata": {
    "tags": []
   },
   "outputs": [
    {
     "data": {
      "image/png": "[encoded data removed]",
      "text/plain": [
       "<Figure size 720x360 with 1 Axes>"
      ]
     },
     "metadata": {},
     "output_type": "display_data"
    }
   ],
   "source": [
    "fig, ax = plt.subplots(1, 1, figsize=(10,5))\n",
    "\n",
    "for i in np.arange(0,1,0.2):\n",
    "    # Probabilidade de sucesso\n",
    "    p = i\n",
    "    # Mostrando a função de massa de probabilidade (pmf)\n",
    "    x = np.arange(0,1.1,1)\n",
    "    ax.plot(x, bernoulli.pmf(x, p), 'bo', ms=8, label='bernoulli pmf')\n",
    "#    ax.vlines(x, 0, bernoulli.pmf(x, p), colors='b', lw=5, alpha=0.5)\n",
    "\n",
    "plt.show()"
   ]
  },
  {
   "cell_type": "markdown",
   "metadata": {},
   "source": [
    "### <font color=green\\> Distribuição Binomial <font>"
   ]
  },
  {
   "cell_type": "markdown",
   "metadata": {},
   "source": [
    "A distribuição binomial ocorre quando há (n) repetições independentes do experimento de Bernoulli e a probabilidade de sucesso (p) é constante em todas as repetições\n",
    "\n",
    "$$P\\left ( X= k \\right ) = \\binom{n}{k}\\cdot p^{k} \\cdot \\left ( 1 - p \\right )^{n-k}$$\n",
    "\n",
    "onde,\n",
    "- k é a quantidade de sucessos\n",
    "- n repetições do experimento"
   ]
  },
  {
   "cell_type": "markdown",
   "metadata": {},
   "source": [
    "> **Exemplo** - Em uma indústria, sabe-se que a probabilidade (p) de encontrar\n",
    "peças defeituosas em cada lote produzido é 6,50%. São produzidos 12 lotes\n",
    "(n) da peça por mês. Analise as seguintes probabilidades (k):  \n",
    "a) Qual a probabilidade de encontrar peças defeituosas em 2 lotes no mês?  \n",
    "b) Qual a probabilidade de encontrar peças defeituosas em 4 lotes no mês?  \n",
    "c) Qual a probabilidade de encontrar peças defeituosas em no máximo 2 lotes?  "
   ]
  },
  {
   "cell_type": "code",
   "execution_count": 85,
   "metadata": {},
   "outputs": [],
   "source": [
    "from scipy.stats import binom"
   ]
  },
  {
   "cell_type": "markdown",
   "metadata": {},
   "source": [
    "> a Qual a probabilidade de encontrar peças defeituosas em 2 lotes no mês?  "
   ]
  },
  {
   "cell_type": "code",
   "execution_count": 86,
   "metadata": {},
   "outputs": [
    {
     "name": "stdout",
     "output_type": "stream",
     "text": [
      "A probabilidade é de 14.24 %\n"
     ]
    }
   ],
   "source": [
    "n, p, k = 12, 0.065, 2\n",
    "print('A probabilidade é de {} %'.format((binom.pmf(k, n, p) * 100).round(2)))"
   ]
  },
  {
   "cell_type": "markdown",
   "metadata": {},
   "source": [
    "> b) Qual a probabilidade de encontrar peças defeituosas em 4 lotes no mês? "
   ]
  },
  {
   "cell_type": "code",
   "execution_count": 87,
   "metadata": {},
   "outputs": [
    {
     "name": "stdout",
     "output_type": "stream",
     "text": [
      "A probabilidade é de 0.52 %\n"
     ]
    }
   ],
   "source": [
    "n, p, k = 12, 0.065, 4\n",
    "print('A probabilidade é de {} %'.format((binom.pmf(k, n, p) * 100).round(2)))"
   ]
  },
  {
   "cell_type": "markdown",
   "metadata": {},
   "source": [
    "> c) Qual a probabilidade de encontrar peças defeituosas em no máximo 2 lotes?"
   ]
  },
  {
   "cell_type": "code",
   "execution_count": 107,
   "metadata": {},
   "outputs": [],
   "source": [
    "n, p, k = 12, 0.065, 3"
   ]
  },
  {
   "cell_type": "code",
   "execution_count": 108,
   "metadata": {},
   "outputs": [
    {
     "name": "stdout",
     "output_type": "stream",
     "text": [
      "A probabilidade é de 96.12 %\n"
     ]
    }
   ],
   "source": [
    "lst_prob = []\n",
    "[lst_prob.append(binom.pmf(i,n,p)) for i in range(k)]\n",
    "print('A probabilidade é de {} %'.format((np.sum(lst_prob * 100).round(2))))"
   ]
  },
  {
   "cell_type": "markdown",
   "metadata": {},
   "source": [
    "> Explorando graficamente"
   ]
  },
  {
   "cell_type": "code",
   "execution_count": 109,
   "metadata": {},
   "outputs": [
    {
     "data": {
      "image/png": "[encoded data removed]",
      "text/plain": [
       "<Figure size 1080x720 with 1 Axes>"
      ]
     },
     "metadata": {},
     "output_type": "display_data"
    }
   ],
   "source": [
    "fig, ax = plt.subplots(1, 1, figsize=(15,10))\n",
    "\n",
    "x = np.arange(binom.ppf(0.01, n, p), 10)\n",
    "ax.plot(x, binom.pmf(x, n, p), 'bo', ms=8, label='binom pmf')\n",
    "ax.vlines(x, 0, binom.pmf(x, n, p), colors='b', lw=5, alpha=0.5)\n",
    "\n",
    "ax.legend(loc='best', frameon=False)\n",
    "plt.show()"
   ]
  },
  {
   "cell_type": "markdown",
   "metadata": {},
   "source": [
    "### <font color=green\\> Distribuição Binomial Negativa <font>"
   ]
  },
  {
   "cell_type": "markdown",
   "metadata": {},
   "source": [
    "- Na binomial negativa, são realizados (x) ensaios independentes de Bernoulli até que sejam obtidos (k) sucessos.  \n",
    "- A probabilidade de sucesso (p) é constante em todos os ensaios realizados.  \n",
    "- A variável no modelo binomial negativa indica a quantidade de ensaior (x)\n",
    "\n",
    "$$P\\left ( X= x \\right ) = \\binom{x - 1}{k - 1}\\cdot p^{k} \\cdot \\left ( 1 - p \\right )^{x-k}$$"
   ]
  },
  {
   "cell_type": "markdown",
   "metadata": {},
   "source": [
    "> **Exemplo** - Em um parque de diversões, existe uma máquina em que o jogador\n",
    "deve capturar algum item utilizando os comandos de um braço mecânico.\n",
    "Considere que a probabilidade (p) de que o jogador consiga capturar algum\n",
    "item em cada jogada é 11%. Identifique as seguintes probabilidades:  \n",
    "a) De que o jogador necessite de 10 jogadas para capturar 3 itens.  \n",
    "b) De que o jogador necessite de 20 jogadas para capturar 3 itens.  \n",
    "c) De que o jogador necessite de 5 jogadas para capturar 1 item."
   ]
  },
  {
   "cell_type": "code",
   "execution_count": 110,
   "metadata": {},
   "outputs": [],
   "source": [
    "from scipy.stats import nbinom"
   ]
  },
  {
   "cell_type": "markdown",
   "metadata": {},
   "source": [
    "a) De que o jogador necessite de 10 jogadas para capturar 3 itens. "
   ]
  },
  {
   "cell_type": "code",
   "execution_count": 111,
   "metadata": {},
   "outputs": [
    {
     "name": "stdout",
     "output_type": "stream",
     "text": [
      "A probabilidade é de 2.12 %\n"
     ]
    }
   ],
   "source": [
    "k, n, p = 10, 3, 0.11\n",
    "print('A probabilidade é de {} %'.format((nbinom.pmf(k - n, n, p) * 100).round(2)))"
   ]
  },
  {
   "cell_type": "markdown",
   "metadata": {},
   "source": [
    "> Importante ressaltar que a função está na forma 'padronizada'. Ou seja, Para fazer o deslocamento da distribuição é preciso usar o parâmetro loc. Mais especificamente, nbinom.pmf(k, n, p, loc) é equivalente a nbinom.pmf(k - loc, n, p) como também foi realizado na função do item a) acima."
   ]
  },
  {
   "cell_type": "code",
   "execution_count": 112,
   "metadata": {},
   "outputs": [
    {
     "data": {
      "text/plain": [
       "[0.13, 0.36, 0.63, 0.94, 1.25, 1.56, 1.85, 2.12, 2.36, 2.56]"
      ]
     },
     "execution_count": 112,
     "metadata": {},
     "output_type": "execute_result"
    }
   ],
   "source": [
    "n, p = 3, 0.11\n",
    "k = np.arange(0,10)\n",
    "binomial = nbinom.pmf(k,n,p)\n",
    "list((binomial*100).round(2))"
   ]
  },
  {
   "cell_type": "markdown",
   "metadata": {},
   "source": [
    "b) De que o jogador necessite de 20 jogadas para capturar 3 itens.  "
   ]
  },
  {
   "cell_type": "code",
   "execution_count": 113,
   "metadata": {},
   "outputs": [
    {
     "name": "stdout",
     "output_type": "stream",
     "text": [
      "A probabilidade é de 3.14 %\n"
     ]
    }
   ],
   "source": [
    "k, n, p = 20, 3, 0.11\n",
    "print('A probabilidade é de {} %'.format(((nbinom.pmf(k-n, n, p) * 100)).round(2)))"
   ]
  },
  {
   "cell_type": "markdown",
   "metadata": {},
   "source": [
    "c) De que o jogador necessite de 5 jogadas para capturar 1 item."
   ]
  },
  {
   "cell_type": "code",
   "execution_count": 114,
   "metadata": {},
   "outputs": [
    {
     "name": "stdout",
     "output_type": "stream",
     "text": [
      "A probabilidade é de 6.9 %\n"
     ]
    }
   ],
   "source": [
    "k, n, p = 5, 1, 0.11\n",
    "print('A probabilidade é de {} %'.format(((nbinom.pmf(k-1, n, p) * 100)).round(2)))"
   ]
  },
  {
   "cell_type": "markdown",
   "metadata": {},
   "source": [
    "> Grafico"
   ]
  },
  {
   "cell_type": "code",
   "execution_count": 115,
   "metadata": {},
   "outputs": [
    {
     "data": {
      "image/png": "[encoded data removed]",
      "text/plain": [
       "<Figure size 1080x720 with 1 Axes>"
      ]
     },
     "metadata": {},
     "output_type": "display_data"
    }
   ],
   "source": [
    "fig, ax1 = plt.subplots(1, 1, figsize=(15,10))\n",
    "\n",
    "n, p = 3, 0.40\n",
    "\n",
    "x = np.arange(nbinom.ppf(0.01, n, p),\n",
    "              nbinom.ppf(0.99, n, p))\n",
    "ax1.plot(x, nbinom.pmf(x - n, n, p), 'bo', ms=8, label='nbinom pmf')\n",
    "ax1.vlines(x, 0, nbinom.pmf(x - n, n, p), colors='b', lw=5, alpha=0.5)\n",
    "\n",
    "plt.show()"
   ]
  },
  {
   "cell_type": "code",
   "execution_count": 116,
   "metadata": {},
   "outputs": [
    {
     "data": {
      "image/png": "[encoded data removed]",
      "text/plain": [
       "<Figure size 1080x720 with 1 Axes>"
      ]
     },
     "metadata": {},
     "output_type": "display_data"
    }
   ],
   "source": [
    "fig, ax = plt.subplots(1, 1, figsize=(15,10))\n",
    "\n",
    "for i in range(2,10,1):\n",
    "    n, p = i, 0.11\n",
    "\n",
    "    x = np.arange(0,200)\n",
    "    ax.plot(x, nbinom.pmf(x - n, n, p), label='n = {}'.format(i), lw=5, alpha=0.5)\n",
    "    ax.plot(x, nbinom.pmf(x - n, n, p), 'bo', ms=3)\n",
    "    ax.legend(loc='best', frameon=False)\n",
    "    plt.xlabel('número de ensaios (n)', fontdict={'size':20})\n",
    "    plt.title('Binomial Negativa', fontdict={'size':25})\n",
    "\n",
    "plt.show()"
   ]
  },
  {
   "cell_type": "markdown",
   "metadata": {},
   "source": [
    "### <font color=green\\> Poisson <font>"
   ]
  },
  {
   "cell_type": "markdown",
   "metadata": {},
   "source": [
    "- A distribuição de Poisson indica a probabilidade de sucesso do número de sucessos (k) em uma determinada exposição contínua.  \n",
    "\n",
    "$$P\\left ( X= k \\right ) = \\frac{e^{-\\lambda}\\cdot \\lambda ^{k}}{k!}$$  \n",
    "\n",
    "$\\lambda$ - é a taxa média estimada de ocorrências do evento (sucesso) em dada exposição"
   ]
  },
  {
   "cell_type": "markdown",
   "metadata": {},
   "source": [
    "**Exemplo** - Um médico notou que a taxa média de ocorrência (𝝀) de pacientes\n",
    "com certa doença rara em seu consultório é de 2 por ano. Aceitando que esta\n",
    "variável tenha distribuição Poisson, estime:  \n",
    "a) A probabilidade de que o médico receba 1 paciente com a doença em um ano.  \n",
    "b) A probabilidade de que o médico receba 3 pacientes com a doença em um ano.  \n",
    "c) A probabilidade de que o médico não receba pacientes com a doença em um ano.  \n",
    "d) A probabilidade de que o médico receba 10 pacientes com a doença nos próximos 2\n",
    "anos."
   ]
  },
  {
   "cell_type": "code",
   "execution_count": 117,
   "metadata": {},
   "outputs": [],
   "source": [
    "from scipy.stats import poisson"
   ]
  },
  {
   "cell_type": "code",
   "execution_count": 118,
   "metadata": {},
   "outputs": [],
   "source": [
    "# Taxa média de ocorrencia por ano\n",
    "mu = 2"
   ]
  },
  {
   "cell_type": "markdown",
   "metadata": {},
   "source": [
    "a) A probabilidade de que o médico receba 1 paciente com a doença em um ano.  "
   ]
  },
  {
   "cell_type": "code",
   "execution_count": 119,
   "metadata": {},
   "outputs": [
    {
     "name": "stdout",
     "output_type": "stream",
     "text": [
      "A probabilidade é de 27.07 %\n"
     ]
    }
   ],
   "source": [
    "k = 1\n",
    "print('A probabilidade é de {} %'.format((poisson.pmf(k, mu)*100).round(2)))"
   ]
  },
  {
   "cell_type": "markdown",
   "metadata": {},
   "source": [
    "b) A probabilidade de que o médico receba 3 pacientes com a doença em um ano.  "
   ]
  },
  {
   "cell_type": "code",
   "execution_count": 120,
   "metadata": {},
   "outputs": [
    {
     "name": "stdout",
     "output_type": "stream",
     "text": [
      "A probabilidade é de 18.04 %\n"
     ]
    }
   ],
   "source": [
    "k = 3\n",
    "print('A probabilidade é de {} %'.format((poisson.pmf(k, mu)*100).round(2)))"
   ]
  },
  {
   "cell_type": "markdown",
   "metadata": {},
   "source": [
    "c) A probabilidade de que o médico não receba pacientes com a doença em um ano. "
   ]
  },
  {
   "cell_type": "code",
   "execution_count": 121,
   "metadata": {},
   "outputs": [
    {
     "name": "stdout",
     "output_type": "stream",
     "text": [
      "A probabilidade é de 13.53 %\n"
     ]
    }
   ],
   "source": [
    "k = 0\n",
    "print('A probabilidade é de {} %'.format((poisson.pmf(k, mu)*100).round(2)))"
   ]
  },
  {
   "cell_type": "markdown",
   "metadata": {},
   "source": [
    "d) A probabilidade de que o médico receba 10 pacientes com a doença nos próximos 2\n",
    "anos."
   ]
  },
  {
   "cell_type": "code",
   "execution_count": 122,
   "metadata": {},
   "outputs": [
    {
     "name": "stdout",
     "output_type": "stream",
     "text": [
      "A probabilidade é de 3.61 %\n"
     ]
    }
   ],
   "source": [
    "k = 5\n",
    "print('A probabilidade é de {} %'.format((poisson.pmf(k, mu)*100).round(2)))"
   ]
  },
  {
   "cell_type": "markdown",
   "metadata": {},
   "source": [
    ">Graficamente"
   ]
  },
  {
   "cell_type": "code",
   "execution_count": 127,
   "metadata": {},
   "outputs": [
    {
     "data": {
      "image/png": "[encoded data removed]",
      "text/plain": [
       "<Figure size 1080x720 with 1 Axes>"
      ]
     },
     "metadata": {},
     "output_type": "display_data"
    }
   ],
   "source": [
    "fig, ax = plt.subplots(1, 1, figsize=(15,10))\n",
    "\n",
    "for i in np.arange(1, 10, 1):\n",
    "    mu = i\n",
    "    k = np.arange(0,20)\n",
    "    ax.plot(k, poisson.pmf(k, mu)*100, label='taxa média de ocorrência = {}'.format(mu), lw=5, alpha=0.5)\n",
    "    ax.plot(k, poisson.pmf(k, mu)*100, 'bo', ms=3)\n",
    "    ax.legend(loc='best', frameon=False)\n",
    "    plt.xlabel('Quantidade de pacientes', fontdict={'size':20})\n",
    "    plt.ylabel('Probabilidade (%)', fontdict={'size':20})\n",
    "    plt.title('Poisson', fontdict={'size':25})\n",
    "\n",
    "plt.show()"
   ]
  },
  {
   "cell_type": "markdown",
   "metadata": {},
   "source": [
    "## <font color=green\\>Variáveis contínuas<font>"
   ]
  },
  {
   "cell_type": "markdown",
   "metadata": {},
   "source": [
    "> **Distribuições para variáveis contínuas**  \n",
    "**1** - Normal (Normal Padrão)  \n",
    "**2** - Qui-quadrado  \n",
    "**3** - t de Student  \n",
    "**4** - F de Snedecor  "
   ]
  },
  {
   "cell_type": "markdown",
   "metadata": {},
   "source": [
    "### <font color=green\\> Normal <font>"
   ]
  },
  {
   "cell_type": "markdown",
   "metadata": {},
   "source": [
    "$$f(x) = \\frac{1}{\\sqrt{2\\pi\\sigma}}e^{-\\frac{1}{2}\\left(\\frac{x-\\mu}{\\sigma}\\right)^2}$$\n",
    "\n",
    "Onde:\n",
    "\n",
    "$x$ = variável normal\n",
    "\n",
    "$\\sigma$ = desvio padrão\n",
    "\n",
    "$\\mu$ = média"
   ]
  },
  {
   "cell_type": "code",
   "execution_count": 716,
   "metadata": {},
   "outputs": [
    {
     "data": {
      "text/html": [
       "<div>\n",
       "<style scoped>\n",
       "    .dataframe tbody tr th:only-of-type {\n",
       "        vertical-align: middle;\n",
       "    }\n",
       "\n",
       "    .dataframe tbody tr th {\n",
       "        vertical-align: top;\n",
       "    }\n",
       "\n",
       "    .dataframe thead th {\n",
       "        text-align: right;\n",
       "    }\n",
       "</style>\n",
       "<table border=\"1\" class=\"dataframe\">\n",
       "  <thead>\n",
       "    <tr style=\"text-align: right;\">\n",
       "      <th>Z</th>\n",
       "      <th>0.00</th>\n",
       "      <th>0.01</th>\n",
       "      <th>0.02</th>\n",
       "      <th>0.03</th>\n",
       "      <th>0.04</th>\n",
       "      <th>0.05</th>\n",
       "      <th>0.06</th>\n",
       "      <th>0.07</th>\n",
       "      <th>0.08</th>\n",
       "      <th>0.09</th>\n",
       "    </tr>\n",
       "  </thead>\n",
       "  <tbody>\n",
       "    <tr>\n",
       "      <th>0.00</th>\n",
       "      <td>0.5000</td>\n",
       "      <td>0.5040</td>\n",
       "      <td>0.5080</td>\n",
       "      <td>0.5120</td>\n",
       "      <td>0.5160</td>\n",
       "      <td>0.5199</td>\n",
       "      <td>0.5239</td>\n",
       "      <td>0.5279</td>\n",
       "      <td>0.5319</td>\n",
       "      <td>0.5359</td>\n",
       "    </tr>\n",
       "    <tr>\n",
       "      <th>0.10</th>\n",
       "      <td>0.5398</td>\n",
       "      <td>0.5438</td>\n",
       "      <td>0.5478</td>\n",
       "      <td>0.5517</td>\n",
       "      <td>0.5557</td>\n",
       "      <td>0.5596</td>\n",
       "      <td>0.5636</td>\n",
       "      <td>0.5675</td>\n",
       "      <td>0.5714</td>\n",
       "      <td>0.5753</td>\n",
       "    </tr>\n",
       "    <tr>\n",
       "      <th>0.20</th>\n",
       "      <td>0.5793</td>\n",
       "      <td>0.5832</td>\n",
       "      <td>0.5871</td>\n",
       "      <td>0.5910</td>\n",
       "      <td>0.5948</td>\n",
       "      <td>0.5987</td>\n",
       "      <td>0.6026</td>\n",
       "      <td>0.6064</td>\n",
       "      <td>0.6103</td>\n",
       "      <td>0.6141</td>\n",
       "    </tr>\n",
       "    <tr>\n",
       "      <th>0.30</th>\n",
       "      <td>0.6179</td>\n",
       "      <td>0.6217</td>\n",
       "      <td>0.6255</td>\n",
       "      <td>0.6293</td>\n",
       "      <td>0.6331</td>\n",
       "      <td>0.6368</td>\n",
       "      <td>0.6406</td>\n",
       "      <td>0.6443</td>\n",
       "      <td>0.6480</td>\n",
       "      <td>0.6517</td>\n",
       "    </tr>\n",
       "    <tr>\n",
       "      <th>0.40</th>\n",
       "      <td>0.6554</td>\n",
       "      <td>0.6591</td>\n",
       "      <td>0.6628</td>\n",
       "      <td>0.6664</td>\n",
       "      <td>0.6700</td>\n",
       "      <td>0.6736</td>\n",
       "      <td>0.6772</td>\n",
       "      <td>0.6808</td>\n",
       "      <td>0.6844</td>\n",
       "      <td>0.6879</td>\n",
       "    </tr>\n",
       "    <tr>\n",
       "      <th>0.50</th>\n",
       "      <td>0.6915</td>\n",
       "      <td>0.6950</td>\n",
       "      <td>0.6985</td>\n",
       "      <td>0.7019</td>\n",
       "      <td>0.7054</td>\n",
       "      <td>0.7088</td>\n",
       "      <td>0.7123</td>\n",
       "      <td>0.7157</td>\n",
       "      <td>0.7190</td>\n",
       "      <td>0.7224</td>\n",
       "    </tr>\n",
       "    <tr>\n",
       "      <th>0.60</th>\n",
       "      <td>0.7257</td>\n",
       "      <td>0.7291</td>\n",
       "      <td>0.7324</td>\n",
       "      <td>0.7357</td>\n",
       "      <td>0.7389</td>\n",
       "      <td>0.7422</td>\n",
       "      <td>0.7454</td>\n",
       "      <td>0.7486</td>\n",
       "      <td>0.7517</td>\n",
       "      <td>0.7549</td>\n",
       "    </tr>\n",
       "    <tr>\n",
       "      <th>0.70</th>\n",
       "      <td>0.7580</td>\n",
       "      <td>0.7611</td>\n",
       "      <td>0.7642</td>\n",
       "      <td>0.7673</td>\n",
       "      <td>0.7704</td>\n",
       "      <td>0.7734</td>\n",
       "      <td>0.7764</td>\n",
       "      <td>0.7794</td>\n",
       "      <td>0.7823</td>\n",
       "      <td>0.7852</td>\n",
       "    </tr>\n",
       "    <tr>\n",
       "      <th>0.80</th>\n",
       "      <td>0.7881</td>\n",
       "      <td>0.7910</td>\n",
       "      <td>0.7939</td>\n",
       "      <td>0.7967</td>\n",
       "      <td>0.7995</td>\n",
       "      <td>0.8023</td>\n",
       "      <td>0.8051</td>\n",
       "      <td>0.8078</td>\n",
       "      <td>0.8106</td>\n",
       "      <td>0.8133</td>\n",
       "    </tr>\n",
       "    <tr>\n",
       "      <th>0.90</th>\n",
       "      <td>0.8159</td>\n",
       "      <td>0.8186</td>\n",
       "      <td>0.8212</td>\n",
       "      <td>0.8238</td>\n",
       "      <td>0.8264</td>\n",
       "      <td>0.8289</td>\n",
       "      <td>0.8315</td>\n",
       "      <td>0.8340</td>\n",
       "      <td>0.8365</td>\n",
       "      <td>0.8389</td>\n",
       "    </tr>\n",
       "    <tr>\n",
       "      <th>1.00</th>\n",
       "      <td>0.8413</td>\n",
       "      <td>0.8438</td>\n",
       "      <td>0.8461</td>\n",
       "      <td>0.8485</td>\n",
       "      <td>0.8508</td>\n",
       "      <td>0.8531</td>\n",
       "      <td>0.8554</td>\n",
       "      <td>0.8577</td>\n",
       "      <td>0.8599</td>\n",
       "      <td>0.8621</td>\n",
       "    </tr>\n",
       "    <tr>\n",
       "      <th>1.10</th>\n",
       "      <td>0.8643</td>\n",
       "      <td>0.8665</td>\n",
       "      <td>0.8686</td>\n",
       "      <td>0.8708</td>\n",
       "      <td>0.8729</td>\n",
       "      <td>0.8749</td>\n",
       "      <td>0.8770</td>\n",
       "      <td>0.8790</td>\n",
       "      <td>0.8810</td>\n",
       "      <td>0.8830</td>\n",
       "    </tr>\n",
       "    <tr>\n",
       "      <th>1.20</th>\n",
       "      <td>0.8849</td>\n",
       "      <td>0.8869</td>\n",
       "      <td>0.8888</td>\n",
       "      <td>0.8907</td>\n",
       "      <td>0.8925</td>\n",
       "      <td>0.8944</td>\n",
       "      <td>0.8962</td>\n",
       "      <td>0.8980</td>\n",
       "      <td>0.8997</td>\n",
       "      <td>0.9015</td>\n",
       "    </tr>\n",
       "    <tr>\n",
       "      <th>1.30</th>\n",
       "      <td>0.9032</td>\n",
       "      <td>0.9049</td>\n",
       "      <td>0.9066</td>\n",
       "      <td>0.9082</td>\n",
       "      <td>0.9099</td>\n",
       "      <td>0.9115</td>\n",
       "      <td>0.9131</td>\n",
       "      <td>0.9147</td>\n",
       "      <td>0.9162</td>\n",
       "      <td>0.9177</td>\n",
       "    </tr>\n",
       "    <tr>\n",
       "      <th>1.40</th>\n",
       "      <td>0.9192</td>\n",
       "      <td>0.9207</td>\n",
       "      <td>0.9222</td>\n",
       "      <td>0.9236</td>\n",
       "      <td>0.9251</td>\n",
       "      <td>0.9265</td>\n",
       "      <td>0.9279</td>\n",
       "      <td>0.9292</td>\n",
       "      <td>0.9306</td>\n",
       "      <td>0.9319</td>\n",
       "    </tr>\n",
       "    <tr>\n",
       "      <th>1.50</th>\n",
       "      <td>0.9332</td>\n",
       "      <td>0.9345</td>\n",
       "      <td>0.9357</td>\n",
       "      <td>0.9370</td>\n",
       "      <td>0.9382</td>\n",
       "      <td>0.9394</td>\n",
       "      <td>0.9406</td>\n",
       "      <td>0.9418</td>\n",
       "      <td>0.9429</td>\n",
       "      <td>0.9441</td>\n",
       "    </tr>\n",
       "    <tr>\n",
       "      <th>1.60</th>\n",
       "      <td>0.9452</td>\n",
       "      <td>0.9463</td>\n",
       "      <td>0.9474</td>\n",
       "      <td>0.9484</td>\n",
       "      <td>0.9495</td>\n",
       "      <td>0.9505</td>\n",
       "      <td>0.9515</td>\n",
       "      <td>0.9525</td>\n",
       "      <td>0.9535</td>\n",
       "      <td>0.9545</td>\n",
       "    </tr>\n",
       "    <tr>\n",
       "      <th>1.70</th>\n",
       "      <td>0.9554</td>\n",
       "      <td>0.9564</td>\n",
       "      <td>0.9573</td>\n",
       "      <td>0.9582</td>\n",
       "      <td>0.9591</td>\n",
       "      <td>0.9599</td>\n",
       "      <td>0.9608</td>\n",
       "      <td>0.9616</td>\n",
       "      <td>0.9625</td>\n",
       "      <td>0.9633</td>\n",
       "    </tr>\n",
       "    <tr>\n",
       "      <th>1.80</th>\n",
       "      <td>0.9641</td>\n",
       "      <td>0.9649</td>\n",
       "      <td>0.9656</td>\n",
       "      <td>0.9664</td>\n",
       "      <td>0.9671</td>\n",
       "      <td>0.9678</td>\n",
       "      <td>0.9686</td>\n",
       "      <td>0.9693</td>\n",
       "      <td>0.9699</td>\n",
       "      <td>0.9706</td>\n",
       "    </tr>\n",
       "    <tr>\n",
       "      <th>1.90</th>\n",
       "      <td>0.9713</td>\n",
       "      <td>0.9719</td>\n",
       "      <td>0.9726</td>\n",
       "      <td>0.9732</td>\n",
       "      <td>0.9738</td>\n",
       "      <td>0.9744</td>\n",
       "      <td>0.9750</td>\n",
       "      <td>0.9756</td>\n",
       "      <td>0.9761</td>\n",
       "      <td>0.9767</td>\n",
       "    </tr>\n",
       "    <tr>\n",
       "      <th>2.00</th>\n",
       "      <td>0.9772</td>\n",
       "      <td>0.9778</td>\n",
       "      <td>0.9783</td>\n",
       "      <td>0.9788</td>\n",
       "      <td>0.9793</td>\n",
       "      <td>0.9798</td>\n",
       "      <td>0.9803</td>\n",
       "      <td>0.9808</td>\n",
       "      <td>0.9812</td>\n",
       "      <td>0.9817</td>\n",
       "    </tr>\n",
       "    <tr>\n",
       "      <th>2.10</th>\n",
       "      <td>0.9821</td>\n",
       "      <td>0.9826</td>\n",
       "      <td>0.9830</td>\n",
       "      <td>0.9834</td>\n",
       "      <td>0.9838</td>\n",
       "      <td>0.9842</td>\n",
       "      <td>0.9846</td>\n",
       "      <td>0.9850</td>\n",
       "      <td>0.9854</td>\n",
       "      <td>0.9857</td>\n",
       "    </tr>\n",
       "    <tr>\n",
       "      <th>2.20</th>\n",
       "      <td>0.9861</td>\n",
       "      <td>0.9864</td>\n",
       "      <td>0.9868</td>\n",
       "      <td>0.9871</td>\n",
       "      <td>0.9875</td>\n",
       "      <td>0.9878</td>\n",
       "      <td>0.9881</td>\n",
       "      <td>0.9884</td>\n",
       "      <td>0.9887</td>\n",
       "      <td>0.9890</td>\n",
       "    </tr>\n",
       "    <tr>\n",
       "      <th>2.30</th>\n",
       "      <td>0.9893</td>\n",
       "      <td>0.9896</td>\n",
       "      <td>0.9898</td>\n",
       "      <td>0.9901</td>\n",
       "      <td>0.9904</td>\n",
       "      <td>0.9906</td>\n",
       "      <td>0.9909</td>\n",
       "      <td>0.9911</td>\n",
       "      <td>0.9913</td>\n",
       "      <td>0.9916</td>\n",
       "    </tr>\n",
       "    <tr>\n",
       "      <th>2.40</th>\n",
       "      <td>0.9918</td>\n",
       "      <td>0.9920</td>\n",
       "      <td>0.9922</td>\n",
       "      <td>0.9925</td>\n",
       "      <td>0.9927</td>\n",
       "      <td>0.9929</td>\n",
       "      <td>0.9931</td>\n",
       "      <td>0.9932</td>\n",
       "      <td>0.9934</td>\n",
       "      <td>0.9936</td>\n",
       "    </tr>\n",
       "    <tr>\n",
       "      <th>2.50</th>\n",
       "      <td>0.9938</td>\n",
       "      <td>0.9940</td>\n",
       "      <td>0.9941</td>\n",
       "      <td>0.9943</td>\n",
       "      <td>0.9945</td>\n",
       "      <td>0.9946</td>\n",
       "      <td>0.9948</td>\n",
       "      <td>0.9949</td>\n",
       "      <td>0.9951</td>\n",
       "      <td>0.9952</td>\n",
       "    </tr>\n",
       "    <tr>\n",
       "      <th>2.60</th>\n",
       "      <td>0.9953</td>\n",
       "      <td>0.9955</td>\n",
       "      <td>0.9956</td>\n",
       "      <td>0.9957</td>\n",
       "      <td>0.9959</td>\n",
       "      <td>0.9960</td>\n",
       "      <td>0.9961</td>\n",
       "      <td>0.9962</td>\n",
       "      <td>0.9963</td>\n",
       "      <td>0.9964</td>\n",
       "    </tr>\n",
       "    <tr>\n",
       "      <th>2.70</th>\n",
       "      <td>0.9965</td>\n",
       "      <td>0.9966</td>\n",
       "      <td>0.9967</td>\n",
       "      <td>0.9968</td>\n",
       "      <td>0.9969</td>\n",
       "      <td>0.9970</td>\n",
       "      <td>0.9971</td>\n",
       "      <td>0.9972</td>\n",
       "      <td>0.9973</td>\n",
       "      <td>0.9974</td>\n",
       "    </tr>\n",
       "    <tr>\n",
       "      <th>2.80</th>\n",
       "      <td>0.9974</td>\n",
       "      <td>0.9975</td>\n",
       "      <td>0.9976</td>\n",
       "      <td>0.9977</td>\n",
       "      <td>0.9977</td>\n",
       "      <td>0.9978</td>\n",
       "      <td>0.9979</td>\n",
       "      <td>0.9979</td>\n",
       "      <td>0.9980</td>\n",
       "      <td>0.9981</td>\n",
       "    </tr>\n",
       "    <tr>\n",
       "      <th>2.90</th>\n",
       "      <td>0.9981</td>\n",
       "      <td>0.9982</td>\n",
       "      <td>0.9982</td>\n",
       "      <td>0.9983</td>\n",
       "      <td>0.9984</td>\n",
       "      <td>0.9984</td>\n",
       "      <td>0.9985</td>\n",
       "      <td>0.9985</td>\n",
       "      <td>0.9986</td>\n",
       "      <td>0.9986</td>\n",
       "    </tr>\n",
       "    <tr>\n",
       "      <th>3.00</th>\n",
       "      <td>0.9987</td>\n",
       "      <td>0.9987</td>\n",
       "      <td>0.9987</td>\n",
       "      <td>0.9988</td>\n",
       "      <td>0.9988</td>\n",
       "      <td>0.9989</td>\n",
       "      <td>0.9989</td>\n",
       "      <td>0.9989</td>\n",
       "      <td>0.9990</td>\n",
       "      <td>0.9990</td>\n",
       "    </tr>\n",
       "    <tr>\n",
       "      <th>3.10</th>\n",
       "      <td>0.9990</td>\n",
       "      <td>0.9991</td>\n",
       "      <td>0.9991</td>\n",
       "      <td>0.9991</td>\n",
       "      <td>0.9992</td>\n",
       "      <td>0.9992</td>\n",
       "      <td>0.9992</td>\n",
       "      <td>0.9992</td>\n",
       "      <td>0.9993</td>\n",
       "      <td>0.9993</td>\n",
       "    </tr>\n",
       "    <tr>\n",
       "      <th>3.20</th>\n",
       "      <td>0.9993</td>\n",
       "      <td>0.9993</td>\n",
       "      <td>0.9994</td>\n",
       "      <td>0.9994</td>\n",
       "      <td>0.9994</td>\n",
       "      <td>0.9994</td>\n",
       "      <td>0.9994</td>\n",
       "      <td>0.9995</td>\n",
       "      <td>0.9995</td>\n",
       "      <td>0.9995</td>\n",
       "    </tr>\n",
       "    <tr>\n",
       "      <th>3.30</th>\n",
       "      <td>0.9995</td>\n",
       "      <td>0.9995</td>\n",
       "      <td>0.9995</td>\n",
       "      <td>0.9996</td>\n",
       "      <td>0.9996</td>\n",
       "      <td>0.9996</td>\n",
       "      <td>0.9996</td>\n",
       "      <td>0.9996</td>\n",
       "      <td>0.9996</td>\n",
       "      <td>0.9997</td>\n",
       "    </tr>\n",
       "    <tr>\n",
       "      <th>3.40</th>\n",
       "      <td>0.9997</td>\n",
       "      <td>0.9997</td>\n",
       "      <td>0.9997</td>\n",
       "      <td>0.9997</td>\n",
       "      <td>0.9997</td>\n",
       "      <td>0.9997</td>\n",
       "      <td>0.9997</td>\n",
       "      <td>0.9997</td>\n",
       "      <td>0.9997</td>\n",
       "      <td>0.9998</td>\n",
       "    </tr>\n",
       "    <tr>\n",
       "      <th>3.50</th>\n",
       "      <td>0.9998</td>\n",
       "      <td>0.9998</td>\n",
       "      <td>0.9998</td>\n",
       "      <td>0.9998</td>\n",
       "      <td>0.9998</td>\n",
       "      <td>0.9998</td>\n",
       "      <td>0.9998</td>\n",
       "      <td>0.9998</td>\n",
       "      <td>0.9998</td>\n",
       "      <td>0.9998</td>\n",
       "    </tr>\n",
       "    <tr>\n",
       "      <th>3.60</th>\n",
       "      <td>0.9998</td>\n",
       "      <td>0.9998</td>\n",
       "      <td>0.9999</td>\n",
       "      <td>0.9999</td>\n",
       "      <td>0.9999</td>\n",
       "      <td>0.9999</td>\n",
       "      <td>0.9999</td>\n",
       "      <td>0.9999</td>\n",
       "      <td>0.9999</td>\n",
       "      <td>0.9999</td>\n",
       "    </tr>\n",
       "    <tr>\n",
       "      <th>3.70</th>\n",
       "      <td>0.9999</td>\n",
       "      <td>0.9999</td>\n",
       "      <td>0.9999</td>\n",
       "      <td>0.9999</td>\n",
       "      <td>0.9999</td>\n",
       "      <td>0.9999</td>\n",
       "      <td>0.9999</td>\n",
       "      <td>0.9999</td>\n",
       "      <td>0.9999</td>\n",
       "      <td>0.9999</td>\n",
       "    </tr>\n",
       "    <tr>\n",
       "      <th>3.80</th>\n",
       "      <td>0.9999</td>\n",
       "      <td>0.9999</td>\n",
       "      <td>0.9999</td>\n",
       "      <td>0.9999</td>\n",
       "      <td>0.9999</td>\n",
       "      <td>0.9999</td>\n",
       "      <td>0.9999</td>\n",
       "      <td>0.9999</td>\n",
       "      <td>0.9999</td>\n",
       "      <td>0.9999</td>\n",
       "    </tr>\n",
       "    <tr>\n",
       "      <th>3.90</th>\n",
       "      <td>1.0000</td>\n",
       "      <td>1.0000</td>\n",
       "      <td>1.0000</td>\n",
       "      <td>1.0000</td>\n",
       "      <td>1.0000</td>\n",
       "      <td>1.0000</td>\n",
       "      <td>1.0000</td>\n",
       "      <td>1.0000</td>\n",
       "      <td>1.0000</td>\n",
       "      <td>1.0000</td>\n",
       "    </tr>\n",
       "  </tbody>\n",
       "</table>\n",
       "</div>"
      ],
      "text/plain": [
       "Z       0.00    0.01    0.02    0.03    0.04    0.05    0.06    0.07    0.08  \\\n",
       "0.00  0.5000  0.5040  0.5080  0.5120  0.5160  0.5199  0.5239  0.5279  0.5319   \n",
       "0.10  0.5398  0.5438  0.5478  0.5517  0.5557  0.5596  0.5636  0.5675  0.5714   \n",
       "0.20  0.5793  0.5832  0.5871  0.5910  0.5948  0.5987  0.6026  0.6064  0.6103   \n",
       "0.30  0.6179  0.6217  0.6255  0.6293  0.6331  0.6368  0.6406  0.6443  0.6480   \n",
       "0.40  0.6554  0.6591  0.6628  0.6664  0.6700  0.6736  0.6772  0.6808  0.6844   \n",
       "0.50  0.6915  0.6950  0.6985  0.7019  0.7054  0.7088  0.7123  0.7157  0.7190   \n",
       "0.60  0.7257  0.7291  0.7324  0.7357  0.7389  0.7422  0.7454  0.7486  0.7517   \n",
       "0.70  0.7580  0.7611  0.7642  0.7673  0.7704  0.7734  0.7764  0.7794  0.7823   \n",
       "0.80  0.7881  0.7910  0.7939  0.7967  0.7995  0.8023  0.8051  0.8078  0.8106   \n",
       "0.90  0.8159  0.8186  0.8212  0.8238  0.8264  0.8289  0.8315  0.8340  0.8365   \n",
       "1.00  0.8413  0.8438  0.8461  0.8485  0.8508  0.8531  0.8554  0.8577  0.8599   \n",
       "1.10  0.8643  0.8665  0.8686  0.8708  0.8729  0.8749  0.8770  0.8790  0.8810   \n",
       "1.20  0.8849  0.8869  0.8888  0.8907  0.8925  0.8944  0.8962  0.8980  0.8997   \n",
       "1.30  0.9032  0.9049  0.9066  0.9082  0.9099  0.9115  0.9131  0.9147  0.9162   \n",
       "1.40  0.9192  0.9207  0.9222  0.9236  0.9251  0.9265  0.9279  0.9292  0.9306   \n",
       "1.50  0.9332  0.9345  0.9357  0.9370  0.9382  0.9394  0.9406  0.9418  0.9429   \n",
       "1.60  0.9452  0.9463  0.9474  0.9484  0.9495  0.9505  0.9515  0.9525  0.9535   \n",
       "1.70  0.9554  0.9564  0.9573  0.9582  0.9591  0.9599  0.9608  0.9616  0.9625   \n",
       "1.80  0.9641  0.9649  0.9656  0.9664  0.9671  0.9678  0.9686  0.9693  0.9699   \n",
       "1.90  0.9713  0.9719  0.9726  0.9732  0.9738  0.9744  0.9750  0.9756  0.9761   \n",
       "2.00  0.9772  0.9778  0.9783  0.9788  0.9793  0.9798  0.9803  0.9808  0.9812   \n",
       "2.10  0.9821  0.9826  0.9830  0.9834  0.9838  0.9842  0.9846  0.9850  0.9854   \n",
       "2.20  0.9861  0.9864  0.9868  0.9871  0.9875  0.9878  0.9881  0.9884  0.9887   \n",
       "2.30  0.9893  0.9896  0.9898  0.9901  0.9904  0.9906  0.9909  0.9911  0.9913   \n",
       "2.40  0.9918  0.9920  0.9922  0.9925  0.9927  0.9929  0.9931  0.9932  0.9934   \n",
       "2.50  0.9938  0.9940  0.9941  0.9943  0.9945  0.9946  0.9948  0.9949  0.9951   \n",
       "2.60  0.9953  0.9955  0.9956  0.9957  0.9959  0.9960  0.9961  0.9962  0.9963   \n",
       "2.70  0.9965  0.9966  0.9967  0.9968  0.9969  0.9970  0.9971  0.9972  0.9973   \n",
       "2.80  0.9974  0.9975  0.9976  0.9977  0.9977  0.9978  0.9979  0.9979  0.9980   \n",
       "2.90  0.9981  0.9982  0.9982  0.9983  0.9984  0.9984  0.9985  0.9985  0.9986   \n",
       "3.00  0.9987  0.9987  0.9987  0.9988  0.9988  0.9989  0.9989  0.9989  0.9990   \n",
       "3.10  0.9990  0.9991  0.9991  0.9991  0.9992  0.9992  0.9992  0.9992  0.9993   \n",
       "3.20  0.9993  0.9993  0.9994  0.9994  0.9994  0.9994  0.9994  0.9995  0.9995   \n",
       "3.30  0.9995  0.9995  0.9995  0.9996  0.9996  0.9996  0.9996  0.9996  0.9996   \n",
       "3.40  0.9997  0.9997  0.9997  0.9997  0.9997  0.9997  0.9997  0.9997  0.9997   \n",
       "3.50  0.9998  0.9998  0.9998  0.9998  0.9998  0.9998  0.9998  0.9998  0.9998   \n",
       "3.60  0.9998  0.9998  0.9999  0.9999  0.9999  0.9999  0.9999  0.9999  0.9999   \n",
       "3.70  0.9999  0.9999  0.9999  0.9999  0.9999  0.9999  0.9999  0.9999  0.9999   \n",
       "3.80  0.9999  0.9999  0.9999  0.9999  0.9999  0.9999  0.9999  0.9999  0.9999   \n",
       "3.90  1.0000  1.0000  1.0000  1.0000  1.0000  1.0000  1.0000  1.0000  1.0000   \n",
       "\n",
       "Z       0.09  \n",
       "0.00  0.5359  \n",
       "0.10  0.5753  \n",
       "0.20  0.6141  \n",
       "0.30  0.6517  \n",
       "0.40  0.6879  \n",
       "0.50  0.7224  \n",
       "0.60  0.7549  \n",
       "0.70  0.7852  \n",
       "0.80  0.8133  \n",
       "0.90  0.8389  \n",
       "1.00  0.8621  \n",
       "1.10  0.8830  \n",
       "1.20  0.9015  \n",
       "1.30  0.9177  \n",
       "1.40  0.9319  \n",
       "1.50  0.9441  \n",
       "1.60  0.9545  \n",
       "1.70  0.9633  \n",
       "1.80  0.9706  \n",
       "1.90  0.9767  \n",
       "2.00  0.9817  \n",
       "2.10  0.9857  \n",
       "2.20  0.9890  \n",
       "2.30  0.9916  \n",
       "2.40  0.9936  \n",
       "2.50  0.9952  \n",
       "2.60  0.9964  \n",
       "2.70  0.9974  \n",
       "2.80  0.9981  \n",
       "2.90  0.9986  \n",
       "3.00  0.9990  \n",
       "3.10  0.9993  \n",
       "3.20  0.9995  \n",
       "3.30  0.9997  \n",
       "3.40  0.9998  \n",
       "3.50  0.9998  \n",
       "3.60  0.9999  \n",
       "3.70  0.9999  \n",
       "3.80  0.9999  \n",
       "3.90  1.0000  "
      ]
     },
     "execution_count": 716,
     "metadata": {},
     "output_type": "execute_result"
    }
   ],
   "source": [
    "import pandas as pd\n",
    "import numpy as np\n",
    "from scipy.stats import norm\n",
    "\n",
    "tabela_normal_padronizada = pd.DataFrame(\n",
    "    [], \n",
    "    index=[\"{0:0.2f}\".format(i / 100) for i in range(0, 400, 10)],\n",
    "    columns = [\"{0:0.2f}\".format(i / 100) for i in range(0, 10)])\n",
    "\n",
    "for index in tabela_normal_padronizada.index:\n",
    "    for column in tabela_normal_padronizada.columns:\n",
    "        Z = np.round(float(index) + float(column), 2)\n",
    "        tabela_normal_padronizada.loc[index, column] = \"{0:0.4f}\".format(norm.cdf(Z))\n",
    "\n",
    "tabela_normal_padronizada.rename_axis('Z', axis = 'columns', inplace = True)\n",
    "\n",
    "tabela_normal_padronizada"
   ]
  },
  {
   "cell_type": "markdown",
   "metadata": {},
   "source": [
    "**Exercício** - Um investidor calculou que o retorno médio mensal de uma ação\n",
    "na bolsa de valores foi 2,80%. No mesmo período, o desvio padrão dos\n",
    "retornos da ação foi de 1,20%. Com base na distribuição normal, calcule:  \n",
    "a) A probabilidade de que o retorno da ação seja maior do que 4% ao mês.  \n",
    "b) A probabilidade de que o retorno da ação seja menor do que 3% ao mês.  \n",
    "c) A probabilidade de que o retorno da ação seja negativo.  \n",
    "d) A probabilidade de que o retorno da ação seja maior que 1% e menor que 5% ao mês.  "
   ]
  },
  {
   "cell_type": "code",
   "execution_count": 128,
   "metadata": {},
   "outputs": [],
   "source": [
    "from scipy.stats import norm"
   ]
  },
  {
   "cell_type": "code",
   "execution_count": 144,
   "metadata": {},
   "outputs": [],
   "source": [
    "media = 2.8\n",
    "desvio_padrao = 1.2"
   ]
  },
  {
   "cell_type": "markdown",
   "metadata": {},
   "source": [
    "a) A probabilidade de que o retorno da ação seja maior do que 4% ao mês.  "
   ]
  },
  {
   "cell_type": "code",
   "execution_count": 157,
   "metadata": {},
   "outputs": [
    {
     "name": "stdout",
     "output_type": "stream",
     "text": [
      "Z = 1.0\n"
     ]
    }
   ],
   "source": [
    "# Padronizando o valor\n",
    "Z = (4 - media)/desvio_padrao\n",
    "print('Z = {}'.format(round(Z,2)))"
   ]
  },
  {
   "cell_type": "code",
   "execution_count": 158,
   "metadata": {},
   "outputs": [
    {
     "name": "stdout",
     "output_type": "stream",
     "text": [
      "---------------Resumo Resultado----------------\n",
      "P(Z > 1.0) = 0.1587\n",
      "A probabilidade é de 15.87 %\n"
     ]
    }
   ],
   "source": [
    "probabilidade = 1 - norm.cdf(Z)\n",
    "print('---------------Resumo Resultado----------------')\n",
    "print('P(Z > {}) = {}'.format(round(Z,2),round(probabilidade,4)))\n",
    "print('A probabilidade é de {} %'.format((probabilidade*100).round(2)))"
   ]
  },
  {
   "cell_type": "code",
   "execution_count": 159,
   "metadata": {},
   "outputs": [
    {
     "data": {
      "text/plain": [
       "15.87"
      ]
     },
     "execution_count": 159,
     "metadata": {},
     "output_type": "execute_result"
    }
   ],
   "source": [
    "# Outra maneira de calcular P(x>=4) é utilizando o método sf\n",
    "(norm.sf(Z)*100).round(2)"
   ]
  },
  {
   "cell_type": "code",
   "execution_count": 160,
   "metadata": {},
   "outputs": [
    {
     "data": {
      "image/png": "[encoded data removed]",
      "text/plain": [
       "<Figure size 720x360 with 1 Axes>"
      ]
     },
     "metadata": {},
     "output_type": "display_data"
    }
   ],
   "source": [
    "fig, ax = plt.subplots(1, 1, figsize=(10,5))\n",
    "\n",
    "x = np.arange(-5, 5, 0.01)\n",
    "y = norm.pdf(x)\n",
    "\n",
    "ax.plot(x, y, 'r-', lw=5, alpha=0.6, label='norm pdf')\n",
    "\n",
    "x=np.linspace(Z, 5, 1000)\n",
    "ax.fill_between(x, norm.pdf(x), color ='g', alpha=0.4 )\n",
    "\n",
    "plt.title('Distribuição Z')\n",
    "plt.xlabel('z')\n",
    "plt.ylabel('f(z)')\n",
    "\n",
    "plt.show()"
   ]
  },
  {
   "cell_type": "markdown",
   "metadata": {},
   "source": [
    "b) A probabilidade de que o retorno da ação seja menor do que 3% ao mês.  "
   ]
  },
  {
   "cell_type": "code",
   "execution_count": 161,
   "metadata": {},
   "outputs": [
    {
     "data": {
      "text/plain": [
       "0.16666666666666682"
      ]
     },
     "execution_count": 161,
     "metadata": {},
     "output_type": "execute_result"
    }
   ],
   "source": [
    "Z = (3 - media)/desvio_padrao\n",
    "Z"
   ]
  },
  {
   "cell_type": "code",
   "execution_count": 162,
   "metadata": {},
   "outputs": [
    {
     "name": "stdout",
     "output_type": "stream",
     "text": [
      "---------------Resumo Resultado----------------\n",
      "P(Z < 0.17) = 0.5662\n",
      "A probabilidade é de 56.62 %\n"
     ]
    }
   ],
   "source": [
    "# P(X < 3) = ?\n",
    "probabilidade = norm.cdf(Z)\n",
    "print('---------------Resumo Resultado----------------')\n",
    "print('P(Z < {}) = {}'.format(round(Z,2),round(probabilidade,4)))\n",
    "print('A probabilidade é de {} %'.format((probabilidade*100).round(2)))"
   ]
  },
  {
   "cell_type": "code",
   "execution_count": 164,
   "metadata": {},
   "outputs": [
    {
     "data": {
      "image/png": "[encoded data removed]",
      "text/plain": [
       "<Figure size 720x360 with 1 Axes>"
      ]
     },
     "metadata": {},
     "output_type": "display_data"
    }
   ],
   "source": [
    "fig, ax = plt.subplots(1, 1, figsize=(10,5))\n",
    "\n",
    "x = np.arange(-5, 5, 0.01)\n",
    "y = norm.pdf(x)\n",
    "\n",
    "ax.plot(x, y, 'r-', lw=5, alpha=0.6, label='norm pdf')\n",
    "\n",
    "x = np.linspace(-5, Z,1000)\n",
    "ax.fill_between(x, norm.pdf(x), color ='g', alpha=0.4)\n",
    "\n",
    "plt.show()"
   ]
  },
  {
   "cell_type": "markdown",
   "metadata": {},
   "source": [
    "c) A probabilidade de que o retorno da ação seja negativo. "
   ]
  },
  {
   "cell_type": "code",
   "execution_count": 165,
   "metadata": {},
   "outputs": [],
   "source": [
    "Z = (0 - media)/desvio_padrao"
   ]
  },
  {
   "cell_type": "code",
   "execution_count": 168,
   "metadata": {},
   "outputs": [
    {
     "name": "stdout",
     "output_type": "stream",
     "text": [
      "---------------Resumo Resultado----------------\n",
      "P(Z < -2.33) = 0.0098\n",
      "A probabilidade é de 0.9815 %\n"
     ]
    }
   ],
   "source": [
    "probabilidade = norm.cdf(Z)\n",
    "print('---------------Resumo Resultado----------------')\n",
    "print('P(Z < {}) = {}'.format(round(Z,2),round(probabilidade,4)))\n",
    "print('A probabilidade é de {} %'.format((probabilidade*100).round(4)))"
   ]
  },
  {
   "cell_type": "code",
   "execution_count": 169,
   "metadata": {},
   "outputs": [
    {
     "data": {
      "image/png": "[encoded data removed]",
      "text/plain": [
       "<Figure size 720x360 with 1 Axes>"
      ]
     },
     "metadata": {},
     "output_type": "display_data"
    }
   ],
   "source": [
    "fig, ax = plt.subplots(1, 1, figsize=(10,5))\n",
    "\n",
    "x = np.arange(-5, 5, 0.01)\n",
    "y = norm.pdf(x)\n",
    "\n",
    "ax.plot(x, y, 'r-', lw=5, alpha=0.6, label='norm pdf')\n",
    "\n",
    "x = np.linspace(-5, Z,1000)\n",
    "ax.fill_between(x, norm.pdf(x), color ='g', alpha=0.4)\n",
    "\n",
    "plt.show()"
   ]
  },
  {
   "cell_type": "markdown",
   "metadata": {},
   "source": [
    "d) A probabilidade de que o retorno da ação seja maior que 1% e menor que 5% ao mês.  "
   ]
  },
  {
   "cell_type": "code",
   "execution_count": 170,
   "metadata": {},
   "outputs": [],
   "source": [
    "Z_inferior = (1 - media)/desvio_padrao\n",
    "Z_superior = (5 - media)/desvio_padrao\n",
    "\n",
    "probabilidade_inferior = norm.cdf(Z_inferior)\n",
    "probabilidade_superior = norm.cdf(Z_superior)\n",
    "\n",
    "probabilidade = probabilidade_superior - probabilidade_inferior"
   ]
  },
  {
   "cell_type": "code",
   "execution_count": 171,
   "metadata": {},
   "outputs": [
    {
     "name": "stdout",
     "output_type": "stream",
     "text": [
      "---------------Resumo Resultado----------------\n",
      "P(-1.5 < Z < 1.83) = 0.8998\n",
      "A probabilidade é de 89.98 %\n"
     ]
    }
   ],
   "source": [
    "print('---------------Resumo Resultado----------------')\n",
    "print('P({} < Z < {}) = {}'.format(round(Z_inferior,2),round(Z_superior,2), probabilidade.round(4)))\n",
    "print('A probabilidade é de {} %'.format((probabilidade*100).round(2)))"
   ]
  },
  {
   "cell_type": "markdown",
   "metadata": {},
   "source": [
    "> Graficamente"
   ]
  },
  {
   "cell_type": "code",
   "execution_count": 172,
   "metadata": {},
   "outputs": [
    {
     "data": {
      "image/png": "[encoded data removed]",
      "text/plain": [
       "<Figure size 720x360 with 1 Axes>"
      ]
     },
     "metadata": {},
     "output_type": "display_data"
    }
   ],
   "source": [
    "fig, ax = plt.subplots(1, 1, figsize=(10,5))\n",
    "\n",
    "x = np.arange(-5, 5, 0.01)\n",
    "y = norm.pdf(x)\n",
    "\n",
    "ax.plot(x, y, 'r-', lw=5, alpha=0.6, label='norm pdf')\n",
    "\n",
    "x = np.linspace(Z_inferior, Z_superior,1000)\n",
    "ax.fill_between(x, norm.pdf(x), color ='g', alpha=0.4)\n",
    "\n",
    "plt.show()"
   ]
  },
  {
   "cell_type": "markdown",
   "metadata": {},
   "source": [
    "### <font color=green\\> Qui-quadrado <font>"
   ]
  },
  {
   "cell_type": "markdown",
   "metadata": {},
   "source": [
    "**Exemplo** - Um pesquisador em botânica identificou que uma variável de seu\n",
    "estudo segue uma distribuição qui-quadrado e tem 7 graus de liberdade. Com\n",
    "base nestas informações, o pesquisador calculou:  \n",
    "a) A probabilidade de que encontre um valor X>6.  \n",
    "b) A probabilidade de que encontre um valor X<8.  \n",
    "c) O valor de X que faz com que a P(X>x) seja 5%.  \n",
    "d) O valor de X que faz com que a P(X<x) seja 90%.  "
   ]
  },
  {
   "cell_type": "code",
   "execution_count": 173,
   "metadata": {},
   "outputs": [],
   "source": [
    "from scipy.stats import chi2, chi"
   ]
  },
  {
   "cell_type": "code",
   "execution_count": 174,
   "metadata": {},
   "outputs": [],
   "source": [
    "df = 7"
   ]
  },
  {
   "cell_type": "markdown",
   "metadata": {},
   "source": [
    "a) A probabilidade de que encontre um valor X>6.  "
   ]
  },
  {
   "cell_type": "code",
   "execution_count": 175,
   "metadata": {},
   "outputs": [
    {
     "data": {
      "text/plain": [
       "53.9749350395557"
      ]
     },
     "execution_count": 175,
     "metadata": {},
     "output_type": "execute_result"
    }
   ],
   "source": [
    "(1 - chi2.cdf(6, df)) *100"
   ]
  },
  {
   "cell_type": "code",
   "execution_count": 176,
   "metadata": {},
   "outputs": [
    {
     "data": {
      "text/plain": [
       "53.9749350395557"
      ]
     },
     "execution_count": 176,
     "metadata": {},
     "output_type": "execute_result"
    }
   ],
   "source": [
    "chi2.sf(6, df)*100"
   ]
  },
  {
   "cell_type": "code",
   "execution_count": 177,
   "metadata": {},
   "outputs": [
    {
     "data": {
      "image/png": "[encoded data removed]",
      "text/plain": [
       "<Figure size 720x360 with 1 Axes>"
      ]
     },
     "metadata": {},
     "output_type": "display_data"
    }
   ],
   "source": [
    "fig, ax = plt.subplots(1, 1, figsize=(10,5))\n",
    "\n",
    "x = np.linspace(0,20, 100)\n",
    "ax.plot(x, chi2.pdf(x, df), 'r-', lw=5, alpha=0.6, label='chi2 pdf')\n",
    "\n",
    "x = np.linspace(6, 20,1000)\n",
    "ax.fill_between(x, chi2.pdf(x, df), color ='g', alpha=0.4)\n",
    "\n",
    "ax.legend(loc='best', frameon=False)\n",
    "plt.show()"
   ]
  },
  {
   "cell_type": "markdown",
   "metadata": {},
   "source": [
    "b) A probabilidade de que encontre um valor X<8. "
   ]
  },
  {
   "cell_type": "code",
   "execution_count": 178,
   "metadata": {},
   "outputs": [
    {
     "data": {
      "text/plain": [
       "66.74060974006919"
      ]
     },
     "execution_count": 178,
     "metadata": {},
     "output_type": "execute_result"
    }
   ],
   "source": [
    "chi2.cdf(8, df) * 100"
   ]
  },
  {
   "cell_type": "code",
   "execution_count": 179,
   "metadata": {},
   "outputs": [
    {
     "data": {
      "image/png": "[encoded data removed]",
      "text/plain": [
       "<Figure size 720x360 with 1 Axes>"
      ]
     },
     "metadata": {},
     "output_type": "display_data"
    }
   ],
   "source": [
    "fig, ax = plt.subplots(1, 1, figsize=(10,5))\n",
    "\n",
    "x = np.linspace(0,20, 100)\n",
    "ax.plot(x, chi2.pdf(x, df), 'r-', lw=5, alpha=0.6, label='chi2 pdf')\n",
    "\n",
    "x = np.linspace(0,8,1000)\n",
    "ax.fill_between(x, chi2.pdf(x, df), color ='g', alpha=0.4)\n",
    "\n",
    "ax.legend(loc='best', frameon=False)\n",
    "plt.show()"
   ]
  },
  {
   "cell_type": "markdown",
   "metadata": {},
   "source": [
    "c) O valor de X que faz com que a P(X>x) seja 5%. "
   ]
  },
  {
   "cell_type": "code",
   "execution_count": 180,
   "metadata": {},
   "outputs": [
    {
     "data": {
      "text/plain": [
       "14.067140449340169"
      ]
     },
     "execution_count": 180,
     "metadata": {},
     "output_type": "execute_result"
    }
   ],
   "source": [
    "chi2.ppf(0.95, df)"
   ]
  },
  {
   "cell_type": "code",
   "execution_count": 181,
   "metadata": {},
   "outputs": [
    {
     "data": {
      "image/png": "[encoded data removed]",
      "text/plain": [
       "<Figure size 720x360 with 1 Axes>"
      ]
     },
     "metadata": {},
     "output_type": "display_data"
    }
   ],
   "source": [
    "fig, ax = plt.subplots(1, 1, figsize=(10,5))\n",
    "\n",
    "x = np.linspace(0, 20, 1000)\n",
    "ax.plot(x, chi2.pdf(x, df), 'r-', lw=5, alpha=0.6, label='chi2 pdf')\n",
    "\n",
    "x_fill = np.arange(chi2.ppf(0.95, df), 20, 0.01)\n",
    "ax.fill_between(x_fill, chi2.pdf(x_fill, df), color ='g', alpha=0.4)\n",
    "\n",
    "ax.legend(loc='best', frameon=False)\n",
    "plt.show()"
   ]
  },
  {
   "cell_type": "markdown",
   "metadata": {},
   "source": [
    "d) O valor de X que faz com que a P(X<x) seja 90%."
   ]
  },
  {
   "cell_type": "code",
   "execution_count": 182,
   "metadata": {},
   "outputs": [
    {
     "data": {
      "text/plain": [
       "2.833106917815344"
      ]
     },
     "execution_count": 182,
     "metadata": {},
     "output_type": "execute_result"
    }
   ],
   "source": [
    "chi2.ppf(0.10, df)"
   ]
  },
  {
   "cell_type": "code",
   "execution_count": 183,
   "metadata": {},
   "outputs": [
    {
     "data": {
      "image/png": "[encoded data removed]",
      "text/plain": [
       "<Figure size 720x360 with 1 Axes>"
      ]
     },
     "metadata": {},
     "output_type": "display_data"
    }
   ],
   "source": [
    "fig, ax = plt.subplots(1, 1, figsize=(10,5))\n",
    "\n",
    "x = np.linspace(0, 20, 1000)\n",
    "ax.plot(x, chi2.pdf(x, df), 'r-', lw=5, alpha=0.6, label='chi2 pdf')\n",
    "\n",
    "x_fill = np.linspace(chi2.ppf(0.10, df), 20, 1000)\n",
    "ax.fill_between(x_fill, chi2.pdf(x_fill, df), color ='g', alpha=0.4)\n",
    "\n",
    "ax.legend(loc='best', frameon=False)\n",
    "plt.show()"
   ]
  },
  {
   "cell_type": "markdown",
   "metadata": {},
   "source": [
    "### <font color=green\\> t-Student <font>"
   ]
  },
  {
   "cell_type": "markdown",
   "metadata": {},
   "source": [
    "**Exemplo** - O gestor do controle de qualidade de uma empresa identificou que\n",
    "uma variável relevante para seu controle apresenta distribuição t de Student\n",
    "e tem 7 graus de liberdade. Quais são suas análises nas situações:  \n",
    "a) A probabilidade de que encontre T > 2,5.  \n",
    "b) A probabilidade de que encontre T < - 2,5.  \n",
    "c) A probabilidade de que encontre T>-1 e T<2.  \n",
    "d) O valor de T para que P(T>t) = 5%."
   ]
  },
  {
   "cell_type": "code",
   "execution_count": 184,
   "metadata": {},
   "outputs": [],
   "source": [
    "from scipy.stats import t as t_student"
   ]
  },
  {
   "cell_type": "code",
   "execution_count": 185,
   "metadata": {},
   "outputs": [],
   "source": [
    "graus_de_liberdade = 7"
   ]
  },
  {
   "cell_type": "markdown",
   "metadata": {},
   "source": [
    "a) A probabilidade de que encontre T > 2,5.  "
   ]
  },
  {
   "cell_type": "code",
   "execution_count": 186,
   "metadata": {},
   "outputs": [
    {
     "name": "stdout",
     "output_type": "stream",
     "text": [
      "probabilidade = 0.02\n"
     ]
    }
   ],
   "source": [
    "# P(T > 2.5) = ?\n",
    "\n",
    "probabilidade = t_student.sf(x=2.5, df=graus_de_liberdade)\n",
    "print('probabilidade = %.2f' % probabilidade)"
   ]
  },
  {
   "cell_type": "code",
   "execution_count": 187,
   "metadata": {},
   "outputs": [
    {
     "data": {
      "image/png": "[encoded data removed]",
      "text/plain": [
       "<Figure size 720x360 with 1 Axes>"
      ]
     },
     "metadata": {},
     "output_type": "display_data"
    }
   ],
   "source": [
    "fig, ax = plt.subplots(1, 1, figsize=(10,5))\n",
    "\n",
    "x = np.linspace(-5,5, 1000)\n",
    "ax.plot(x, t_student.pdf(x, df=graus_de_liberdade), 'r-', lw=5, alpha=0.6, label='t-Student pdf')\n",
    "\n",
    "x_fill = np.linspace(2.5, 5, 1000)\n",
    "ax.fill_between(x_fill, t_student.pdf(x_fill, df=graus_de_liberdade), color ='g', alpha=0.4)\n",
    "\n",
    "ax.legend(loc='best', frameon=False)\n",
    "plt.show()"
   ]
  },
  {
   "cell_type": "markdown",
   "metadata": {},
   "source": [
    "b) A probabilidade de que encontre T < - 2,5."
   ]
  },
  {
   "cell_type": "code",
   "execution_count": 188,
   "metadata": {},
   "outputs": [
    {
     "name": "stdout",
     "output_type": "stream",
     "text": [
      "probabilidade = 0.0205\n"
     ]
    }
   ],
   "source": [
    "# P(T < -2.5) = ?\n",
    "probabilidade = (1 - t_student.sf(x=-2.5, df=graus_de_liberdade))\n",
    "print('probabilidade = %.4f' % probabilidade)"
   ]
  },
  {
   "cell_type": "code",
   "execution_count": 189,
   "metadata": {},
   "outputs": [
    {
     "data": {
      "image/png": "[encoded data removed]",
      "text/plain": [
       "<Figure size 720x360 with 1 Axes>"
      ]
     },
     "metadata": {},
     "output_type": "display_data"
    }
   ],
   "source": [
    "fig, ax = plt.subplots(1, 1, figsize=(10,5))\n",
    "\n",
    "x = np.linspace(-5,5, 1000)\n",
    "ax.plot(x, t_student.pdf(x, df=graus_de_liberdade), 'r-', lw=5, alpha=0.6, label='t-Student pdf')\n",
    "\n",
    "x_fill = np.linspace(-5, -2.5, 1000)\n",
    "ax.fill_between(x_fill, t_student.pdf(x_fill, df=graus_de_liberdade), color ='g', alpha=0.4)\n",
    "\n",
    "ax.legend(loc='best', frameon=False)\n",
    "plt.show()"
   ]
  },
  {
   "cell_type": "markdown",
   "metadata": {},
   "source": [
    "c) A probabilidade de que encontre T>-1 e T<2.  "
   ]
  },
  {
   "cell_type": "code",
   "execution_count": 190,
   "metadata": {},
   "outputs": [
    {
     "name": "stdout",
     "output_type": "stream",
     "text": [
      "prob_superior = 0.9572\n",
      "prob_inferior = 0.1753\n",
      "probabilidade = 0.7819\n"
     ]
    }
   ],
   "source": [
    "# P(T > -1) = ? e P(T < 2) = ?\n",
    "prob_inferior = t_student.cdf(x=-1, df=graus_de_liberdade)\n",
    "prob_superior = t_student.cdf(x=2, df=graus_de_liberdade)\n",
    "probabilidade =(prob_superior - prob_inferior)\n",
    "print('prob_superior = %.4f' % prob_superior)\n",
    "print('prob_inferior = %.4f' % prob_inferior)\n",
    "print('probabilidade = %.4f' % probabilidade)"
   ]
  },
  {
   "cell_type": "code",
   "execution_count": 191,
   "metadata": {},
   "outputs": [
    {
     "data": {
      "image/png": "[encoded data removed]",
      "text/plain": [
       "<Figure size 720x360 with 1 Axes>"
      ]
     },
     "metadata": {},
     "output_type": "display_data"
    }
   ],
   "source": [
    "fig, ax = plt.subplots(1, 1, figsize=(10,5))\n",
    "\n",
    "x = np.linspace(-5,5, 1000)\n",
    "ax.plot(x, t_student.pdf(x, df=graus_de_liberdade), 'r-', lw=5, alpha=0.6, label='t-Student pdf')\n",
    "\n",
    "x_fill = np.linspace(-1, 2, 1000)\n",
    "ax.fill_between(x_fill, t_student.pdf(x_fill, df=graus_de_liberdade), color ='g', alpha=0.4)\n",
    "\n",
    "ax.legend(loc='best', frameon=False)\n",
    "plt.show()"
   ]
  },
  {
   "cell_type": "markdown",
   "metadata": {},
   "source": [
    "d) O valor de T para que P(T>t) = 5%."
   ]
  },
  {
   "cell_type": "code",
   "execution_count": 192,
   "metadata": {},
   "outputs": [
    {
     "name": "stdout",
     "output_type": "stream",
     "text": [
      "t = 1.8946\n"
     ]
    }
   ],
   "source": [
    "# P(T>t)=0.05, t=???\n",
    "t = -t_student.ppf(0.05, df=graus_de_liberdade)\n",
    "print('t = %.4f' % t)"
   ]
  },
  {
   "cell_type": "code",
   "execution_count": 193,
   "metadata": {},
   "outputs": [
    {
     "data": {
      "image/png": "[encoded data removed]",
      "text/plain": [
       "<Figure size 720x360 with 1 Axes>"
      ]
     },
     "metadata": {},
     "output_type": "display_data"
    }
   ],
   "source": [
    "fig, ax = plt.subplots(1, 1, figsize=(10,5))\n",
    "\n",
    "x = np.linspace(-5,5, 1000)\n",
    "ax.plot(x, t_student.pdf(x, df=graus_de_liberdade), 'r-', lw=5, alpha=0.6, label='t-Student pdf')\n",
    "\n",
    "x_fill = np.linspace(t, 5, 1000)\n",
    "ax.fill_between(x_fill, t_student.pdf(x_fill, df=graus_de_liberdade), color ='g', alpha=0.4)\n",
    "\n",
    "ax.legend(loc='best', frameon=False)\n",
    "plt.show()"
   ]
  },
  {
   "cell_type": "markdown",
   "metadata": {},
   "source": [
    "### <font color=green\\> F de Snedecor <font>"
   ]
  },
  {
   "cell_type": "markdown",
   "metadata": {},
   "source": [
    "**Exemplo** - Um cientista de dados está avaliando uma variável com distribuição F de Snedecor. Tal variável apresenta 17 graus de liberdade no numerador e 28 graus de liberdade no denominador. Determine:  \n",
    "a) A probabilidade de que encontre X > 1,5.  \n",
    "b) A probabilidade de que encontre X < 1,0.  \n",
    "c) A probabilidade de que encontre 2<X<3.  \n",
    "d) O valor de F para que P(X>x) = 5%.  "
   ]
  },
  {
   "cell_type": "code",
   "execution_count": 194,
   "metadata": {},
   "outputs": [],
   "source": [
    "from scipy import stats"
   ]
  },
  {
   "cell_type": "code",
   "execution_count": 195,
   "metadata": {},
   "outputs": [],
   "source": [
    "grau_de_liberade_numerador = 17\n",
    "grau_de_liberdade_denominador = 28"
   ]
  },
  {
   "cell_type": "markdown",
   "metadata": {},
   "source": [
    "a) A probabilidade de que encontre X > 1,5. "
   ]
  },
  {
   "cell_type": "code",
   "execution_count": 196,
   "metadata": {},
   "outputs": [
    {
     "name": "stdout",
     "output_type": "stream",
     "text": [
      "probabilidade = 16.61\n"
     ]
    }
   ],
   "source": [
    "# P(X > 1.5) = ?\n",
    "probabilidade = stats.f.sf(1.5,grau_de_liberade_numerador, grau_de_liberdade_denominador)*100\n",
    "print('probabilidade = %.2f' % probabilidade)"
   ]
  },
  {
   "cell_type": "code",
   "execution_count": 197,
   "metadata": {},
   "outputs": [
    {
     "data": {
      "image/png": "[encoded data removed]",
      "text/plain": [
       "<Figure size 720x360 with 1 Axes>"
      ]
     },
     "metadata": {},
     "output_type": "display_data"
    }
   ],
   "source": [
    "fig, ax = plt.subplots(1, 1, figsize=(10,5))\n",
    "\n",
    "x = np.linspace(0, 3, 1000)\n",
    "ax.plot(x, stats.f.pdf(x, grau_de_liberade_numerador, grau_de_liberdade_denominador), 'r-', lw=5, alpha=0.6, label='F Snedecor pdf')\n",
    "\n",
    "x_fill = np.linspace(1.5, 3, 1000)\n",
    "ax.fill_between(x_fill, stats.f.pdf(x_fill, grau_de_liberade_numerador, grau_de_liberdade_denominador), color ='g', alpha=0.4)\n",
    "\n",
    "ax.legend(loc='best', frameon=False)\n",
    "plt.show()"
   ]
  },
  {
   "cell_type": "markdown",
   "metadata": {},
   "source": [
    "b) A probabilidade de que encontre X < 1,0. "
   ]
  },
  {
   "cell_type": "code",
   "execution_count": 198,
   "metadata": {},
   "outputs": [
    {
     "name": "stdout",
     "output_type": "stream",
     "text": [
      "probabilidade = 0.5142\n"
     ]
    }
   ],
   "source": [
    "# P(X < 1.0) = ?\n",
    "probabilidade = stats.f.cdf(1.0,grau_de_liberade_numerador, grau_de_liberdade_denominador)\n",
    "print('probabilidade = %.4f' % probabilidade)"
   ]
  },
  {
   "cell_type": "code",
   "execution_count": 199,
   "metadata": {},
   "outputs": [
    {
     "data": {
      "image/png": "[encoded data removed]",
      "text/plain": [
       "<Figure size 720x360 with 1 Axes>"
      ]
     },
     "metadata": {},
     "output_type": "display_data"
    }
   ],
   "source": [
    "fig, ax = plt.subplots(1, 1, figsize=(10,5))\n",
    "\n",
    "x = np.linspace(0, 3, 1000)\n",
    "ax.plot(x, stats.f.pdf(x, grau_de_liberade_numerador, grau_de_liberdade_denominador), 'r-', lw=5, alpha=0.6, label='F Snedecor pdf')\n",
    "\n",
    "x_fill = np.linspace(0, 1, 1000)\n",
    "ax.fill_between(x_fill, stats.f.pdf(x_fill, grau_de_liberade_numerador, grau_de_liberdade_denominador), color ='g', alpha=0.4)\n",
    "\n",
    "ax.legend(loc='best', frameon=False)\n",
    "plt.show()"
   ]
  },
  {
   "cell_type": "markdown",
   "metadata": {},
   "source": [
    "c) A probabilidade de que encontre 2<X<3. "
   ]
  },
  {
   "cell_type": "code",
   "execution_count": 200,
   "metadata": {},
   "outputs": [
    {
     "name": "stdout",
     "output_type": "stream",
     "text": [
      "prob_superior = 0.9951\n",
      "prob_inferior = 0.9496\n",
      "probabilidade = 0.0455\n"
     ]
    }
   ],
   "source": [
    "# P(X > 2) = ? e P(X < 3) = ?\n",
    "prob_inferior = stats.f.cdf(2, grau_de_liberade_numerador, grau_de_liberdade_denominador)\n",
    "prob_superior = stats.f.cdf(3, grau_de_liberade_numerador, grau_de_liberdade_denominador)\n",
    "probabilidade = prob_superior - prob_inferior\n",
    "print('prob_superior = %.4f' % prob_superior)\n",
    "print('prob_inferior = %.4f' % prob_inferior)\n",
    "print('probabilidade = %.4f' % probabilidade)"
   ]
  },
  {
   "cell_type": "code",
   "execution_count": 201,
   "metadata": {},
   "outputs": [
    {
     "data": {
      "image/png": "[encoded data removed]",
      "text/plain": [
       "<Figure size 720x360 with 1 Axes>"
      ]
     },
     "metadata": {},
     "output_type": "display_data"
    }
   ],
   "source": [
    "fig, ax = plt.subplots(1, 1, figsize=(10,5))\n",
    "\n",
    "x = np.linspace(0, 4, 1000)\n",
    "ax.plot(x, stats.f.pdf(x, grau_de_liberade_numerador, grau_de_liberdade_denominador), 'r-', lw=5, alpha=0.6, label='F Snedecor pdf')\n",
    "\n",
    "x_fill = np.linspace(2, 3, 1000)\n",
    "ax.fill_between(x_fill, stats.f.pdf(x_fill, grau_de_liberade_numerador, grau_de_liberdade_denominador), color ='g', alpha=0.4)\n",
    "\n",
    "ax.legend(loc='best', frameon=False)\n",
    "plt.show()"
   ]
  },
  {
   "cell_type": "markdown",
   "metadata": {},
   "source": [
    "d) O valor de F para que P(X>x) = 5%. "
   ]
  },
  {
   "cell_type": "code",
   "execution_count": 202,
   "metadata": {},
   "outputs": [
    {
     "name": "stdout",
     "output_type": "stream",
     "text": [
      "f = 2.0030\n"
     ]
    }
   ],
   "source": [
    "# P(X>x) = 0.05\n",
    "f_ = stats.f.ppf(0.95, grau_de_liberade_numerador, grau_de_liberdade_denominador)\n",
    "print('f = %.4f' % f_ )"
   ]
  },
  {
   "cell_type": "code",
   "execution_count": 203,
   "metadata": {},
   "outputs": [
    {
     "data": {
      "image/png": "[encoded data removed]",
      "text/plain": [
       "<Figure size 720x360 with 1 Axes>"
      ]
     },
     "metadata": {},
     "output_type": "display_data"
    }
   ],
   "source": [
    "fig, ax = plt.subplots(1, 1, figsize=(10,5))\n",
    "\n",
    "x = np.linspace(0, 4, 1000)\n",
    "ax.plot(x, stats.f.pdf(x, grau_de_liberade_numerador, grau_de_liberdade_denominador), 'r-', lw=5, alpha=0.6, label='F Snedecor pdf')\n",
    "\n",
    "x_fill = np.linspace(f_, 4, 1000)\n",
    "ax.fill_between(x_fill, stats.f.pdf(x_fill, grau_de_liberade_numerador, grau_de_liberdade_denominador), color ='g', alpha=0.4)\n",
    "\n",
    "ax.legend(loc='best', frameon=False)\n",
    "plt.show()"
   ]
  },
  {
   "cell_type": "markdown",
   "metadata": {},
   "source": [
    "# <font color=green\\> Testes de Hipóteses <font>"
   ]
  },
  {
   "cell_type": "code",
   "execution_count": null,
   "metadata": {},
   "outputs": [],
   "source": []
  },
  {
   "cell_type": "code",
   "execution_count": null,
   "metadata": {},
   "outputs": [],
   "source": []
  },
  {
   "cell_type": "markdown",
   "metadata": {},
   "source": [
    "### <font color=green\\> Teste Bilateral (bicaudal) <font>"
   ]
  },
  {
   "cell_type": "code",
   "execution_count": null,
   "metadata": {},
   "outputs": [],
   "source": []
  },
  {
   "cell_type": "code",
   "execution_count": null,
   "metadata": {},
   "outputs": [],
   "source": []
  },
  {
   "cell_type": "markdown",
   "metadata": {},
   "source": [
    "### <font color=green\\> Teste Unilateral à Esquerda <font>"
   ]
  },
  {
   "cell_type": "code",
   "execution_count": null,
   "metadata": {},
   "outputs": [],
   "source": []
  },
  {
   "cell_type": "code",
   "execution_count": null,
   "metadata": {},
   "outputs": [],
   "source": []
  },
  {
   "cell_type": "markdown",
   "metadata": {},
   "source": [
    "### <font color=green\\> Teste Unilateral à Direita <font>"
   ]
  },
  {
   "cell_type": "code",
   "execution_count": null,
   "metadata": {},
   "outputs": [],
   "source": []
  },
  {
   "cell_type": "code",
   "execution_count": null,
   "metadata": {},
   "outputs": [],
   "source": []
  },
  {
   "cell_type": "markdown",
   "metadata": {},
   "source": [
    "### <font color=green\\> Tipos de erros <font>"
   ]
  },
  {
   "cell_type": "code",
   "execution_count": null,
   "metadata": {},
   "outputs": [],
   "source": []
  },
  {
   "cell_type": "code",
   "execution_count": null,
   "metadata": {},
   "outputs": [],
   "source": []
  },
  {
   "cell_type": "markdown",
   "metadata": {},
   "source": [
    "### <font color=green\\> Significância do teste <font>"
   ]
  },
  {
   "cell_type": "code",
   "execution_count": null,
   "metadata": {},
   "outputs": [],
   "source": []
  },
  {
   "cell_type": "code",
   "execution_count": null,
   "metadata": {},
   "outputs": [],
   "source": []
  },
  {
   "cell_type": "markdown",
   "metadata": {},
   "source": [
    "### <font color=green\\> P-valor e nível de significância <font>"
   ]
  },
  {
   "cell_type": "code",
   "execution_count": null,
   "metadata": {},
   "outputs": [],
   "source": []
  },
  {
   "cell_type": "code",
   "execution_count": null,
   "metadata": {},
   "outputs": [],
   "source": []
  },
  {
   "cell_type": "markdown",
   "metadata": {},
   "source": [
    "### <font color=green\\> Teste Z para médias de uma amostra <font>"
   ]
  },
  {
   "cell_type": "markdown",
   "metadata": {},
   "source": [
    "**Exercício** - Um fabricante de caixas de papelão deseja verificar se a quantidade de papelão que está sendo utilizada em cada caixa do tipo 1 está de acordo com seu padrão histórico, pois existem indícios de que o consumo aumentou. Historicamente, são utilizados, em média, 100 g de papelão em cada caixa e o desvio padrão é de 12g. Coletou-se uma amostra para verificar se a média atual é maior do que a média histórica."
   ]
  },
  {
   "cell_type": "code",
   "execution_count": 206,
   "metadata": {},
   "outputs": [],
   "source": [
    "amostra = pd.read_excel('Planilha Suporte - Introdução Estatística (Final).xlsx', sheet_name='Teste Z Médias' ,usecols='A',  engine=\"openpyxl\")"
   ]
  },
  {
   "cell_type": "code",
   "execution_count": 259,
   "metadata": {},
   "outputs": [
    {
     "name": "stdout",
     "output_type": "stream",
     "text": [
      "quantidade de observações: 40\n",
      "média da amostra: 104.08\n",
      "desvio padrão da amostra: 4.29\n"
     ]
    }
   ],
   "source": [
    "# Dados da amostra\n",
    "amostra.dropna(inplace=True)\n",
    "amostra.rename(columns = {'Quantidade (g)':'quantidade'}, inplace=True)\n",
    "\n",
    "qtd_observacoes = np.array(amostra.count())\n",
    "media_amostra = np.array(amostra.mean())\n",
    "desvio_amostra = np.array(amostra.std())\n",
    "\n",
    "print('quantidade de observações: %.d' % qtd_observacoes)\n",
    "print('média da amostra: %.2f' % media_amostra)\n",
    "print('desvio padrão da amostra: %.2f' % desvio_amostra)"
   ]
  },
  {
   "cell_type": "code",
   "execution_count": 260,
   "metadata": {},
   "outputs": [],
   "source": [
    "# Valores históricos\n",
    "media_hist = 100\n",
    "desvio_hist = 12"
   ]
  },
  {
   "cell_type": "code",
   "execution_count": 261,
   "metadata": {},
   "outputs": [],
   "source": [
    "significancia = 0.05"
   ]
  },
  {
   "cell_type": "markdown",
   "metadata": {},
   "source": [
    "> **Teste de hipóteses**  \n",
    "H0: as médias são iguais   \n",
    "H1: a média atual é maior que a média histórica"
   ]
  },
  {
   "cell_type": "code",
   "execution_count": 271,
   "metadata": {},
   "outputs": [
    {
     "name": "stdout",
     "output_type": "stream",
     "text": [
      "z = 2.1477\n"
     ]
    }
   ],
   "source": [
    "z = (media_amostra - media_hist)/(desvio_hist/np.sqrt(qtd_observacoes))\n",
    "print('z = %.4f' % z)"
   ]
  },
  {
   "cell_type": "code",
   "execution_count": 264,
   "metadata": {},
   "outputs": [],
   "source": [
    "from scipy.stats import norm"
   ]
  },
  {
   "cell_type": "code",
   "execution_count": 272,
   "metadata": {},
   "outputs": [
    {
     "name": "stdout",
     "output_type": "stream",
     "text": [
      "p = 0.0159\n"
     ]
    }
   ],
   "source": [
    "p_valor = stats.norm.sf(z)\n",
    "print('p = %.4f' % p_valor)"
   ]
  },
  {
   "cell_type": "code",
   "execution_count": 273,
   "metadata": {},
   "outputs": [
    {
     "name": "stdout",
     "output_type": "stream",
     "text": [
      "z_critico = 1.6449\n"
     ]
    }
   ],
   "source": [
    "z_critico = stats.norm.ppf(0.95)\n",
    "print('z_critico = %.4f' % z_critico)"
   ]
  },
  {
   "cell_type": "code",
   "execution_count": 275,
   "metadata": {},
   "outputs": [
    {
     "name": "stdout",
     "output_type": "stream",
     "text": [
      "Rejeitar H0\n"
     ]
    }
   ],
   "source": [
    "if z >= z_critico:\n",
    "    print('Rejeitar H0')\n",
    "else:\n",
    "    print('Não rejeitar H0')"
   ]
  },
  {
   "cell_type": "markdown",
   "metadata": {},
   "source": [
    "### <font color=green\\> Teste t para médias de uma amostra <font>"
   ]
  },
  {
   "cell_type": "markdown",
   "metadata": {},
   "source": [
    "**Exercício** - O tempo médio de processamento de determinada tarefa em uma\n",
    "máquina tem sido de 18 minutos. Foram introduzidos novos conceitos para\n",
    "reduzir o tempo médio de processamento. Desta forma, após certo período,\n",
    "coletou-se uma amostra de 25 elementos, obtendo-se o tempo médio de\n",
    "16,808 minutos com desvio-padrão de 2,733 minutos. Verifique se esse\n",
    "resultado evidencia uma melhora no tempo médio de processamento.\n",
    "Considere α = 1%. (Fonte: Fávero e Belfiore, 2017, Cap. 7)"
   ]
  },
  {
   "cell_type": "code",
   "execution_count": 276,
   "metadata": {},
   "outputs": [],
   "source": [
    "# população\n",
    "media_hist = 18\n",
    "\n",
    "# amostra\n",
    "n = 25\n",
    "media_amostra = 16.808\n",
    "desvio = 2.733\n",
    "\n",
    "significancia = 0.01\n",
    "confianca = 1 - 0.01"
   ]
  },
  {
   "cell_type": "markdown",
   "metadata": {},
   "source": [
    "> **Teste de hipótese**  \n",
    "H0: o tempo médio de processamento da amostra é igual ao tempo médio histórico  \n",
    "H1: o tempo médio de processamenta da amostra é igual ou menor que ao tempo médio histórico"
   ]
  },
  {
   "cell_type": "code",
   "execution_count": 301,
   "metadata": {},
   "outputs": [
    {
     "name": "stdout",
     "output_type": "stream",
     "text": [
      "t = -2.1808\n"
     ]
    }
   ],
   "source": [
    "# Padronizar a média da amostra \n",
    "t = (media_amostra - media_hist)/(desvio/np.sqrt(n))\n",
    "print('t = %.4f' % t)"
   ]
  },
  {
   "cell_type": "code",
   "execution_count": 280,
   "metadata": {},
   "outputs": [],
   "source": [
    "from scipy.stats import t as t_student"
   ]
  },
  {
   "cell_type": "code",
   "execution_count": 299,
   "metadata": {},
   "outputs": [
    {
     "name": "stdout",
     "output_type": "stream",
     "text": [
      "p = 0.0196\n"
     ]
    }
   ],
   "source": [
    "# Valor p\n",
    "p_valor = t_student.cdf(t,df=n-1)\n",
    "print('p = %.4f' % p_valor)"
   ]
  },
  {
   "cell_type": "code",
   "execution_count": 303,
   "metadata": {},
   "outputs": [
    {
     "name": "stdout",
     "output_type": "stream",
     "text": [
      "t_alfa = -2.4922\n"
     ]
    }
   ],
   "source": [
    "# valor crítico t_alfa\n",
    "t_alfa = t_student.ppf(0.01, n-1)\n",
    "print('t_alfa = %.4f' % t_alfa)"
   ]
  },
  {
   "cell_type": "code",
   "execution_count": 298,
   "metadata": {},
   "outputs": [
    {
     "name": "stdout",
     "output_type": "stream",
     "text": [
      "Rejeito H0\n"
     ]
    }
   ],
   "source": [
    "# teste\n",
    "if abs(t_alfa) >= abs(t):\n",
    "    print('Rejeito H0')\n",
    "else:\n",
    "    print('Não rejeito H0')"
   ]
  },
  {
   "cell_type": "markdown",
   "metadata": {},
   "source": [
    "### <font color=green\\> Teste t para correlações <font>"
   ]
  },
  {
   "cell_type": "markdown",
   "metadata": {},
   "source": [
    "Teste já realizado anteriormente em correlações"
   ]
  },
  {
   "cell_type": "markdown",
   "metadata": {},
   "source": [
    "### <font color=green\\> Teste qui-quadrado para uma amostra <font>"
   ]
  },
  {
   "cell_type": "markdown",
   "metadata": {},
   "source": [
    "**Exemplo** - Uma loja deseja verificar se a quantidade vendida em cada dia da\n",
    "semana varia em função do dia da semana. Os dados para as vendas em cada\n",
    "dia de uma semana escolhida aleatoriamente foram tabulados. Neste caso, o\n",
    "objetivo é testar se a frequência observada e esperada são iguais ou se são\n",
    "diferentes. (Fonte: Fávero e Belfiore, 2017, Cap. 8)"
   ]
  },
  {
   "cell_type": "code",
   "execution_count": 304,
   "metadata": {},
   "outputs": [],
   "source": [
    "F_O = [35,24,27,32,25,36,31]\n",
    "F_E = [30,30,30,30,30,30,30]"
   ]
  },
  {
   "cell_type": "code",
   "execution_count": 306,
   "metadata": {},
   "outputs": [],
   "source": [
    "n_obs = len(F_O)"
   ]
  },
  {
   "cell_type": "markdown",
   "metadata": {},
   "source": [
    "> **Teste de hipótese**  \n",
    "H0: frequência observada é igual a frequência esperada  \n",
    "H1: frequência observada é diferent da frequência esperada"
   ]
  },
  {
   "cell_type": "code",
   "execution_count": 305,
   "metadata": {},
   "outputs": [],
   "source": [
    "from scipy.stats import chisquare"
   ]
  },
  {
   "cell_type": "code",
   "execution_count": 334,
   "metadata": {},
   "outputs": [
    {
     "name": "stdout",
     "output_type": "stream",
     "text": [
      "chi_quadrado = 4.5333\n",
      "p_valor = 0.6049\n"
     ]
    }
   ],
   "source": [
    "chisq, p_valor = chisquare(F_O, F_E)\n",
    "print('chi_quadrado = %.4f' % chisq)\n",
    "print('p_valor = %.4f' % p_valor)"
   ]
  },
  {
   "cell_type": "code",
   "execution_count": 311,
   "metadata": {},
   "outputs": [],
   "source": [
    "from scipy.stats import chi2"
   ]
  },
  {
   "cell_type": "code",
   "execution_count": 335,
   "metadata": {},
   "outputs": [
    {
     "name": "stdout",
     "output_type": "stream",
     "text": [
      "valor crítico = 12.5916\n"
     ]
    }
   ],
   "source": [
    "# valor crítico\n",
    "valor_critico = chi2.ppf(0.95, df=n_obs-1)\n",
    "print('valor crítico = %.4f' % valor_critico)"
   ]
  },
  {
   "cell_type": "code",
   "execution_count": 339,
   "metadata": {},
   "outputs": [
    {
     "name": "stdout",
     "output_type": "stream",
     "text": [
      "Não rejeito H0\n"
     ]
    }
   ],
   "source": [
    "if chisq >= valor_critico:\n",
    "    print('Rejeito H0')\n",
    "else:\n",
    "    print('Não rejeito H0')"
   ]
  },
  {
   "cell_type": "markdown",
   "metadata": {},
   "source": [
    "### <font color=green\\> Teste F para comparação de variâncias <font>"
   ]
  },
  {
   "cell_type": "markdown",
   "metadata": {},
   "source": [
    "**Exercício** - Uma empresa de logística está analisando qual entre duas rotas\n",
    "oferece a melhor previsibilidade para o horário de entrega ao seu maior\n",
    "cliente. Foram coletados dados sobre o tempo de entrega durante 35 dias\n",
    "para cada rota. O diretor de logística deseja testar a hipótese que a rota B tem\n",
    "maior variabilidade no tempo de entrega, comparativamente à rota A."
   ]
  },
  {
   "cell_type": "markdown",
   "metadata": {},
   "source": [
    "> **Teste de hipótese**  \n",
    "H0: as variâncias são iguais  \n",
    "H1: a variância da rota B é maior que a variância da rota A"
   ]
  },
  {
   "cell_type": "code",
   "execution_count": 340,
   "metadata": {},
   "outputs": [],
   "source": [
    "# import da base\n",
    "dados = pd.read_excel('Planilha Suporte - Introdução Estatística (Final).xlsx', sheet_name='Teste F Variâncias' ,usecols='A:B',  engine=\"openpyxl\", nrows=36)"
   ]
  },
  {
   "cell_type": "code",
   "execution_count": 342,
   "metadata": {},
   "outputs": [],
   "source": [
    "dados.dropna(inplace=True)"
   ]
  },
  {
   "cell_type": "code",
   "execution_count": 344,
   "metadata": {},
   "outputs": [],
   "source": [
    "# Rota A\n",
    "media_A = dados['Rota A'].mean()\n",
    "desvio_A = dados['Rota A'].std()\n",
    "\n",
    "# Rota B\n",
    "media_B = dados['Rota B'].mean()\n",
    "desvio_B = dados['Rota B'].std()"
   ]
  },
  {
   "cell_type": "code",
   "execution_count": 346,
   "metadata": {},
   "outputs": [
    {
     "name": "stdout",
     "output_type": "stream",
     "text": [
      "media A: 117.6286\n",
      "desvio A: 10.4995\n"
     ]
    }
   ],
   "source": [
    "print('media A: %.4f\\ndesvio A: %.4f' % (media_A, desvio_A))"
   ]
  },
  {
   "cell_type": "code",
   "execution_count": 347,
   "metadata": {},
   "outputs": [
    {
     "name": "stdout",
     "output_type": "stream",
     "text": [
      "media B: 101.2286\n",
      "desvio B: 16.3223\n"
     ]
    }
   ],
   "source": [
    "print('media B: %.4f\\ndesvio B: %.4f' % (media_B, desvio_B))"
   ]
  },
  {
   "cell_type": "code",
   "execution_count": 350,
   "metadata": {},
   "outputs": [],
   "source": [
    "n_obs = 35\n",
    "significancia = 0.05"
   ]
  },
  {
   "cell_type": "code",
   "execution_count": 345,
   "metadata": {},
   "outputs": [],
   "source": [
    "from scipy.stats import f"
   ]
  },
  {
   "cell_type": "code",
   "execution_count": 349,
   "metadata": {},
   "outputs": [
    {
     "name": "stdout",
     "output_type": "stream",
     "text": [
      "f = 2.4167\n"
     ]
    }
   ],
   "source": [
    "# Estatística F\n",
    "f_ = (desvio_B**2)/(desvio_A**2)\n",
    "print('f = %.4f' % f_)"
   ]
  },
  {
   "cell_type": "code",
   "execution_count": 364,
   "metadata": {},
   "outputs": [
    {
     "name": "stdout",
     "output_type": "stream",
     "text": [
      "p-valor = 0.00596\n"
     ]
    }
   ],
   "source": [
    "p_valor = f.sf(f_, dfn = n_obs-1, dfd = n_obs-1)\n",
    "print('p-valor = %.5f' % p_valor)"
   ]
  },
  {
   "cell_type": "code",
   "execution_count": 367,
   "metadata": {},
   "outputs": [
    {
     "name": "stdout",
     "output_type": "stream",
     "text": [
      "f crítico = 1.7721\n"
     ]
    }
   ],
   "source": [
    "# valor crítico\n",
    "valor_critico = f.ppf(0.95, dfn= n_obs - 1,dfd=n_obs - 1)\n",
    "print('f crítico = %.4f' % valor_critico)"
   ]
  },
  {
   "cell_type": "code",
   "execution_count": 369,
   "metadata": {},
   "outputs": [
    {
     "name": "stdout",
     "output_type": "stream",
     "text": [
      "Rejeito H0\n"
     ]
    }
   ],
   "source": [
    "if valor_critico <= f_:\n",
    "    print('Rejeito H0')\n",
    "else:\n",
    "    print('Não rejeito H0')"
   ]
  },
  {
   "cell_type": "code",
   "execution_count": 371,
   "metadata": {},
   "outputs": [
    {
     "name": "stdout",
     "output_type": "stream",
     "text": [
      "Rejeito H0\n"
     ]
    }
   ],
   "source": [
    "if p_valor <= significancia:\n",
    "    print('Rejeito H0')\n",
    "else:\n",
    "    print('Não rejeito H0')"
   ]
  }
 ],
 "metadata": {
  "kernelspec": {
   "display_name": "Python 3",
   "language": "python",
   "name": "python3"
  },
  "language_info": {
   "codemirror_mode": {
    "name": "ipython",
    "version": 3
   },
   "file_extension": ".py",
   "mimetype": "text/x-python",
   "name": "python",
   "nbconvert_exporter": "python",
   "pygments_lexer": "ipython3",
   "version": "3.8.8"
  },
  "toc-autonumbering": false,
  "toc-showmarkdowntxt": false
 },
 "nbformat": 4,
 "nbformat_minor": 4
}
